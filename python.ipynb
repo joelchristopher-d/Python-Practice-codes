{
 "cells": [
  {
   "cell_type": "code",
   "execution_count": 4,
   "metadata": {},
   "outputs": [
    {
     "name": "stdout",
     "output_type": "stream",
     "text": [
      "3\n",
      "f\n",
      "5\n",
      "h\n",
      "9\n",
      "j\n",
      "9.5\n",
      "[['f', 5.0], ['h', 9.0], ['j', 9.5]]\n"
     ]
    }
   ],
   "source": [
    "if __name__ == '__main__':\n",
    "    l1=[]\n",
    "    l2=[]\n",
    "    for _ in range(int(input())):\n",
    "        name = input()\n",
    "        score = float(input())\n",
    "        l1.append(name)\n",
    "        l1.append(score)\n",
    "        l2.append(l1)\n",
    "        l1=[]\n",
    "    for i in range(len(l2)-1):\n",
    "#        print(l2[i])\n",
    "        for j in range(len(l2)-1):\n",
    "\n",
    "\n",
    "            if l2[j][1]>l2[j+1][1]:\n",
    "                l2[j],l2[j+1]=l2[j+1],l2[j]\n",
    "    print(l2)\n",
    "    mini=l2[0]\n",
    "    for i,j in l2:\n",
    "        if i!=mini:\n",
    "            sec=i\n",
    "            break\n",
    "    l=[]\n",
    "\n",
    "    for i,j in l2:\n",
    "        if sec==j:\n",
    "            l.append(i)\n",
    "    for i in sorted(l):\n",
    "        print(i)\n",
    "\n",
    "\n",
    "\n",
    "# 5\n",
    "# Harsh\n",
    "# 20\n",
    "# Beria\n",
    "# 20\n",
    "# Varun\n",
    "# 19\n",
    "# Kakunami\n",
    "# 19\n",
    "# Vikas\n",
    "# 21\n",
    "    "
   ]
  },
  {
   "cell_type": "markdown",
   "metadata": {},
   "source": [
    "## "
   ]
  },
  {
   "cell_type": "code",
   "execution_count": 16,
   "metadata": {},
   "outputs": [
    {
     "ename": "IndentationError",
     "evalue": "expected an indented block (<ipython-input-16-9f35e07fd846>, line 20)",
     "output_type": "error",
     "traceback": [
      "\u001b[1;36m  File \u001b[1;32m\"<ipython-input-16-9f35e07fd846>\"\u001b[1;36m, line \u001b[1;32m20\u001b[0m\n\u001b[1;33m    minim=l2[j][1]\u001b[0m\n\u001b[1;37m    ^\u001b[0m\n\u001b[1;31mIndentationError\u001b[0m\u001b[1;31m:\u001b[0m expected an indented block\n"
     ]
    }
   ],
   "source": [
    "if __name__ == '__main__':\n",
    "    l1=[]\n",
    "    l2=[]\n",
    "    for _ in range(int(input())):\n",
    "        name = input()\n",
    "        score = float(input())\n",
    "        l1.append(name)\n",
    "        l1.append(score)\n",
    "        l2.append(l1)\n",
    "        l1=[]\n",
    "for i in range(len(l2)-1):\n",
    "#     print(l2[i])\n",
    "    if l2[i][1]>l2[i+1][1]:\n",
    "        l2[i],l2[i+1]=l2[i+1],l2[i]\n",
    "print(l2)\n",
    "min(l2)\n",
    "minim=0\n",
    "for j in range(len(l2)-1):\n",
    "    if l2[0][1]!=l2[j][1]:\n",
    "        minim=l2[j][1]\n",
    "        break\n",
    "print(minim)\n"
   ]
  },
  {
   "cell_type": "code",
   "execution_count": 5,
   "metadata": {},
   "outputs": [
    {
     "name": "stdout",
     "output_type": "stream",
     "text": [
      "0\n",
      "1\n",
      "2\n",
      "[1, 1]\n"
     ]
    }
   ],
   "source": [
    "a=[1,2,3]\n",
    "b=[3,2,1]\n",
    "x=0\n",
    "y=0\n",
    "l=[]\n",
    "\n",
    "for i in range(len(a)):\n",
    "    print(i)\n",
    "    if a[i]==b[i]:\n",
    "        pass\n",
    "    else:\n",
    "        if a[i]>b[i]:\n",
    "            x+=1\n",
    "        else:\n",
    "            y+=1\n",
    "l.append(x)\n",
    "l.append(y)\n",
    "print(l)\n",
    "\n",
    "\n",
    "\n"
   ]
  },
  {
   "cell_type": "code",
   "execution_count": 7,
   "metadata": {},
   "outputs": [
    {
     "name": "stdout",
     "output_type": "stream",
     "text": [
      "3\n",
      "1 2 3\n",
      "4 5 6\n",
      "1 4 5 \n",
      "[[1, 2, 3], [4, 5, 6], [1, 4, 5]]\n"
     ]
    }
   ],
   "source": [
    "n = int(input().strip())\n",
    "arr = []\n",
    "for _ in range(n):\n",
    "    arr.append(list(map(int, input().rstrip().split())))\n",
    "print(arr)\n",
    "for i in arr:\n",
    "    if "
   ]
  },
  {
   "cell_type": "code",
   "execution_count": 18,
   "metadata": {},
   "outputs": [
    {
     "name": "stdout",
     "output_type": "stream",
     "text": [
      "1\n",
      "2\n",
      "3\n"
     ]
    }
   ],
   "source": [
    "l=[1,1,2,2,3,4,5,6]\n",
    "mini=l[0]\n",
    "print(mini)\n",
    "\n",
    "\n",
    "for i in l:\n",
    "    if i!=mini:\n",
    "        sec=i\n",
    "        break\n",
    "print(sec)        \n",
    "for i in l:\n",
    "    if i!=mini and i!=sec:\n",
    "        thr=i\n",
    "        break\n",
    "        \n",
    "        \n",
    "print(thr)      "
   ]
  },
  {
   "cell_type": "code",
   "execution_count": 27,
   "metadata": {},
   "outputs": [
    {
     "name": "stdout",
     "output_type": "stream",
     "text": [
      "[['Tina', 37.2], ['Harry', 37.21], ['Berry', 37.21], ['Harsh', 39], ['Akriti', 41]]\n",
      "['Tina', 37.2]\n",
      "37.21\n",
      "Berry\n",
      "Harry\n"
     ]
    }
   ],
   "source": [
    "l2= [['Harry', 37.21], ['Berry', 37.21], ['Tina', 37.2], ['Akriti', 41], ['Harsh', 39]]\n",
    "for i in range(len(l2)-1):\n",
    "#        print(l2[i])\n",
    "    for j in range(len(l2)-1):\n",
    "\n",
    "\n",
    "        if l2[j][1]>l2[j+1][1]:\n",
    "            l2[j],l2[j+1]=l2[j+1],l2[j]\n",
    "print(l2)\n",
    "mini=l2[0]\n",
    "print(mini)\n",
    "# sec=0\n",
    "for i,j in l2:\n",
    "#     print(j)\n",
    "    if mini[1]!=j:\n",
    "        sec=j\n",
    "        break\n",
    "print(sec)\n",
    "l=[]\n",
    "\n",
    "for i,j in l2:\n",
    "    if sec==j:\n",
    "        l.append(i)\n",
    "for i in sorted(l):\n",
    "    print(i)\n"
   ]
  },
  {
   "cell_type": "code",
   "execution_count": 53,
   "metadata": {},
   "outputs": [
    {
     "name": "stdout",
     "output_type": "stream",
     "text": [
      "(0, 1, 2, 3, 4, 5, 6, 7, 8, 9, 10, 11, 12, 13, 14)\n",
      "[0, 1, 4, 9, 16, 25, 36, 49, 64, 81, 100, 121, 144, 169, 196]\n"
     ]
    }
   ],
   "source": [
    "n=tuple(range(15))\n",
    "print(n)\n",
    "x=list(map(lambda i:i**2,n))\n",
    "print(x)"
   ]
  },
  {
   "cell_type": "code",
   "execution_count": 36,
   "metadata": {},
   "outputs": [
    {
     "name": "stdout",
     "output_type": "stream",
     "text": [
      "('apple', 'banana', 'cherry', 'orange', 'lemon', 'pineapple')\n",
      "['apple', 'banana', 'cherry', 'orange', 'lemon', 'pineapple']\n"
     ]
    }
   ],
   "source": [
    "def myfunc(a, b):\n",
    "  return a + b\n",
    "\n",
    "x = myfunc(('apple', 'banana', 'cherry'), ('orange', 'lemon', 'pineapple'))\n",
    "\n",
    "print(x)\n",
    "\n",
    "#convert the map into a list, for readability:\n",
    "print(list(x))\n"
   ]
  },
  {
   "cell_type": "code",
   "execution_count": 41,
   "metadata": {},
   "outputs": [
    {
     "ename": "TypeError",
     "evalue": "type list doesn't define __round__ method",
     "output_type": "error",
     "traceback": [
      "\u001b[1;31m---------------------------------------------------------------------------\u001b[0m",
      "\u001b[1;31mTypeError\u001b[0m                                 Traceback (most recent call last)",
      "\u001b[1;32m<ipython-input-41-4db1781ffce7>\u001b[0m in \u001b[0;36m<module>\u001b[1;34m\u001b[0m\n\u001b[0;32m      1\u001b[0m \u001b[0mmy_list\u001b[0m \u001b[1;33m=\u001b[0m \u001b[1;33m[\u001b[0m\u001b[1;36m2.6743\u001b[0m\u001b[1;33m,\u001b[0m\u001b[1;36m3.63526\u001b[0m\u001b[1;33m,\u001b[0m\u001b[1;36m4.2325\u001b[0m\u001b[1;33m,\u001b[0m\u001b[1;36m5.9687967\u001b[0m\u001b[1;33m,\u001b[0m\u001b[1;36m6.3265\u001b[0m\u001b[1;33m,\u001b[0m\u001b[1;36m7.6988\u001b[0m\u001b[1;33m,\u001b[0m\u001b[1;36m8.232\u001b[0m\u001b[1;33m,\u001b[0m\u001b[1;36m9.6907\u001b[0m\u001b[1;33m]\u001b[0m\u001b[1;33m\u001b[0m\u001b[1;33m\u001b[0m\u001b[0m\n\u001b[1;32m----> 2\u001b[1;33m \u001b[0mupdated_list\u001b[0m \u001b[1;33m=\u001b[0m \u001b[0mround\u001b[0m\u001b[1;33m(\u001b[0m\u001b[0mmy_list\u001b[0m\u001b[1;33m)\u001b[0m\u001b[1;33m\u001b[0m\u001b[1;33m\u001b[0m\u001b[0m\n\u001b[0m",
      "\u001b[1;31mTypeError\u001b[0m: type list doesn't define __round__ method"
     ]
    }
   ],
   "source": [
    "my_list = [2.6743,3.63526,4.2325,5.9687967,6.3265,7.6988,8.232,9.6907]\n",
    "updated_list = round(my_list)"
   ]
  },
  {
   "cell_type": "code",
   "execution_count": 116,
   "metadata": {},
   "outputs": [
    {
     "name": "stdout",
     "output_type": "stream",
     "text": [
      "20000\n"
     ]
    }
   ],
   "source": [
    "x= lambda a:a*10000\n",
    "print(x(2))"
   ]
  },
  {
   "cell_type": "code",
   "execution_count": 52,
   "metadata": {},
   "outputs": [
    {
     "name": "stdout",
     "output_type": "stream",
     "text": [
      "2\n",
      "10\n"
     ]
    }
   ],
   "source": [
    "# Example of lambda function using if-else\n",
    "max = lambda a, b : a if(a > b) else b\n",
    "\n",
    "print(max(2, 1))\n",
    "print(max(10, 2))\n"
   ]
  },
  {
   "cell_type": "code",
   "execution_count": 121,
   "metadata": {},
   "outputs": [
    {
     "name": "stdout",
     "output_type": "stream",
     "text": [
      "[2, 4]\n"
     ]
    }
   ],
   "source": [
    "l=[2.3,4.5]\n",
    "even=list(map(lambda l:round(l),l))\n",
    "print(even)"
   ]
  },
  {
   "cell_type": "code",
   "execution_count": 3,
   "metadata": {},
   "outputs": [
    {
     "data": {
      "text/plain": [
       "-3"
      ]
     },
     "execution_count": 3,
     "metadata": {},
     "output_type": "execute_result"
    }
   ],
   "source": [
    "~(2)"
   ]
  },
  {
   "cell_type": "code",
   "execution_count": 5,
   "metadata": {},
   "outputs": [
    {
     "name": "stdout",
     "output_type": "stream",
     "text": [
      "jo\n",
      "kk\n",
      "mm\n",
      "{0: 'jo', 1: 'kk', 2: 'mm'}\n"
     ]
    }
   ],
   "source": [
    "d={}\n",
    "for i in range(3):\n",
    "    d[i]=input(\"\")\n",
    "print(d)    "
   ]
  },
  {
   "cell_type": "code",
   "execution_count": 2,
   "metadata": {},
   "outputs": [
    {
     "data": {
      "text/plain": [
       "True"
      ]
     },
     "execution_count": 2,
     "metadata": {},
     "output_type": "execute_result"
    }
   ],
   "source": [
    "(a :=5,10) == ((a :=5),10)"
   ]
  },
  {
   "cell_type": "code",
   "execution_count": 4,
   "metadata": {},
   "outputs": [
    {
     "name": "stdout",
     "output_type": "stream",
     "text": [
      "True\n"
     ]
    }
   ],
   "source": [
    "print(1 >=(0<1))"
   ]
  },
  {
   "cell_type": "code",
   "execution_count": 4,
   "metadata": {},
   "outputs": [
    {
     "ename": "TypeError",
     "evalue": "fact() takes 0 positional arguments but 1 was given",
     "output_type": "error",
     "traceback": [
      "\u001b[1;31m---------------------------------------------------------------------------\u001b[0m",
      "\u001b[1;31mTypeError\u001b[0m                                 Traceback (most recent call last)",
      "\u001b[1;32m<ipython-input-4-83fd8e03c16a>\u001b[0m in \u001b[0;36m<module>\u001b[1;34m\u001b[0m\n\u001b[0;32m      4\u001b[0m \u001b[0mn\u001b[0m\u001b[1;33m=\u001b[0m\u001b[1;36m6\u001b[0m\u001b[1;33m\u001b[0m\u001b[1;33m\u001b[0m\u001b[0m\n\u001b[0;32m      5\u001b[0m \u001b[1;32mif\u001b[0m \u001b[0mn\u001b[0m\u001b[1;33m>\u001b[0m\u001b[1;36m1\u001b[0m\u001b[1;33m:\u001b[0m\u001b[1;33m\u001b[0m\u001b[1;33m\u001b[0m\u001b[0m\n\u001b[1;32m----> 6\u001b[1;33m     \u001b[0mfact\u001b[0m\u001b[1;33m(\u001b[0m\u001b[0mn\u001b[0m\u001b[1;33m)\u001b[0m\u001b[1;33m\u001b[0m\u001b[1;33m\u001b[0m\u001b[0m\n\u001b[0m",
      "\u001b[1;31mTypeError\u001b[0m: fact() takes 0 positional arguments but 1 was given"
     ]
    }
   ],
   "source": [
    "def fact():\n",
    "    if\n",
    "    if n>1:\n",
    "        return(n*fact(n-1))\n",
    "n=6\n",
    "if n>1:\n",
    "    fact(n)"
   ]
  },
  {
   "cell_type": "code",
   "execution_count": 5,
   "metadata": {},
   "outputs": [
    {
     "name": "stdout",
     "output_type": "stream",
     "text": [
      "{2: 4, 8: 64}\n"
     ]
    }
   ],
   "source": [
    "n=[1,3,5,2,8]\n",
    "even={x:x**2 for x in n if x%2==0}\n",
    "print(even)"
   ]
  },
  {
   "cell_type": "code",
   "execution_count": 8,
   "metadata": {},
   "outputs": [
    {
     "name": "stdout",
     "output_type": "stream",
     "text": [
      "{8: 64}\n"
     ]
    }
   ],
   "source": [
    "n=[1,3,5,2,8]\n",
    "even={}\n",
    "for x in n:\n",
    "    if x%2==0:\n",
    "        even={x:x**2}\n",
    "print(even)\n",
    "    "
   ]
  },
  {
   "cell_type": "code",
   "execution_count": 15,
   "metadata": {},
   "outputs": [
    {
     "name": "stdout",
     "output_type": "stream",
     "text": [
      "{1: 'a', 2: 'b', 3: 'e', 4: 'd', 5: 'c'}\n"
     ]
    }
   ],
   "source": [
    "tb={1,2,3,4,5}\n",
    "n={'a','b','c','d','e'}\n",
    "# td={key:value for key,value in zip(tb,n)}\n",
    "td=dict(zip(tb,n))\n",
    "print(td)"
   ]
  },
  {
   "cell_type": "code",
   "execution_count": 17,
   "metadata": {},
   "outputs": [
    {
     "name": "stdout",
     "output_type": "stream",
     "text": [
      "{2: 4, 4: 16, 6: 36, 8: 64}\n"
     ]
    }
   ],
   "source": [
    "x=[2,4,6,8]\n",
    "# d={}\n",
    "o={i:i**2 for i in x}\n",
    "print(o)"
   ]
  },
  {
   "cell_type": "code",
   "execution_count": 28,
   "metadata": {},
   "outputs": [
    {
     "name": "stdout",
     "output_type": "stream",
     "text": [
      "1\n",
      "2\n",
      "8\n",
      "3\n"
     ]
    }
   ],
   "source": [
    "input={1:9,2:5,8:77,3:0}\n",
    "output={}\n",
    "for i in input:\n",
    "    print(i)\n",
    "    \n",
    "    "
   ]
  },
  {
   "cell_type": "code",
   "execution_count": 67,
   "metadata": {},
   "outputs": [
    {
     "name": "stdout",
     "output_type": "stream",
     "text": [
      "[3, 5, 67, 90, 100]\n",
      "[1, 2, 3, 5, 8]\n",
      "100\n"
     ]
    }
   ],
   "source": [
    "dic={2:90, 1: 100, 8: 3, 5: 67, 3: 5}\n",
    "y={}\n",
    "print(sorted(dic.values()))\n",
    "sd=sorted(dic)\n",
    "print(sd)\n",
    "print(dic[1])\n",
    "# for i in sorted(dic.values()):\n",
    "#     print(i)\n",
    "#     y[i]=dic[i]\n",
    "# print(y)"
   ]
  },
  {
   "cell_type": "code",
   "execution_count": 54,
   "metadata": {},
   "outputs": [
    {
     "name": "stdout",
     "output_type": "stream",
     "text": [
      "[1, 2, 3, 5, 8]\n",
      "100\n",
      "90\n",
      "5\n",
      "67\n",
      "3\n",
      "{1: 100, 2: 90, 3: 5, 5: 67, 8: 3}\n"
     ]
    }
   ],
   "source": [
    "dic={2:90, 1: 100, 8: 3, 5: 67, 3: 5}\n",
    "dic2={}\n",
    "print(sorted(dic))\n",
    "for i in sorted(dic):\n",
    "    dic2[i]=dic[i]\n",
    "    print(dic2[i])\n",
    "print(dic2)\n"
   ]
  },
  {
   "cell_type": "code",
   "execution_count": 100,
   "metadata": {},
   "outputs": [
    {
     "name": "stdout",
     "output_type": "stream",
     "text": [
      "{'i': 1, 'love': 4, 'program': 7}\n"
     ]
    }
   ],
   "source": [
    "s=\"i love program\"\n",
    "c=0\n",
    "temp=0\n",
    "l1=[]\n",
    "l2=[]\n",
    "d={}\n",
    "for i in s.split(\" \"):\n",
    "#     print(i)\n",
    "    l2.append(i)\n",
    "    for j in i:\n",
    "        c+=1\n",
    "    l1.append(c)\n",
    "#     print(c)\n",
    "    c=0\n",
    "# print(l1)\n",
    "# print(l2)\n",
    "d=dict(zip(l2,l1))\n",
    "print(d)\n",
    "\n",
    "        \n",
    "    \n",
    "        "
   ]
  },
  {
   "cell_type": "code",
   "execution_count": 81,
   "metadata": {},
   "outputs": [
    {
     "name": "stdout",
     "output_type": "stream",
     "text": [
      "\n"
     ]
    }
   ],
   "source": []
  },
  {
   "cell_type": "code",
   "execution_count": 41,
   "metadata": {},
   "outputs": [
    {
     "name": "stdout",
     "output_type": "stream",
     "text": [
      "<itertools.permutations object at 0x00000263C08E0C20>\n",
      "(1, 2, 3)\n",
      "(1, 3, 2)\n",
      "(2, 1, 3)\n",
      "(2, 3, 1)\n",
      "(3, 1, 2)\n",
      "(3, 2, 1)\n"
     ]
    }
   ],
   "source": [
    "from itertools import permutations \n",
    "a=permutations ([1,2,3],3) \n",
    "b=permutations([1,2,3],3)\n",
    "print(a)\n",
    "for i in a: \n",
    "    for j in b :\n",
    "        print(i)"
   ]
  },
  {
   "cell_type": "code",
   "execution_count": 20,
   "metadata": {},
   "outputs": [
    {
     "name": "stdout",
     "output_type": "stream",
     "text": [
      "(0, 1, 2)\n",
      "(0, 2, 1)\n",
      "(1, 0, 2)\n",
      "(1, 2, 0)\n",
      "(2, 0, 1)\n",
      "(2, 1, 0)\n"
     ]
    }
   ],
   "source": [
    "l=[0,1,2]\n",
    "a=permutations(l)\n",
    "# print(list(a)\n",
    "for i in list(a):\n",
    "    print(i)"
   ]
  },
  {
   "cell_type": "code",
   "execution_count": 29,
   "metadata": {},
   "outputs": [
    {
     "name": "stdout",
     "output_type": "stream",
     "text": [
      "[(1, 2, 3)]\n"
     ]
    }
   ],
   "source": [
    "import itertools\n",
    "\n",
    "sequence = [1, 2, 3]\n",
    "print(list(itertools.combinations(sequence, 3)))\n"
   ]
  },
  {
   "cell_type": "markdown",
   "metadata": {},
   "source": [
    "print(list(itertools.combinations(range(3), 2)))"
   ]
  },
  {
   "cell_type": "code",
   "execution_count": 31,
   "metadata": {},
   "outputs": [
    {
     "name": "stdout",
     "output_type": "stream",
     "text": [
      "[(0, 1, 2)]\n"
     ]
    }
   ],
   "source": [
    "print(list(itertools.combinations(range(3), 3)))"
   ]
  },
  {
   "cell_type": "code",
   "execution_count": 46,
   "metadata": {},
   "outputs": [
    {
     "name": "stdout",
     "output_type": "stream",
     "text": [
      "[4, 3, 2, 1]\n"
     ]
    }
   ],
   "source": [
    "l=[1,2,3,4]\n",
    "l.reverse()\n",
    "print(l)"
   ]
  },
  {
   "cell_type": "code",
   "execution_count": 12,
   "metadata": {},
   "outputs": [
    {
     "name": "stdout",
     "output_type": "stream",
     "text": [
      "             joel             \n",
      "                          joel\n",
      "joel                          \n"
     ]
    },
    {
     "data": {
      "text/plain": [
       "'=============joel============='"
      ]
     },
     "execution_count": 12,
     "metadata": {},
     "output_type": "execute_result"
    }
   ],
   "source": [
    "s='joel'\n",
    "print(s.center(30))\n",
    "print(s.rjust(30))\n",
    "print(s.ljust(30))\n",
    "# j='joel'\n",
    "f'{s: >30}'\n",
    "f'{s:=^30}'"
   ]
  },
  {
   "cell_type": "code",
   "execution_count": 14,
   "metadata": {},
   "outputs": [
    {
     "name": "stdout",
     "output_type": "stream",
     "text": [
      "joel christopher\n"
     ]
    }
   ],
   "source": [
    "f=open('joelpython.txt','w')\n",
    "f.write('joel christopher')\n",
    "f.close()\n",
    "f=open('joelpython.txt','r')\n",
    "print(f.read())"
   ]
  },
  {
   "cell_type": "code",
   "execution_count": 18,
   "metadata": {},
   "outputs": [],
   "source": [
    "f=open('D:\\\\Python\\\\joelpy.txt','w')\n",
    "f.write('joell')\n",
    "f.close()\n",
    "# f=open('D:\\\\Python\\\\joel.py.txt','r')\n",
    "# print(f.read())"
   ]
  },
  {
   "cell_type": "code",
   "execution_count": 22,
   "metadata": {},
   "outputs": [
    {
     "name": "stdout",
     "output_type": "stream",
     "text": [
      "j\n"
     ]
    }
   ],
   "source": [
    "a=open('D:\\\\Python\\\\joelpy.txt','r')\n",
    "print(a.read(1))"
   ]
  },
  {
   "cell_type": "code",
   "execution_count": 24,
   "metadata": {},
   "outputs": [
    {
     "name": "stdout",
     "output_type": "stream",
     "text": [
      "joel christopher\n"
     ]
    }
   ],
   "source": [
    "f=open('D:\\\\Python\\\\joelpy.txt','w')\n",
    "f.write('joel christopher')\n",
    "f.close()\n",
    "f=open('D:\\\\Python\\\\joelpy.txt','r')\n",
    "print(f.read())"
   ]
  },
  {
   "cell_type": "code",
   "execution_count": 25,
   "metadata": {},
   "outputs": [
    {
     "name": "stdout",
     "output_type": "stream",
     "text": [
      "{\"name\": \"John\", \"age\": 30}\n",
      "[\"apple\", \"bananas\"]\n",
      "[\"apple\", \"bananas\"]\n",
      "\"hello\"\n",
      "42\n",
      "31.76\n",
      "true\n",
      "false\n",
      "null\n"
     ]
    }
   ],
   "source": [
    "import json\n",
    "\n",
    "print(json.dumps({\"name\": \"John\", \"age\": 30}))\n",
    "print(json.dumps([\"apple\", \"bananas\"]))\n",
    "print(json.dumps((\"apple\", \"bananas\")))\n",
    "print(json.dumps(\"hello\"))\n",
    "print(json.dumps(42))\n",
    "print(json.dumps(31.76))\n",
    "print(json.dumps(True))\n",
    "print(json.dumps(False))\n",
    "print(json.dumps(None))"
   ]
  },
  {
   "cell_type": "code",
   "execution_count": 27,
   "metadata": {},
   "outputs": [
    {
     "name": "stdout",
     "output_type": "stream",
     "text": [
      "{'name': 'joel'}\n"
     ]
    }
   ],
   "source": [
    "import json\n",
    "x='{\"name\":\"joel\"}'\n",
    "y=json.loads(x)\n",
    "print(y)"
   ]
  },
  {
   "cell_type": "code",
   "execution_count": 3,
   "metadata": {
    "scrolled": true
   },
   "outputs": [
    {
     "name": "stdout",
     "output_type": "stream",
     "text": [
      "varisu\n"
     ]
    }
   ],
   "source": [
    "vj={'movie':'varisu'}\n",
    "print(vj['movie'])"
   ]
  },
  {
   "cell_type": "code",
   "execution_count": 1,
   "metadata": {},
   "outputs": [
    {
     "name": "stdout",
     "output_type": "stream",
     "text": [
      "f**k\n"
     ]
    }
   ],
   "source": [
    "import sqlite3\n",
    "con=sqlite3.connect(\"D:\\\\py\\\\db\\\\joel.db\")\n",
    "cur=con.cursor()\n",
    "cur.close()\n",
    "print(\"f**k\")"
   ]
  },
  {
   "cell_type": "code",
   "execution_count": 8,
   "metadata": {
    "scrolled": true
   },
   "outputs": [
    {
     "ename": "OperationalError",
     "evalue": "table login already exists",
     "output_type": "error",
     "traceback": [
      "\u001b[1;31m---------------------------------------------------------------------------\u001b[0m",
      "\u001b[1;31mOperationalError\u001b[0m                          Traceback (most recent call last)",
      "\u001b[1;32m<ipython-input-8-f4381c4a2118>\u001b[0m in \u001b[0;36m<module>\u001b[1;34m\u001b[0m\n\u001b[0;32m      1\u001b[0m \u001b[0mcon\u001b[0m\u001b[1;33m=\u001b[0m\u001b[0msqlite3\u001b[0m\u001b[1;33m.\u001b[0m\u001b[0mconnect\u001b[0m\u001b[1;33m(\u001b[0m\u001b[1;34m\"D:\\\\py\\\\db\\\\joel.db\"\u001b[0m\u001b[1;33m)\u001b[0m\u001b[1;33m\u001b[0m\u001b[1;33m\u001b[0m\u001b[0m\n\u001b[0;32m      2\u001b[0m \u001b[0mcur\u001b[0m\u001b[1;33m=\u001b[0m\u001b[0mcon\u001b[0m\u001b[1;33m.\u001b[0m\u001b[0mcursor\u001b[0m\u001b[1;33m(\u001b[0m\u001b[1;33m)\u001b[0m\u001b[1;33m\u001b[0m\u001b[1;33m\u001b[0m\u001b[0m\n\u001b[1;32m----> 3\u001b[1;33m \u001b[0mcur\u001b[0m\u001b[1;33m.\u001b[0m\u001b[0mexecute\u001b[0m\u001b[1;33m(\u001b[0m\u001b[1;34m\"create table login(id int primary key not null,name text not null,age int,city varchar(10))\"\u001b[0m\u001b[1;33m)\u001b[0m\u001b[1;33m\u001b[0m\u001b[1;33m\u001b[0m\u001b[0m\n\u001b[0m\u001b[0;32m      4\u001b[0m \u001b[0mcon\u001b[0m\u001b[1;33m.\u001b[0m\u001b[0mcommit\u001b[0m\u001b[1;33m(\u001b[0m\u001b[1;33m)\u001b[0m\u001b[1;33m\u001b[0m\u001b[1;33m\u001b[0m\u001b[0m\n\u001b[0;32m      5\u001b[0m \u001b[0mcur\u001b[0m\u001b[1;33m.\u001b[0m\u001b[0mclose\u001b[0m\u001b[1;33m(\u001b[0m\u001b[1;33m)\u001b[0m\u001b[1;33m\u001b[0m\u001b[1;33m\u001b[0m\u001b[0m\n",
      "\u001b[1;31mOperationalError\u001b[0m: table login already exists"
     ]
    }
   ],
   "source": [
    "con=sqlite3.connect(\"D:\\\\py\\\\db\\\\joel.db\")\n",
    "cur=con.cursor()\n",
    "cur.execute(\"create table login(id int primary key not null,name text not null,age int,city varchar(10))\")\n",
    "cur.close()\n",
    "print(\"fk\")"
   ]
  },
  {
   "cell_type": "code",
   "execution_count": 9,
   "metadata": {},
   "outputs": [
    {
     "name": "stdout",
     "output_type": "stream",
     "text": [
      "*\n"
     ]
    }
   ],
   "source": [
    "con=sqlite3.connect(\"D:\\\\py\\\\db\\\\joel.db\")\n",
    "cur=con.cursor()\n",
    "qry='''insert into login\n",
    "       (ID,NAME,AGE,CITY)\n",
    "       VALUES(1,\"JOEL\",24,\"KADAYAM\")'''\n",
    "cur.execute(qry)\n",
    "con.commit()\n",
    "cur.close()\n",
    "print('*')"
   ]
  },
  {
   "cell_type": "code",
   "execution_count": 12,
   "metadata": {},
   "outputs": [
    {
     "name": "stdout",
     "output_type": "stream",
     "text": [
      "10\n"
     ]
    }
   ],
   "source": [
    "a=10\n",
    "b=a\n",
    "b=20\n",
    "print(a)"
   ]
  },
  {
   "cell_type": "code",
   "execution_count": 24,
   "metadata": {},
   "outputs": [],
   "source": [
    "import sqlite3\n",
    "con=sqlite3.connect(\"D:\\\\py\\\\db\\\\ch.db\")\n",
    "cursor=con.cursor()\n",
    "query=\"create table cricketers(ranking int primary key not null,Name text,jerseynum int varchar(3))\"\n",
    "cursor.execute(query)\n",
    "cursor.close()"
   ]
  },
  {
   "cell_type": "code",
   "execution_count": 25,
   "metadata": {},
   "outputs": [],
   "source": [
    "con=sqlite3.connect(\"D:\\\\py\\\\db\\\\ch.db\")\n",
    "cursor=con.cursor()\n",
    "qry='''insert into cricketers\n",
    "        (ranking,Name,jerseynum)\n",
    "        values(1,\"sachin\",10)'''\n",
    "cursor.execute(qry)\n",
    "con.commit()\n",
    "cursor.close()\n"
   ]
  },
  {
   "cell_type": "code",
   "execution_count": 28,
   "metadata": {},
   "outputs": [
    {
     "name": "stdout",
     "output_type": "stream",
     "text": [
      "Enter 1:2\n",
      "Thank You...!\n"
     ]
    }
   ],
   "source": [
    "con=sqlite3.connect(\"D:\\\\py\\\\db\\\\ch.db\")\n",
    "cursor=con.cursor()\n",
    "def insert(r,n,j):\n",
    "    qry='''insert into cricketers\n",
    "        (ranking,Name,jerseynum)\n",
    "        values(?,?,?)'''\n",
    "    cursor.execute(qry,(r,n,j))\n",
    "    con.commit()\n",
    "    cursor.close()\n",
    "    print(\"*\")\n",
    "    \n",
    "ch=1\n",
    "while(ch==1):\n",
    "    c=int(input(\"Enter 1:\"))\n",
    "    if(c==1):\n",
    "        r=int(input(\"Enter Rank:\"))\n",
    "        n=input(\"Enter name:\")\n",
    "        j=int(input(\"Enter Jer No:\"))\n",
    "        insert(r,n,j);\n",
    "        print(\"1 To cont...!\")\n",
    "    elif(c!=1):\n",
    "        break\n",
    "print(\"Thank You...!\")"
   ]
  },
  {
   "cell_type": "code",
   "execution_count": 29,
   "metadata": {},
   "outputs": [],
   "source": [
    "con=sqlite3.connect(\"D:\\\\py\\\\db\\\\ch.db\")\n",
    "cursor=con.cursor()\n",
    "qry='''alter table cricketers add column playerscore int '''\n",
    "cursor.execute(qry)\n",
    "con.commit()\n",
    "cursor.close()"
   ]
  },
  {
   "cell_type": "code",
   "execution_count": 32,
   "metadata": {},
   "outputs": [],
   "source": [
    "con=sqlite3.connect(\"D:\\\\py\\\\db\\\\ch.db\")\n",
    "cursor=con.cursor()\n",
    "qry='''update cricketers set playerscore=100 where name=\"sachin\"'''\n",
    "cursor.execute(qry)\n",
    "con.commit()\n",
    "cursor.close()"
   ]
  },
  {
   "cell_type": "code",
   "execution_count": 2,
   "metadata": {},
   "outputs": [
    {
     "name": "stdout",
     "output_type": "stream",
     "text": [
      "[0, 2, 4, 6, 8, 10, 12, 14, 16, 18]\n"
     ]
    }
   ],
   "source": [
    "l=[x for x in range(20) if x%2==0]\n",
    "print(l)"
   ]
  },
  {
   "cell_type": "code",
   "execution_count": 4,
   "metadata": {},
   "outputs": [
    {
     "name": "stdout",
     "output_type": "stream",
     "text": [
      "[0, 1, 2, 3, 4]\n"
     ]
    }
   ],
   "source": [
    "newlist = [[j for j in range(5)] for i in range(5)]\n",
    "print(newlist[0])"
   ]
  },
  {
   "cell_type": "code",
   "execution_count": 10,
   "metadata": {},
   "outputs": [
    {
     "name": "stdout",
     "output_type": "stream",
     "text": [
      "[0, 'orange', 0, 0, 0]\n"
     ]
    }
   ],
   "source": [
    "fruits = [\"apple\", \"banana\", \"cherry\", \"kiwi\", \"mango\"]\n",
    "\n",
    "newlist = [0 if x != \"banana\" else \"orange\" for x in fruits]\n",
    "\n",
    "print(newlist)\n"
   ]
  },
  {
   "cell_type": "code",
   "execution_count": 32,
   "metadata": {},
   "outputs": [
    {
     "name": "stdout",
     "output_type": "stream",
     "text": [
      "['G', 'e', 'e', 'k', 's', 0, '4', 0, 'G', 'e', 'e', 'k', 's', '!']\n"
     ]
    }
   ],
   "source": [
    "List = [character if character!=\" \" else 0 for character in 'Geeks 4 Geeks!']\n",
    " \n",
    "# Displaying list\n",
    "print(List)"
   ]
  },
  {
   "cell_type": "code",
   "execution_count": 30,
   "metadata": {},
   "outputs": [
    {
     "name": "stdout",
     "output_type": "stream",
     "text": [
      "['g', 'e', 'e', 'k', 's', '4', 'g', 'e', 'e', 'k', 's']\n"
     ]
    }
   ],
   "source": [
    "lis=[]\n",
    "for i in \"geeks 4 geeks\":\n",
    "    if i!=\" \":\n",
    "        lis.append(i)\n",
    "    else:\n",
    "        continue\n",
    "print(lis)"
   ]
  },
  {
   "cell_type": "code",
   "execution_count": 58,
   "metadata": {},
   "outputs": [
    {
     "name": "stdout",
     "output_type": "stream",
     "text": [
      "[0, 1, 2, 3, 4, 5, 6, 7, 8, 9, 10, 11, 12, 13, 14, 15, 16, 17, 18, 19]\n",
      "[2, 3, 4, 5, 6, 7, 8, 9, 10, 11, 12, 13, 14, 15, 16, 17, 18, 19, 20, 21]\n"
     ]
    }
   ],
   "source": [
    "l=list(range(20))\n",
    "print(l)\n",
    "numbers = list(map(lambda i:i+2,l))\n",
    "print(numbers)\n",
    " \n",
    "# print(x)"
   ]
  },
  {
   "cell_type": "code",
   "execution_count": 55,
   "metadata": {},
   "outputs": [
    {
     "name": "stdout",
     "output_type": "stream",
     "text": [
      "[True, False, True, False, True, False, True, False, True, False, True, False, True, False, True, False, True, False, True, False]\n"
     ]
    }
   ],
   "source": [
    "l=list(range(20))\n",
    "# print(l)\n",
    "numbers = list(map(lambda i:i%2==0,l))\n",
    "print(numbers)"
   ]
  },
  {
   "cell_type": "code",
   "execution_count": 65,
   "metadata": {},
   "outputs": [
    {
     "name": "stdout",
     "output_type": "stream",
     "text": [
      "45\n",
      "45\n"
     ]
    }
   ],
   "source": [
    "from functools import reduce\n",
    "l=list(range(10))\n",
    "print(sum(l))\n",
    "n=reduce(lambda x,y:x+y,l)\n",
    "print(n)"
   ]
  },
  {
   "cell_type": "code",
   "execution_count": 66,
   "metadata": {},
   "outputs": [
    {
     "name": "stdout",
     "output_type": "stream",
     "text": [
      "[3, 4, 4, 6, 6, 8, 8, 10]\n"
     ]
    }
   ],
   "source": [
    "my_list = [2.6743,3.63526,4.2325,5.9687967,6.3265,7.6988,8.232,9.6907]\n",
    "updated_list = list(map(round, my_list))\n",
    "print(updated_list)\n",
    "# print(list(updated_list))"
   ]
  },
  {
   "cell_type": "code",
   "execution_count": 69,
   "metadata": {},
   "outputs": [
    {
     "name": "stdout",
     "output_type": "stream",
     "text": [
      "[3, 4, 4, 6, 6, 8, 8, 10]\n"
     ]
    }
   ],
   "source": [
    "my_list = [2.6743,3.63526,4.2325,5.9687967,6.3265,7.6988,8.232,9.6907]\n",
    "updated_list = list(map(lambda x:round(x),my_list))\n",
    "print(updated_list)"
   ]
  },
  {
   "cell_type": "code",
   "execution_count": 70,
   "metadata": {},
   "outputs": [
    {
     "name": "stdout",
     "output_type": "stream",
     "text": [
      "The sum of the list elements is : 17\n",
      "The maximum element of the list is : 6\n"
     ]
    }
   ],
   "source": [
    "import functools\n",
    " \n",
    "# initializing list\n",
    "lis = [1, 3, 5, 6, 2]\n",
    " \n",
    "# using reduce to compute sum of list\n",
    "print(\"The sum of the list elements is : \", end=\"\")\n",
    "print(functools.reduce(lambda a, b: a+b, lis))\n",
    " \n",
    "# using reduce to compute maximum element from list\n",
    "print(\"The maximum element of the list is : \", end=\"\")\n",
    "print(functools.reduce(lambda a, b: a if a > b else b, lis))"
   ]
  },
  {
   "cell_type": "code",
   "execution_count": 2,
   "metadata": {},
   "outputs": [
    {
     "name": "stdout",
     "output_type": "stream",
     "text": [
      "{0: 4, 1: 4, 2: 4, 3: 4, 4: 4}\n"
     ]
    }
   ],
   "source": [
    "for i in range(5):\n",
    "    dic=dict.fromkeys(range(5), i)\n",
    "\n",
    "print(dic)\n"
   ]
  },
  {
   "cell_type": "code",
   "execution_count": 1,
   "metadata": {},
   "outputs": [
    {
     "name": "stdout",
     "output_type": "stream",
     "text": [
      "New Delhi is the capital of India.\n",
      "Hindi is the most widely spoken language of India.\n",
      "India is a developing country.\n",
      "Washington, D.C. is the capital of USA.\n",
      "English is the primary language of USA.\n",
      "USA is a developed country.\n"
     ]
    }
   ],
   "source": [
    "class India():\n",
    "    def capital(self):\n",
    "        print(\"New Delhi is the capital of India.\")\n",
    " \n",
    "    def language(self):\n",
    "        print(\"Hindi is the most widely spoken language of India.\")\n",
    " \n",
    "    def type(self):\n",
    "        print(\"India is a developing country.\")\n",
    " \n",
    "class USA():\n",
    "    def capital(self):\n",
    "        print(\"Washington, D.C. is the capital of USA.\")\n",
    " \n",
    "    def language(self):\n",
    "        print(\"English is the primary language of USA.\")\n",
    " \n",
    "    def type(self):\n",
    "        print(\"USA is a developed country.\")\n",
    " \n",
    "obj_ind = India()\n",
    "obj_usa = USA()\n",
    "for country in (obj_ind, obj_usa):\n",
    "    country.capital()\n",
    "    country.language()\n",
    "    country.type()"
   ]
  },
  {
   "cell_type": "code",
   "execution_count": 2,
   "metadata": {},
   "outputs": [
    {
     "name": "stdout",
     "output_type": "stream",
     "text": [
      "['joel,12']\n"
     ]
    }
   ],
   "source": [
    "l=[\"joel,12\"]\n",
    "b="
   ]
  },
  {
   "cell_type": "code",
   "execution_count": 3,
   "metadata": {},
   "outputs": [
    {
     "ename": "SyntaxError",
     "evalue": "unexpected EOF while parsing (<ipython-input-3-019c69998a1d>, line 1)",
     "output_type": "error",
     "traceback": [
      "\u001b[1;36m  File \u001b[1;32m\"<ipython-input-3-019c69998a1d>\"\u001b[1;36m, line \u001b[1;32m1\u001b[0m\n\u001b[1;33m    with open(\"file.txt\") as f:\u001b[0m\n\u001b[1;37m                               ^\u001b[0m\n\u001b[1;31mSyntaxError\u001b[0m\u001b[1;31m:\u001b[0m unexpected EOF while parsing\n"
     ]
    }
   ],
   "source": [
    "f=open(file.txt)"
   ]
  },
  {
   "cell_type": "code",
   "execution_count": 5,
   "metadata": {},
   "outputs": [],
   "source": [
    "f=open(\"file.txt\",\"w\")\n",
    "f.write(\"joel,12\")\n",
    "f.close()"
   ]
  },
  {
   "cell_type": "code",
   "execution_count": 8,
   "metadata": {},
   "outputs": [
    {
     "name": "stdout",
     "output_type": "stream",
     "text": [
      "{'joel': '12'}\n"
     ]
    }
   ],
   "source": [
    "f=open(\"file.txt\",\"r\")\n",
    "# print(f.read())\n",
    "d={}\n",
    "for i in f:\n",
    "    (key,value)=i.split(\",\")\n",
    "    d[key]=value\n",
    "print(d)"
   ]
  },
  {
   "cell_type": "code",
   "execution_count": 9,
   "metadata": {},
   "outputs": [
    {
     "ename": "NameError",
     "evalue": "name 'sort_index' is not defined",
     "output_type": "error",
     "traceback": [
      "\u001b[1;31m---------------------------------------------------------------------------\u001b[0m",
      "\u001b[1;31mNameError\u001b[0m                                 Traceback (most recent call last)",
      "\u001b[1;32m<ipython-input-9-f9f99fb5b342>\u001b[0m in \u001b[0;36m<module>\u001b[1;34m\u001b[0m\n\u001b[0;32m      1\u001b[0m \u001b[0mvalue\u001b[0m\u001b[1;33m=\u001b[0m\u001b[1;33m[\u001b[0m\u001b[1;36m20\u001b[0m\u001b[1;33m,\u001b[0m\u001b[1;36m5\u001b[0m\u001b[1;33m,\u001b[0m\u001b[1;36m8\u001b[0m\u001b[1;33m,\u001b[0m\u001b[1;36m12\u001b[0m\u001b[1;33m,\u001b[0m\u001b[1;36m64\u001b[0m\u001b[1;33m]\u001b[0m\u001b[1;33m\u001b[0m\u001b[1;33m\u001b[0m\u001b[0m\n\u001b[1;32m----> 2\u001b[1;33m \u001b[0msort_index\u001b[0m\u001b[1;33m(\u001b[0m\u001b[0mvalue\u001b[0m\u001b[1;33m)\u001b[0m\u001b[1;33m[\u001b[0m\u001b[1;33m:\u001b[0m\u001b[1;36m3\u001b[0m\u001b[1;33m]\u001b[0m\u001b[1;33m\u001b[0m\u001b[1;33m\u001b[0m\u001b[0m\n\u001b[0m",
      "\u001b[1;31mNameError\u001b[0m: name 'sort_index' is not defined"
     ]
    }
   ],
   "source": []
  },
  {
   "cell_type": "code",
   "execution_count": 34,
   "metadata": {},
   "outputs": [
    {
     "name": "stdout",
     "output_type": "stream",
     "text": [
      "[64, 20, 12]\n"
     ]
    }
   ],
   "source": [
    "value=[20,5,8,12,64]\n",
    "l=value\n",
    "li=[]\n",
    "li1=[]\n",
    "# print(l)\n",
    "for i in range(3):\n",
    "    li.append(max(value))\n",
    "    value.remove(max(value))\n",
    "print(li)\n",
    "# for i in range(3):\n",
    "#     li1.append(min(l))\n",
    "#     l.remove(min(l))\n",
    "# print(li1)\n"
   ]
  },
  {
   "cell_type": "code",
   "execution_count": 33,
   "metadata": {},
   "outputs": [
    {
     "name": "stdout",
     "output_type": "stream",
     "text": [
      "[5, 8, 12]\n"
     ]
    }
   ],
   "source": [
    "l=[20,5,8,12,64]\n",
    "l.sort()\n",
    "l1=[]\n",
    "print(list((l[0],l[1],l[2])))\n",
    "    "
   ]
  },
  {
   "cell_type": "code",
   "execution_count": 1,
   "metadata": {},
   "outputs": [
    {
     "ename": "TypeError",
     "evalue": "append() takes exactly one argument (0 given)",
     "output_type": "error",
     "traceback": [
      "\u001b[1;31m---------------------------------------------------------------------------\u001b[0m",
      "\u001b[1;31mTypeError\u001b[0m                                 Traceback (most recent call last)",
      "\u001b[1;32m<ipython-input-1-54893f51c5c7>\u001b[0m in \u001b[0;36m<module>\u001b[1;34m\u001b[0m\n\u001b[0;32m      3\u001b[0m \u001b[0ml1\u001b[0m\u001b[1;33m=\u001b[0m\u001b[1;33m[\u001b[0m\u001b[1;33m]\u001b[0m\u001b[1;33m\u001b[0m\u001b[1;33m\u001b[0m\u001b[0m\n\u001b[0;32m      4\u001b[0m \u001b[1;32mfor\u001b[0m \u001b[0mi\u001b[0m \u001b[1;32min\u001b[0m \u001b[0mrange\u001b[0m\u001b[1;33m(\u001b[0m\u001b[1;36m3\u001b[0m\u001b[1;33m)\u001b[0m\u001b[1;33m:\u001b[0m\u001b[1;33m\u001b[0m\u001b[1;33m\u001b[0m\u001b[0m\n\u001b[1;32m----> 5\u001b[1;33m     \u001b[0ml1\u001b[0m\u001b[1;33m.\u001b[0m\u001b[0mappend\u001b[0m\u001b[1;33m(\u001b[0m\u001b[1;33m)\u001b[0m\u001b[1;33m\u001b[0m\u001b[1;33m\u001b[0m\u001b[0m\n\u001b[0m\u001b[0;32m      6\u001b[0m \u001b[1;33m\u001b[0m\u001b[0m\n",
      "\u001b[1;31mTypeError\u001b[0m: append() takes exactly one argument (0 given)"
     ]
    }
   ],
   "source": [
    "l=[20,5,8,12,64]\n",
    "l.sort()\n",
    "l1=[]\n",
    "for i in range(3):\n",
    "    l1.append()\n",
    "    "
   ]
  },
  {
   "cell_type": "code",
   "execution_count": 14,
   "metadata": {},
   "outputs": [
    {
     "name": "stdout",
     "output_type": "stream",
     "text": [
      "[5475, 54647, 87387]\n"
     ]
    }
   ],
   "source": [
    "l=[652653653,836273263,97838263,87387,5475,54647]\n",
    "s=sorted(l)\n",
    "print(sorted(s[0:3]))"
   ]
  },
  {
   "cell_type": "code",
   "execution_count": 15,
   "metadata": {},
   "outputs": [
    {
     "name": "stdout",
     "output_type": "stream",
     "text": [
      "1\n",
      "2\n",
      "3\n",
      "4\n"
     ]
    }
   ],
   "source": [
    "if __name__ == '__main__':\n",
    "    x = int(input())\n",
    "    y = int(input())\n",
    "    z = int(input())\n",
    "    n = int(input())"
   ]
  },
  {
   "cell_type": "code",
   "execution_count": 16,
   "metadata": {},
   "outputs": [
    {
     "name": "stdout",
     "output_type": "stream",
     "text": [
      "['j', 's', 'u']\n"
     ]
    }
   ],
   "source": [
    "s=\"j s u\".split(\" \")\n",
    "print(s)"
   ]
  },
  {
   "cell_type": "code",
   "execution_count": null,
   "metadata": {},
   "outputs": [],
   "source": [
    "if __name__ == '__main__':\n",
    "    n = int(input())\n",
    "    arr = map(int, input().split())\n",
    "    l=sorted(list(arr))\n",
    "    print(l)"
   ]
  },
  {
   "cell_type": "code",
   "execution_count": 2,
   "metadata": {},
   "outputs": [
    {
     "name": "stdout",
     "output_type": "stream",
     "text": [
      "[['def'], ['abc']]\n",
      "True\n"
     ]
    }
   ],
   "source": [
    "def do(x):\n",
    "    x[0]=['def']\n",
    "    x[1]=['abc']\n",
    "    print(x)\n",
    "    return id(x)\n",
    "q=['abc','def']\n",
    "print(id(q)== do(q))"
   ]
  },
  {
   "cell_type": "code",
   "execution_count": 5,
   "metadata": {},
   "outputs": [
    {
     "name": "stdout",
     "output_type": "stream",
     "text": [
      "2771469935744\n"
     ]
    }
   ],
   "source": [
    "# x[0]=['def']\n",
    "# x[1]=['abc']\n",
    "q=['abc','def']\n",
    "print(id(q))"
   ]
  },
  {
   "cell_type": "code",
   "execution_count": 2,
   "metadata": {},
   "outputs": [
    {
     "data": {
      "text/plain": [
       "2"
      ]
     },
     "execution_count": 2,
     "metadata": {},
     "output_type": "execute_result"
    }
   ],
   "source": [
    "a=lambda x,y:x*y\n",
    "a(1,2)"
   ]
  },
  {
   "cell_type": "code",
   "execution_count": 20,
   "metadata": {},
   "outputs": [
    {
     "name": "stdout",
     "output_type": "stream",
     "text": [
      "guesss num1\n",
      "win\n",
      "1 1\n"
     ]
    }
   ],
   "source": [
    "import random\n",
    "n=random.randrange(1,10)\n",
    "a=int(input(\"guesss num\"))\n",
    "if a==n:\n",
    "    print(\"win\")\n",
    "else:\n",
    "    print(\"loss\")\n",
    "print(n,a)"
   ]
  },
  {
   "cell_type": "code",
   "execution_count": 89,
   "metadata": {},
   "outputs": [
    {
     "name": "stdout",
     "output_type": "stream",
     "text": [
      "[1, 4, 7] [2, 5, 8] [3, 6, 9]\n",
      "0.0\n"
     ]
    }
   ],
   "source": [
    "from time import time\n",
    "start=time()\n",
    "inp=[[1,2,3],[4,5,6],[7,8,9]]\n",
    "o=[]\n",
    "index=0\n",
    "for i in range(len(inp)):\n",
    "    o.append([])\n",
    "#     print(len(inp[]))\n",
    "    for j in range(len(inp)):\n",
    "        o[index].append(inp[j][index])\n",
    "    index=index+1\n",
    "a,b,c=o[0],o[1],o[2]\n",
    "print(a,b,c)\n",
    "end=time()\n",
    "exe=end-start\n",
    "print(exe)"
   ]
  },
  {
   "cell_type": "code",
   "execution_count": 86,
   "metadata": {},
   "outputs": [
    {
     "name": "stdout",
     "output_type": "stream",
     "text": [
      "k-4\n",
      "e-3\n"
     ]
    }
   ],
   "source": [
    "string=\"bookeeperkkk\"\n",
    "count=0\n",
    "l=\"\"\n",
    "li=[]\n",
    "for i in string:\n",
    "#     print(i)\n",
    "    for j in string:\n",
    "#         print(j)\n",
    "        if i==j:\n",
    "            count+=1\n",
    "            \n",
    "    if count>2:\n",
    "#         l='{}-{}'.format(i,count)\n",
    "        \n",
    "        l=str(i)+\"-\"+str(count)\n",
    "        li.append(l)\n",
    "# #         j=set(li)\n",
    "#         l=''\n",
    "        \n",
    "#         print(i,\"=\",count)\n",
    "\n",
    "    count=0\n",
    "for i in set(li):\n",
    "    print(i)\n"
   ]
  },
  {
   "cell_type": "code",
   "execution_count": 94,
   "metadata": {},
   "outputs": [
    {
     "ename": "ModuleNotFoundError",
     "evalue": "No module named 'emoji'",
     "output_type": "error",
     "traceback": [
      "\u001b[1;31m---------------------------------------------------------------------------\u001b[0m",
      "\u001b[1;31mModuleNotFoundError\u001b[0m                       Traceback (most recent call last)",
      "\u001b[1;32m<ipython-input-94-141494a27d26>\u001b[0m in \u001b[0;36m<module>\u001b[1;34m\u001b[0m\n\u001b[1;32m----> 1\u001b[1;33m \u001b[1;32mimport\u001b[0m \u001b[0memoji\u001b[0m\u001b[1;33m\u001b[0m\u001b[1;33m\u001b[0m\u001b[0m\n\u001b[0m\u001b[0;32m      2\u001b[0m \u001b[0mprint\u001b[0m\u001b[1;33m(\u001b[0m\u001b[0memoji\u001b[0m\u001b[1;33m.\u001b[0m\u001b[0memojize\u001b[0m\u001b[1;33m(\u001b[0m\u001b[1;34m\":red_heart:\"\u001b[0m\u001b[1;33m)\u001b[0m\u001b[1;33m)\u001b[0m\u001b[1;33m\u001b[0m\u001b[1;33m\u001b[0m\u001b[0m\n",
      "\u001b[1;31mModuleNotFoundError\u001b[0m: No module named 'emoji'"
     ]
    }
   ],
   "source": [
    "import emoji\n",
    "print(emoji.emojize(\":red_heart:\"))"
   ]
  },
  {
   "cell_type": "code",
   "execution_count": 18,
   "metadata": {},
   "outputs": [
    {
     "name": "stdout",
     "output_type": "stream",
     "text": [
      "30.76923076923077\n"
     ]
    }
   ],
   "source": [
    "from difflib import SequenceMatcher\n",
    "t=\"my name is joel\"\n",
    "t1=\"christopher\"\n",
    "ss=SequenceMatcher(\"\",t,t1).ratio()\n",
    "print(ss*100)"
   ]
  },
  {
   "cell_type": "code",
   "execution_count": 21,
   "metadata": {},
   "outputs": [
    {
     "name": "stdout",
     "output_type": "stream",
     "text": [
      "joel\n",
      "chris\n",
      "Hello joel chris ! you delved into python\n"
     ]
    }
   ],
   "source": [
    "def print_full_name(first, last):\n",
    "    # Write your code here\n",
    "    print(\"Hello\",first,last,\"! you delved into python\")\n",
    "\n",
    "if __name__ == '__main__':\n",
    "    first_name = input()\n",
    "    last_name = input()\n",
    "    print_full_name(first_name, last_name)"
   ]
  },
  {
   "cell_type": "code",
   "execution_count": 24,
   "metadata": {},
   "outputs": [
    {
     "name": "stdout",
     "output_type": "stream",
     "text": [
      "this-is-a-string-\n"
     ]
    }
   ],
   "source": [
    "def split_and_join(line):\n",
    "    # write your code here\n",
    "    a=line.split(\" \")\n",
    "#     return a\n",
    "    b=\"\"\n",
    "    for i in a:\n",
    "        b+=i+\"-\"\n",
    "    return b\n",
    "\n",
    "if __name__ == '__main__':\n",
    "    line =\"this is a string\"\n",
    "    result = split_and_join(line)\n",
    "    print(result)"
   ]
  },
  {
   "cell_type": "code",
   "execution_count": 29,
   "metadata": {},
   "outputs": [
    {
     "name": "stdout",
     "output_type": "stream",
     "text": [
      "joel\n",
      "christopher\n"
     ]
    }
   ],
   "source": [
    "def j(b):\n",
    "    def a():\n",
    "#         b()\n",
    "        print(\"joel\")\n",
    "        b()\n",
    "    return a\n",
    "def aa():\n",
    "    print(\"christopher\")\n",
    "    \n",
    "fun=j(aa)\n",
    "fun()"
   ]
  },
  {
   "cell_type": "code",
   "execution_count": 11,
   "metadata": {},
   "outputs": [
    {
     "name": "stdout",
     "output_type": "stream",
     "text": [
      "3\n"
     ]
    }
   ],
   "source": [
    "a=\"abcdcdc\"\n",
    "b=\"cdc\"\n",
    "c=len(b)\n",
    "for i in range(a):\n",
    "    \n",
    "\n"
   ]
  },
  {
   "cell_type": "code",
   "execution_count": 2,
   "metadata": {},
   "outputs": [
    {
     "name": "stdout",
     "output_type": "stream",
     "text": [
      "__main__\n"
     ]
    }
   ],
   "source": [
    "if __name__==\"__main__\":\n",
    "    \n",
    "    print(__name__)\n",
    "    "
   ]
  },
  {
   "cell_type": "code",
   "execution_count": 3,
   "metadata": {},
   "outputs": [
    {
     "ename": "NameError",
     "evalue": "name 'route' is not defined",
     "output_type": "error",
     "traceback": [
      "\u001b[1;31m---------------------------------------------------------------------------\u001b[0m",
      "\u001b[1;31mNameError\u001b[0m                                 Traceback (most recent call last)",
      "\u001b[1;32m<ipython-input-3-f268663852fa>\u001b[0m in \u001b[0;36m<module>\u001b[1;34m\u001b[0m\n\u001b[1;32m----> 1\u001b[1;33m \u001b[0mapp\u001b[0m\u001b[1;33m=\u001b[0m\u001b[0mroute\u001b[0m\u001b[1;33m(\u001b[0m\u001b[0mapp\u001b[0m\u001b[1;33m)\u001b[0m\u001b[1;33m\u001b[0m\u001b[1;33m\u001b[0m\u001b[0m\n\u001b[0m",
      "\u001b[1;31mNameError\u001b[0m: name 'route' is not defined"
     ]
    }
   ],
   "source": [
    "home=app(home).route(\"/\")"
   ]
  },
  {
   "cell_type": "code",
   "execution_count": 9,
   "metadata": {},
   "outputs": [
    {
     "name": "stdout",
     "output_type": "stream",
     "text": [
      "..12 12\n",
      "12 12\n"
     ]
    }
   ],
   "source": [
    "s=input(\"..\")\n",
    "x,y,*z=s.split(\" \")\n",
    "print(x,y)"
   ]
  },
  {
   "cell_type": "code",
   "execution_count": 2,
   "metadata": {},
   "outputs": [
    {
     "name": "stdout",
     "output_type": "stream",
     "text": [
      "['1', '2', '3']\n"
     ]
    }
   ],
   "source": [
    "a=\"1 2 3\"\n",
    "b=a.split(\" \")\n",
    "print(b)"
   ]
  },
  {
   "cell_type": "code",
   "execution_count": 26,
   "metadata": {},
   "outputs": [
    {
     "name": "stdout",
     "output_type": "stream",
     "text": [
      "3\n",
      "1 2 3\n",
      "1 2 3\n",
      "1 2 3\n"
     ]
    },
    {
     "ename": "TypeError",
     "evalue": "can only concatenate str (not \"int\") to str",
     "output_type": "error",
     "traceback": [
      "\u001b[1;31m---------------------------------------------------------------------------\u001b[0m",
      "\u001b[1;31mTypeError\u001b[0m                                 Traceback (most recent call last)",
      "\u001b[1;32m<ipython-input-26-8925b5e054c3>\u001b[0m in \u001b[0;36m<module>\u001b[1;34m\u001b[0m\n\u001b[0;32m      8\u001b[0m     \u001b[1;32mfor\u001b[0m \u001b[0mj\u001b[0m \u001b[1;32min\u001b[0m \u001b[0mrange\u001b[0m\u001b[1;33m(\u001b[0m\u001b[0mn\u001b[0m\u001b[1;33m)\u001b[0m\u001b[1;33m:\u001b[0m\u001b[1;33m\u001b[0m\u001b[1;33m\u001b[0m\u001b[0m\n\u001b[0;32m      9\u001b[0m         \u001b[1;32mif\u001b[0m \u001b[0mi\u001b[0m\u001b[1;33m+\u001b[0m\u001b[0mj\u001b[0m\u001b[1;33m==\u001b[0m\u001b[1;36m2\u001b[0m\u001b[1;33m:\u001b[0m\u001b[1;33m\u001b[0m\u001b[1;33m\u001b[0m\u001b[0m\n\u001b[1;32m---> 10\u001b[1;33m             \u001b[0ma\u001b[0m\u001b[1;33m+=\u001b[0m\u001b[0marr\u001b[0m\u001b[1;33m[\u001b[0m\u001b[0mi\u001b[0m\u001b[1;33m]\u001b[0m\u001b[1;33m[\u001b[0m\u001b[0mj\u001b[0m\u001b[1;33m]\u001b[0m\u001b[1;33m\u001b[0m\u001b[1;33m\u001b[0m\u001b[0m\n\u001b[0m",
      "\u001b[1;31mTypeError\u001b[0m: can only concatenate str (not \"int\") to str"
     ]
    }
   ],
   "source": [
    "n = int(input().strip())\n",
    "\n",
    "arr = []\n",
    "\n",
    "for _ in range(n):\n",
    "    arr.append(list(map(int, input().strip().split())))\n",
    "for i in range(n):\n",
    "    for j in range(n):\n",
    "        if i+j==2:\n",
    "            a+=arr[i][j]\n"
   ]
  },
  {
   "cell_type": "markdown",
   "metadata": {},
   "source": [
    "### "
   ]
  },
  {
   "cell_type": "code",
   "execution_count": 24,
   "metadata": {},
   "outputs": [
    {
     "name": "stdout",
     "output_type": "stream",
     "text": [
      "0 0    0 1    0 2    \n",
      "1 0    1 1    1 2    \n",
      "2 0    2 1    2 2    \n"
     ]
    }
   ],
   "source": [
    "for i in range(3):\n",
    "    for j in range(3):\n",
    "        print(i,j,end=\"    \")\n",
    "    print()"
   ]
  },
  {
   "cell_type": "code",
   "execution_count": 28,
   "metadata": {},
   "outputs": [
    {
     "name": "stdout",
     "output_type": "stream",
     "text": [
      "l chris\n"
     ]
    }
   ],
   "source": [
    "a=\"joel chris\"\n",
    "b=a.strip(\"joe\")\n",
    "print(b)"
   ]
  },
  {
   "cell_type": "code",
   "execution_count": 10,
   "metadata": {},
   "outputs": [
    {
     "name": "stdout",
     "output_type": "stream",
     "text": [
      "10\n"
     ]
    },
    {
     "ename": "TypeError",
     "evalue": "'list' object cannot be interpreted as an integer",
     "output_type": "error",
     "traceback": [
      "\u001b[1;31m---------------------------------------------------------------------------\u001b[0m",
      "\u001b[1;31mTypeError\u001b[0m                                 Traceback (most recent call last)",
      "\u001b[1;32m<ipython-input-10-c78dbba27a36>\u001b[0m in \u001b[0;36m<module>\u001b[1;34m\u001b[0m\n\u001b[0;32m      1\u001b[0m \u001b[0minpu\u001b[0m\u001b[1;33m=\u001b[0m\u001b[0minput\u001b[0m\u001b[1;33m(\u001b[0m\u001b[1;33m)\u001b[0m\u001b[1;33m.\u001b[0m\u001b[0msplit\u001b[0m\u001b[1;33m(\u001b[0m\u001b[1;34m\" \"\u001b[0m\u001b[1;33m)\u001b[0m\u001b[1;33m\u001b[0m\u001b[1;33m\u001b[0m\u001b[0m\n\u001b[1;32m----> 2\u001b[1;33m \u001b[1;32mfor\u001b[0m \u001b[0mi\u001b[0m \u001b[1;32min\u001b[0m \u001b[0mrange\u001b[0m\u001b[1;33m(\u001b[0m\u001b[0minpu\u001b[0m\u001b[1;33m)\u001b[0m\u001b[1;33m:\u001b[0m\u001b[1;33m\u001b[0m\u001b[1;33m\u001b[0m\u001b[0m\n\u001b[0m\u001b[0;32m      3\u001b[0m     \u001b[0mprint\u001b[0m\u001b[1;33m(\u001b[0m\u001b[0mi\u001b[0m\u001b[1;33m)\u001b[0m\u001b[1;33m\u001b[0m\u001b[1;33m\u001b[0m\u001b[0m\n",
      "\u001b[1;31mTypeError\u001b[0m: 'list' object cannot be interpreted as an integer"
     ]
    }
   ],
   "source": [
    "inpu=input().split(\" \")\n",
    "for i in range ():\n",
    "    print(i)"
   ]
  },
  {
   "cell_type": "code",
   "execution_count": 11,
   "metadata": {},
   "outputs": [
    {
     "name": "stdout",
     "output_type": "stream",
     "text": [
      "0\n",
      "1\n",
      "1\n",
      "2\n",
      "3\n",
      "5\n",
      "8\n",
      "13\n",
      "21\n",
      "34\n"
     ]
    }
   ],
   "source": [
    "a = 0\n",
    "b = 1\n",
    "for i in range(10):\n",
    "    if i == 0:\n",
    "        print(i)\n",
    "    else:\n",
    "        s = b + a\n",
    "        print(s)\n",
    "        b = a\n",
    "        a = s"
   ]
  },
  {
   "cell_type": "code",
   "execution_count": null,
   "metadata": {},
   "outputs": [],
   "source": []
  }
 ],
 "metadata": {
  "kernelspec": {
   "display_name": "Python 3",
   "language": "python",
   "name": "python3"
  },
  "language_info": {
   "codemirror_mode": {
    "name": "ipython",
    "version": 3
   },
   "file_extension": ".py",
   "mimetype": "text/x-python",
   "name": "python",
   "nbconvert_exporter": "python",
   "pygments_lexer": "ipython3",
   "version": "3.8.5"
  }
 },
 "nbformat": 4,
 "nbformat_minor": 4
}
