{
 "cells": [
  {
   "cell_type": "code",
   "execution_count": 3,
   "metadata": {},
   "outputs": [
    {
     "name": "stdout",
     "output_type": "stream",
     "text": [
      "[1, 2, 3, 4, 5, 6, 7]\n",
      "[7, 1, 6, 2, 5, 3, 0]\n"
     ]
    }
   ],
   "source": [
    "def rearrange_list(input_list):\n",
    "    input_list.sort()\n",
    "    print(input) "
   ]
  },
  {
   "cell_type": "code",
   "execution_count": 9,
   "metadata": {},
   "outputs": [
    {
     "name": "stdout",
     "output_type": "stream",
     "text": [
      "[1, 2, 3, 4, 5, 6, 9, 10]\n"
     ]
    }
   ],
   "source": [
    "A = [1, 2, 3, 6, 9]\n",
    "B = [2, 4, 5, 10]\n",
    "for i in A:\n",
    "    for j in B:\n",
    "        if i == j:\n",
    "            B.remove(j)\n",
    "print(sorted(A+B))"
   ]
  },
  {
   "cell_type": "code",
   "execution_count": 20,
   "metadata": {},
   "outputs": [
    {
     "name": "stdout",
     "output_type": "stream",
     "text": [
      "[3, 3, 4, 5, 5, 5, 6]\n"
     ]
    }
   ],
   "source": [
    "a=[1, 2, 3, 1, 4, 5, 2, 3, 6]\n",
    "k=3\n",
    "n=0\n",
    "l1=[]\n",
    "l2=[]\n",
    "for i in range(len(a)-2):\n",
    "    for j in range(n,k):\n",
    "        l1.append(a[j])\n",
    "    l2.append(max(l1))\n",
    "    l1=[]\n",
    "    n+=1\n",
    "    k+=1\n",
    "print(l2)\n",
    "        "
   ]
  },
  {
   "cell_type": "code",
   "execution_count": 28,
   "metadata": {},
   "outputs": [
    {
     "name": "stdout",
     "output_type": "stream",
     "text": [
      "2\n",
      "[0, 1, 1]\n",
      "[0, 1, 1, 2]\n",
      "[0, 1, 1, 2, 3]\n",
      "[0, 1, 1, 2, 3, 5]\n",
      "[0, 1, 1, 2, 3, 5, 8]\n",
      "[0, 1, 1, 2, 3, 5, 8, 13]\n",
      "[0, 1, 1, 2, 3, 5, 8, 13, 21]\n",
      "[0, 1, 1, 2, 3, 5, 8, 13, 21, 34]\n",
      "[0, 1, 1, 2, 3, 5, 8, 13, 21, 34]\n"
     ]
    }
   ],
   "source": [
    "def fibonacci(n):\n",
    "    if n <= 0:\n",
    "        return []\n",
    "    elif n == 1:\n",
    "        return [0]\n",
    "    elif n == 2:\n",
    "        print(2)\n",
    "        return [0, 1]\n",
    "    else:\n",
    "        fib_series = fibonacci(n - 1)\n",
    "        fib_series.append(fib_series[-1] + fib_series[-2])\n",
    "        print(fib_series)\n",
    "        return fib_series\n",
    "\n",
    "# Example: Print the first 10 Fibonacci numbers\n",
    "n = 10\n",
    "fib_series = fibonacci(n)\n",
    "print(fib_series)\n"
   ]
  },
  {
   "cell_type": "code",
   "execution_count": 40,
   "metadata": {},
   "outputs": [
    {
     "name": "stdout",
     "output_type": "stream",
     "text": [
      "0 0 0\n",
      "0 0 1\n",
      "0 1 0\n",
      "0 1 1\n",
      "1 0 0\n",
      "1 0 1\n",
      "1 1 0\n",
      "1 1 1\n"
     ]
    }
   ],
   "source": [
    "def generate_binary_combinations(n):\n",
    "    for i in range(2 ** n):\n",
    "        binary_str = bin(i)[2:].zfill(n)\n",
    "        combination = [int(bit) for bit in binary_str]\n",
    "        print(*combination)\n",
    "\n",
    "# Example: Generate all possible binary combinations of 3 bits\n",
    "n = 3\n",
    "generate_binary_combinations(n)\n"
   ]
  },
  {
   "cell_type": "code",
   "execution_count": 38,
   "metadata": {},
   "outputs": [
    {
     "name": "stdout",
     "output_type": "stream",
     "text": [
      "0 0 0\n",
      "0 0 1\n",
      "0 1 0\n",
      "0 1 1\n",
      "1 0 0\n",
      "1 0 1\n",
      "1 1 0\n",
      "1 1 1\n"
     ]
    }
   ],
   "source": [
    "def generate_binary_combinations(n):\n",
    "    for i in range(2):\n",
    "        for j in range(2):\n",
    "            for k in range(2):\n",
    "                print(i, j, k)\n",
    "\n",
    "# Example: Generate all possible binary combinations of 3 bits\n",
    "n = 3\n",
    "generate_binary_combinations(n)\n"
   ]
  },
  {
   "cell_type": "code",
   "execution_count": 2,
   "metadata": {},
   "outputs": [
    {
     "name": "stdout",
     "output_type": "stream",
     "text": [
      "Given array is \n",
      "batman bat apple aa \n",
      "Sorted array is\n",
      "aa apple bat batman "
     ]
    }
   ],
   "source": [
    "# Merge two subarrays arr[l..m] and arr[m+1..r]\n",
    "def merge( arr, l, m, r) :\n",
    "\tn1 = m - l + 1;\n",
    "\tn2 = r - m;\n",
    "\n",
    "\t# create temp arrays */\n",
    "\tL=[0]*(n1);\n",
    "\tR=[0]*(n2);\n",
    "\n",
    "\t# Copy data to temp arrays L[] and R[] */\n",
    "\tfor i in range(0, n1):\n",
    "\t\tL[i] = arr[l + i];\n",
    "\tfor j in range(0, n2):\n",
    "\t\tR[j] = arr[m + 1+ j];\n",
    "\n",
    "\t# Merge the temp arrays back into arr[l..r]*/\n",
    "\ti = 0; # Initial index of first subarray\n",
    "\tj = 0; # Initial index of second subarray\n",
    "\tk = l; # Initial index of merged subarray\n",
    "\twhile (i < n1 and j < n2) :\n",
    "\t\tif (L[i] <= R[j]) :\n",
    "\t\t\tarr[k] = L[i];\n",
    "\t\t\ti+=1;\n",
    "\n",
    "\t\telse:\n",
    "\t\t\tarr[k] = R[j];\n",
    "\t\t\tj+=1;\n",
    "\t\tk+=1;\n",
    "\n",
    "\t# Copy the remaining elements of L[], if there are any\n",
    "\twhile (i < n1):\n",
    "\t\tarr[k] = L[i];\n",
    "\t\ti+=1;\n",
    "\t\tk+=1;\n",
    "\t\n",
    "\t# Copy the remaining elements of R[], if there are any\n",
    "\twhile (j < n2) :\n",
    "\t\tarr[k] = R[j];\n",
    "\t\tj+=1;\n",
    "\t\tk+=1;\n",
    "\t\n",
    "# l is for left index and r is right index of the\n",
    "# sub-array of arr to be sorted */\n",
    "def mergeSort(arr, l, r):\n",
    "\tif (l < r) :\n",
    "\t\t# Same as (l+r)/2, but avoids overflow for\n",
    "\t\t# large l and h\n",
    "\t\tm = l+(r-l)//2;\n",
    "\n",
    "\t\t# Sort first and second halves\n",
    "\t\tmergeSort(arr, l, m);\n",
    "\t\tmergeSort(arr, m+1, r);\n",
    "\n",
    "\t\tmerge(arr, l, m, r);\n",
    "\t\n",
    "# UTILITY FUNCTIONS */\n",
    "# Function to print an array */\n",
    "def printArray( A, size) :\n",
    "\tfor i in range(0,size):\n",
    "\t\tprint(\"%s\" % A[i],end=\" \")\n",
    "\n",
    "\n",
    "# Driver program to test above functions */\n",
    "arr = [\"batman\", \"bat\", \"apple\",\"aa\"];\n",
    "arr_size = len(arr);\n",
    "\n",
    "print(\"Given array is \");\n",
    "printArray(arr, arr_size);\n",
    "\n",
    "mergeSort(arr, 0, arr_size - 1);\n",
    "\n",
    "print(\"\\nSorted array is\");\n",
    "printArray(arr, arr_size);\n"
   ]
  },
  {
   "cell_type": "code",
   "execution_count": null,
   "metadata": {},
   "outputs": [],
   "source": [
    "def is_leap_year(year):\n",
    "    # Check if a year is a leap year\n",
    "    return (year % 4 == 0 and year % 100 != 0) or (year % 400 == 0)\n",
    "\n",
    "def days_in_month(month, year):\n",
    "    # Return the number of days in a month, considering leap years\n",
    "    if month in [1, 3, 5, 7, 8, 10, 12]:\n",
    "        return 31\n",
    "    elif month in [4, 6, 9, 11]:\n",
    "        return 30\n",
    "    elif is_leap_year(year):\n",
    "        return 29\n",
    "    else:\n",
    "        return 28\n",
    "\n",
    "def date_difference(dt1, dt2):\n",
    "    day1, month1, year1 = dt1\n",
    "    day2, month2, year2 = dt2\n",
    "\n",
    "    # Swap dates if dt1 is later than dt2\n",
    "    if year1 > year2 or (year1 == year2 and month1 > month2) or (\n",
    "        year1 == year2 and month1 == month2 and day1 > day2\n",
    "    ):\n",
    "        dt1, dt2 = dt2, dt1\n",
    "\n",
    "    difference = 0\n",
    "\n",
    "    while dt1 != dt2:\n",
    "        difference += 1\n",
    "        day1 += 1\n",
    "        if day1 > days_in_month(month1, year1):\n",
    "            day1 = 1\n",
    "            month1 += 1\n",
    "            if month1 > 12:\n",
    "                month1 = 1\n",
    "                year1 += 1\n",
    "\n",
    "    return difference\n",
    "\n",
    "# Test case\n",
    "dt1 = {10, 2, 2014}\n",
    "dt2 = {10, 3, 2015}\n",
    "difference = date_difference(dt1, dt2)\n",
    "print(difference)\n"
   ]
  },
  {
   "cell_type": "code",
   "execution_count": 2,
   "metadata": {},
   "outputs": [
    {
     "name": "stdout",
     "output_type": "stream",
     "text": [
      "['b', 'e', 'r', 'b', 'i', 'a']\n",
      "['b', 'e', 'r', 'b', 'i', 'a']\n"
     ]
    }
   ],
   "source": [
    "def reverse(s):\n",
    "    vowels='aeiouAEIOU'\n",
    "    s = list(s)\n",
    "    left,right=0,len(s)-1\n",
    "    \n",
    "    while left<right:\n",
    "        while left<right and s[left].lower() not in vowels:\n",
    "            left+=1\n",
    "        while left<right and s[right].lower() not in vowels:\n",
    "            right-=1\n",
    "        if left<right:\n",
    "            s[left],s[right]=s[right],s[left]\n",
    "            left+=1\n",
    "            right-=1\n",
    "        print(s)\n",
    "reverse(\"barbie\")"
   ]
  },
  {
   "cell_type": "code",
   "execution_count": null,
   "metadata": {},
   "outputs": [],
   "source": []
  }
 ],
 "metadata": {
  "kernelspec": {
   "display_name": "Python 3",
   "language": "python",
   "name": "python3"
  },
  "language_info": {
   "codemirror_mode": {
    "name": "ipython",
    "version": 3
   },
   "file_extension": ".py",
   "mimetype": "text/x-python",
   "name": "python",
   "nbconvert_exporter": "python",
   "pygments_lexer": "ipython3",
   "version": "3.8.5"
  }
 },
 "nbformat": 4,
 "nbformat_minor": 4
}
