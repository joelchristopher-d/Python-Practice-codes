{
 "cells": [
  {
   "cell_type": "markdown",
   "metadata": {},
   "source": [
    "# LINEAR SEARCH"
   ]
  },
  {
   "cell_type": "code",
   "execution_count": 2,
   "metadata": {},
   "outputs": [
    {
     "name": "stdout",
     "output_type": "stream",
     "text": [
      "7\n",
      "7 not available in the index 0\n",
      "7 not available in the index 1\n",
      "7 not available in the index 2\n",
      "7 not available in the index 3\n",
      "7 not available in the index 4\n",
      "7 not available in the index 5\n",
      "7 found in the index 6\n"
     ]
    }
   ],
   "source": [
    "def LinearSearch(list1,inputnum):\n",
    "    for i in range(len(list1)):\n",
    "        if list1[i] == inputnum:\n",
    "            print(f\"{inputnum} found in the index {i}\")\n",
    "            break\n",
    "        else:\n",
    "            print(f\"{inputnum} not available in the index {i}\")\n",
    "\n",
    "if __name__ == \"__main__\":\n",
    "    \n",
    "    List1 = [1,2,3,4,5,6,7,8,9]\n",
    "    inp = int(input())\n",
    "    LinearSearch(List1,inp)\n",
    "    "
   ]
  },
  {
   "cell_type": "markdown",
   "metadata": {},
   "source": [
    "# Binary Search"
   ]
  },
  {
   "cell_type": "code",
   "execution_count": null,
   "metadata": {},
   "outputs": [],
   "source": [
    "def BinarySearch(list1,target):\n",
    "    low = 0\n",
    "    high = len(list1)-1\n",
    "    while(low<=high):\n",
    "        mid = (high+low)//2\n",
    "        if (list1[mid]==target):\n",
    "            return mid\n",
    "        elif (list1[mid]<target):\n",
    "            low = mid + 1\n",
    "        else:\n",
    "            high = mid - 1\n",
    "    return -1\n",
    "\n",
    "if __name__ == \"__main__\":\n",
    "    \n",
    "    List1 = [0,1,5,20]\n",
    "    inp = int(input())\n",
    "    output = BinarySearch(List1,inp)\n",
    "    if(output != -1):\n",
    "        print(f\"{inp} found in index {output}\")\n",
    "    else:\n",
    "        print(f\"{inp} not found\")"
   ]
  },
  {
   "cell_type": "markdown",
   "metadata": {},
   "source": [
    "# TWO POINTERS"
   ]
  },
  {
   "cell_type": "code",
   "execution_count": 41,
   "metadata": {},
   "outputs": [
    {
     "name": "stdout",
     "output_type": "stream",
     "text": [
      "7\n",
      "numbers are 2 + 5 = 7\n"
     ]
    }
   ],
   "source": [
    "def TwoPointers(list1,target):\n",
    "    low = 0\n",
    "    high = len(list1)-1\n",
    "    while(low<high):\n",
    "        total = list1[low] + list1[high]\n",
    "        if (total==target):\n",
    "            return [list1[low],list1[high]]\n",
    "        elif(total>target):\n",
    "            high-=1\n",
    "        else:\n",
    "            low+=1\n",
    "\n",
    "if __name__ == \"__main__\":\n",
    "    \n",
    "    List1 = [1,2,3,4,5,8]\n",
    "    inp = int(input())\n",
    "    output = TwoPointers(List1,inp)\n",
    "    if(len(output)==2):\n",
    "        print(f\"numbers are {output[0]} + {output[1]} = {inp}\")\n",
    "    else:\n",
    "        print(f\"{inp} not found\")"
   ]
  },
  {
   "cell_type": "markdown",
   "metadata": {},
   "source": [
    "# RECURSION"
   ]
  },
  {
   "cell_type": "code",
   "execution_count": 2,
   "metadata": {},
   "outputs": [
    {
     "name": "stdout",
     "output_type": "stream",
     "text": [
      "15\n"
     ]
    }
   ],
   "source": [
    "def Recursion(n):\n",
    "    if n == 1:\n",
    "        return 1\n",
    "    else:\n",
    "        return n + Recursion(n-1)\n",
    "\n",
    "if __name__ == \"__main__\":\n",
    "    \n",
    "    sum = Recursion(5)\n",
    "    print(sum)"
   ]
  },
  {
   "cell_type": "code",
   "execution_count": null,
   "metadata": {},
   "outputs": [],
   "source": []
  }
 ],
 "metadata": {
  "kernelspec": {
   "display_name": "Python 3",
   "language": "python",
   "name": "python3"
  },
  "language_info": {
   "codemirror_mode": {
    "name": "ipython",
    "version": 3
   },
   "file_extension": ".py",
   "mimetype": "text/x-python",
   "name": "python",
   "nbconvert_exporter": "python",
   "pygments_lexer": "ipython3",
   "version": "3.8.5"
  }
 },
 "nbformat": 4,
 "nbformat_minor": 4
}
