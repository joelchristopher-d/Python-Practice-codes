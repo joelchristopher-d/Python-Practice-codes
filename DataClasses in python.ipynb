{
 "cells": [
  {
   "cell_type": "markdown",
   "metadata": {},
   "source": [
    "# Data Classes in  python"
   ]
  },
  {
   "cell_type": "code",
   "execution_count": 7,
   "metadata": {},
   "outputs": [
    {
     "name": "stdout",
     "output_type": "stream",
     "text": [
      "False\n",
      "False\n"
     ]
    }
   ],
   "source": [
    "class player:\n",
    "    def __init__(self,name, age, nickname):\n",
    "        self.name = name\n",
    "        self.age = age\n",
    "        self.nickname = nickname\n",
    "        \n",
    "p1 = player(\"sachin\", 50, \"God\")\n",
    "p2 = player (\"dhoni\",41,\"cool\")\n",
    "p3 = player(\"sachin\",50,\"God\")\n",
    "\n",
    "print(p1==p3)\n",
    "print(p1 is p3)"
   ]
  },
  {
   "cell_type": "code",
   "execution_count": 5,
   "metadata": {},
   "outputs": [
    {
     "name": "stdout",
     "output_type": "stream",
     "text": [
      "True =>data\n",
      "False =>address\n"
     ]
    }
   ],
   "source": [
    "from dataclasses import dataclass\n",
    "\n",
    "@dataclass\n",
    "class player:\n",
    "    name:str\n",
    "    age:int\n",
    "    nickname:str\n",
    "    \n",
    "p1 = player(\"sachin\", 50, \"God\")\n",
    "p2 = player (\"dhoni\",41,\"cool\")\n",
    "p3 = player(\"sachin\",50,\"God\")\n",
    "\n",
    "print(p1==p3,\"=>data\")\n",
    "print(p1 is p3,\"=>address\")"
   ]
  },
  {
   "cell_type": "code",
   "execution_count": 7,
   "metadata": {},
   "outputs": [
    {
     "name": "stdout",
     "output_type": "stream",
     "text": [
      "player(name='sachin', age=50, nickname='God')\n"
     ]
    },
    {
     "ename": "FrozenInstanceError",
     "evalue": "cannot assign to field 'name'",
     "output_type": "error",
     "traceback": [
      "\u001b[1;31m---------------------------------------------------------------------------\u001b[0m",
      "\u001b[1;31mFrozenInstanceError\u001b[0m                       Traceback (most recent call last)",
      "\u001b[1;32m<ipython-input-7-953fb334a784>\u001b[0m in \u001b[0;36m<module>\u001b[1;34m\u001b[0m\n\u001b[0;32m     11\u001b[0m \u001b[0mprint\u001b[0m\u001b[1;33m(\u001b[0m\u001b[0mp1\u001b[0m\u001b[1;33m)\u001b[0m\u001b[1;33m\u001b[0m\u001b[1;33m\u001b[0m\u001b[0m\n\u001b[0;32m     12\u001b[0m \u001b[1;33m\u001b[0m\u001b[0m\n\u001b[1;32m---> 13\u001b[1;33m \u001b[0mp1\u001b[0m\u001b[1;33m.\u001b[0m\u001b[0mname\u001b[0m \u001b[1;33m=\u001b[0m \u001b[1;34m\"joel\"\u001b[0m\u001b[1;33m\u001b[0m\u001b[1;33m\u001b[0m\u001b[0m\n\u001b[0m",
      "\u001b[1;32m<string>\u001b[0m in \u001b[0;36m__setattr__\u001b[1;34m(self, name, value)\u001b[0m\n",
      "\u001b[1;31mFrozenInstanceError\u001b[0m: cannot assign to field 'name'"
     ]
    }
   ],
   "source": [
    "from dataclasses import dataclass\n",
    "\n",
    "@dataclass(frozen=True)\n",
    "class player:\n",
    "    name:str\n",
    "    age:int\n",
    "    nickname:str\n",
    "    \n",
    "p1 = player(\"sachin\", 50, \"God\")\n",
    "\n",
    "print(p1)\n",
    "\n",
    "p1.name = \"joel\""
   ]
  },
  {
   "cell_type": "code",
   "execution_count": 12,
   "metadata": {},
   "outputs": [
    {
     "name": "stdout",
     "output_type": "stream",
     "text": [
      "100.0\n"
     ]
    }
   ],
   "source": [
    "#post init\n",
    "\n",
    "from dataclasses import dataclass,field\n",
    "\n",
    "@dataclass\n",
    "class player:\n",
    "    name:str\n",
    "    sport:str\n",
    "    matches:int\n",
    "    runs:int\n",
    "    average:float = field(init=False)\n",
    "    \n",
    "    def __post_init__(self):\n",
    "        self.average = self.runs/self.matches\n",
    "        \n",
    "sachin = player(\"sachin\",\"cricket\", 2, 200)\n",
    "\n",
    "print(sachin.average)"
   ]
  },
  {
   "cell_type": "code",
   "execution_count": null,
   "metadata": {},
   "outputs": [],
   "source": []
  }
 ],
 "metadata": {
  "kernelspec": {
   "display_name": "Python 3",
   "language": "python",
   "name": "python3"
  },
  "language_info": {
   "codemirror_mode": {
    "name": "ipython",
    "version": 3
   },
   "file_extension": ".py",
   "mimetype": "text/x-python",
   "name": "python",
   "nbconvert_exporter": "python",
   "pygments_lexer": "ipython3",
   "version": "3.8.5"
  }
 },
 "nbformat": 4,
 "nbformat_minor": 4
}
