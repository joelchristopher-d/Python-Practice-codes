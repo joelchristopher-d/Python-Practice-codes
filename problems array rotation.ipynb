{
 "cells": [
  {
   "cell_type": "code",
   "execution_count": 2,
   "metadata": {},
   "outputs": [
    {
     "name": "stdout",
     "output_type": "stream",
     "text": [
      "1\n",
      "2\n",
      "3\n",
      "4\n"
     ]
    }
   ],
   "source": [
    "def rotation(matrix):\n",
    "    for i in matrix:\n",
    "        for j in i:\n",
    "            print(j)\n",
    "\n",
    "a=[[1,2,],[3,4]]\n",
    "rotation(a)"
   ]
  },
  {
   "cell_type": "code",
   "execution_count": 5,
   "metadata": {},
   "outputs": [
    {
     "name": "stdout",
     "output_type": "stream",
     "text": [
      "[1, 2, 3, 4, 5]\n",
      "[6, 7, 8, 9, 10]\n",
      "[11, 12, 13, 14, 15]\n",
      "[16, 17, 18, 19, 20]\n",
      "[21, 22, 23, 24, 25]\n"
     ]
    }
   ],
   "source": [
    "def rotation(matrix):\n",
    "    for i in matrix:\n",
    "        print(i)\n",
    "\n",
    "a=[[1,2,3,4,5],\n",
    "   [6,7,8,9,10],\n",
    "   [11,12,13,14,15],\n",
    "   [16,17,18,19,20],\n",
    "   [21,22,23,24,25]]\n",
    "rotation(a)"
   ]
  },
  {
   "cell_type": "code",
   "execution_count": 8,
   "metadata": {},
   "outputs": [
    {
     "name": "stdout",
     "output_type": "stream",
     "text": [
      "[21, 2, 3, 4, 25]\n",
      "[6, 17, 8, 19, 10]\n",
      "[11, 12, 13, 14, 15]\n",
      "[16, 7, 18, 9, 20]\n",
      "[1, 22, 23, 24, 5]\n"
     ]
    }
   ],
   "source": [
    "def rotation(m):\n",
    "    size = len(m)\n",
    "    layer = size//2\n",
    "#     print(layer)\n",
    "    for i in range(0,layer):\n",
    "        first = i\n",
    "        last = size-first-1\n",
    "#         print(first,last)\n",
    "        topleft = a[first][first]\n",
    "        topright = a[first][last]\n",
    "        bottomleft = a[last][first]\n",
    "        bottomright= a[last][last]\n",
    "        \n",
    "        a[first][first] = bottomleft\n",
    "        a[last][first] = topleft\n",
    "        a[first][last] = bottomright\n",
    "        a[last][last] = topright\n",
    "        \n",
    "    for i in a:\n",
    "        print(i)\n",
    "        \n",
    "        \n",
    "        \n",
    "        \n",
    "        \n",
    "\n",
    "a=[[1,2,3,4,5],\n",
    "   [6,7,8,9,10],\n",
    "   [11,12,13,14,15],\n",
    "   [16,17,18,19,20],\n",
    "   [21,22,23,24,25]]\n",
    "rotation(a)"
   ]
  },
  {
   "cell_type": "code",
   "execution_count": 18,
   "metadata": {},
   "outputs": [
    {
     "name": "stdout",
     "output_type": "stream",
     "text": [
      "4\n",
      "[21, 16, 11, 6, 1]\n",
      "[22, 17, 12, 7, 2]\n",
      "[23, 18, 13, 8, 3]\n",
      "[24, 19, 14, 9, 4]\n",
      "[25, 20, 15, 10, 5]\n",
      "[25, 24, 23, 22, 21]\n",
      "[20, 19, 18, 17, 16]\n",
      "[15, 14, 13, 12, 11]\n",
      "[10, 9, 8, 7, 6]\n",
      "[5, 4, 3, 2, 1]\n",
      "[5, 10, 15, 20, 25]\n",
      "[4, 9, 14, 19, 24]\n",
      "[3, 8, 13, 18, 23]\n",
      "[2, 7, 12, 17, 22]\n",
      "[1, 6, 11, 16, 21]\n",
      "[1, 2, 3, 4, 5]\n",
      "[6, 7, 8, 9, 10]\n",
      "[11, 12, 13, 14, 15]\n",
      "[16, 17, 18, 19, 20]\n",
      "[21, 22, 23, 24, 25]\n"
     ]
    }
   ],
   "source": [
    "def rotation(m):\n",
    "    size = len(m)\n",
    "    layer = size//2\n",
    "#     print(layer)\n",
    "\n",
    "    for i in range(0,layer):\n",
    "        first = i\n",
    "        last = size-first-1\n",
    "        for j in range(first,last):\n",
    "            off = j - first\n",
    "            \n",
    "#             top = (first,j)\n",
    "#             right = (last,off)\n",
    "#             bottom = (last,last-off)\n",
    "#             left = (last-off,first)\n",
    "            \n",
    "#             print(f\"{top}\\n{right}\\n{bottom}\\n{left}\")\n",
    "            \n",
    "            top = m[first][j]\n",
    "            right = m[j][last]\n",
    "            bottom = m[last][last-off]\n",
    "            left = m[last-off][first]\n",
    "            \n",
    "            m[first][j] = left\n",
    "            m[j][last] = top\n",
    "            m[last][last-off] = right\n",
    "            m[last-off][first] = bottom\n",
    "        \n",
    "    for i in m:\n",
    "        print(i)\n",
    "\n",
    "        \n",
    "        \n",
    "\n",
    "a=[[1,2,3,4,5],\n",
    "   [6,7,8,9,10],\n",
    "   [11,12,13,14,15],\n",
    "   [16,17,18,19,20],\n",
    "   [21,22,23,24,25]]\n",
    "for i in range(int(input())):\n",
    "    rotation(a)"
   ]
  },
  {
   "cell_type": "code",
   "execution_count": 21,
   "metadata": {},
   "outputs": [
    {
     "name": "stdout",
     "output_type": "stream",
     "text": [
      "2\n",
      "[25, 24, 23, 22, 21]\n",
      "[20, 19, 18, 17, 16]\n",
      "[15, 14, 13, 12, 11]\n",
      "[10, 9, 8, 7, 6]\n",
      "[5, 4, 3, 2, 1]\n"
     ]
    }
   ],
   "source": [
    "def rotation(m):\n",
    "    size = len(m)\n",
    "    layer = size//2\n",
    "#     print(layer)\n",
    "    for i in range(int(input())):\n",
    "        for i in range(0,layer):\n",
    "            first = i\n",
    "            last = size-first-1\n",
    "            for j in range(first,last):\n",
    "                off = j - first\n",
    "\n",
    "        #             top = (first,j)\n",
    "        #             right = (last,off)\n",
    "        #             bottom = (last,last-off)\n",
    "        #             left = (last-off,first)\n",
    "\n",
    "        #             print(f\"{top}\\n{right}\\n{bottom}\\n{left}\")\n",
    "\n",
    "                top = m[first][j]\n",
    "                right = m[j][last]\n",
    "                bottom = m[last][last-off]\n",
    "                left = m[last-off][first]\n",
    "\n",
    "                m[first][j] = left\n",
    "                m[j][last] = top\n",
    "                m[last][last-off] = right\n",
    "                m[last-off][first] = bottom\n",
    "\n",
    "    for i in m:\n",
    "        print(i)\n",
    "\n",
    "        \n",
    "        \n",
    "\n",
    "a=[[1,2,3,4,5],\n",
    "   [6,7,8,9,10],\n",
    "   [11,12,13,14,15],\n",
    "   [16,17,18,19,20],\n",
    "   [21,22,23,24,25]]\n",
    "rotation(a)"
   ]
  },
  {
   "cell_type": "code",
   "execution_count": 22,
   "metadata": {},
   "outputs": [
    {
     "name": "stdout",
     "output_type": "stream",
     "text": [
      "1\n",
      "[5, 10, 15, 20, 25]\n",
      "[4, 9, 14, 19, 24]\n",
      "[3, 8, 13, 18, 23]\n",
      "[2, 7, 12, 17, 22]\n",
      "[1, 6, 11, 16, 21]\n"
     ]
    }
   ],
   "source": [
    "def rotation(m):\n",
    "    size = len(m)\n",
    "    layer = size//2\n",
    "#     print(layer)\n",
    "    for i in range(int(input())):\n",
    "        for i in range(0,layer):\n",
    "            first = i\n",
    "            last = size-first-1\n",
    "            for j in range(first,last):\n",
    "                off = j - first\n",
    "\n",
    "        #             top = (first,j)\n",
    "        #             right = (last,off)\n",
    "        #             bottom = (last,last-off)\n",
    "        #             left = (last-off,first)\n",
    "\n",
    "        #             print(f\"{top}\\n{right}\\n{bottom}\\n{left}\")\n",
    "\n",
    "                top = m[first][j]\n",
    "                right = m[j][last]\n",
    "                bottom = m[last][last-off]\n",
    "                left = m[last-off][first]\n",
    "\n",
    "                m[first][j] = right\n",
    "                m[j][last] = bottom\n",
    "                m[last][last-off] = left\n",
    "                m[last-off][first] = top\n",
    "\n",
    "    for i in m:\n",
    "        print(i)\n",
    "\n",
    "        \n",
    "        \n",
    "\n",
    "a=[[1,2,3,4,5],\n",
    "   [6,7,8,9,10],\n",
    "   [11,12,13,14,15],\n",
    "   [16,17,18,19,20],\n",
    "   [21,22,23,24,25]]\n",
    "rotation(a)"
   ]
  },
  {
   "cell_type": "code",
   "execution_count": null,
   "metadata": {},
   "outputs": [],
   "source": []
  }
 ],
 "metadata": {
  "kernelspec": {
   "display_name": "Python 3",
   "language": "python",
   "name": "python3"
  },
  "language_info": {
   "codemirror_mode": {
    "name": "ipython",
    "version": 3
   },
   "file_extension": ".py",
   "mimetype": "text/x-python",
   "name": "python",
   "nbconvert_exporter": "python",
   "pygments_lexer": "ipython3",
   "version": "3.8.5"
  }
 },
 "nbformat": 4,
 "nbformat_minor": 4
}
