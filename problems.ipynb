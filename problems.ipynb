{
 "cells": [
  {
   "cell_type": "code",
   "execution_count": 5,
   "metadata": {},
   "outputs": [
    {
     "name": "stdout",
     "output_type": "stream",
     "text": [
      "<class 'tuple'>\n"
     ]
    }
   ],
   "source": [
    "var=12,\n",
    "print(type(var))"
   ]
  },
  {
   "cell_type": "code",
   "execution_count": 6,
   "metadata": {},
   "outputs": [],
   "source": [
    "d={'a':1,'b':2}\n",
    "l=[1,2,3,4,5]\n",
    "t=(1,2,3,4,5)\n",
    "s={1,2,3,4,5}"
   ]
  },
  {
   "cell_type": "code",
   "execution_count": 10,
   "metadata": {},
   "outputs": [
    {
     "name": "stdout",
     "output_type": "stream",
     "text": [
      "[9, 6, 4, 3, 2, 1, 0]\n"
     ]
    }
   ],
   "source": [
    "L = [3,4,6,2,1,9,0]\n",
    "for i in range(len(L)):\n",
    "    \n",
    "    for j in range(len(L)-1-i):\n",
    "        if L[j]<L[j+1]:\n",
    "            L[j],L[j+1]=L[j+1],L[j]\n",
    "print(L)"
   ]
  },
  {
   "cell_type": "code",
   "execution_count": 15,
   "metadata": {},
   "outputs": [
    {
     "name": "stdout",
     "output_type": "stream",
     "text": [
      "{'a': 5, 'b': 4, 'c': 3, 'd': 2, 'e': 1}\n"
     ]
    }
   ],
   "source": [
    "d={'a':1,\"b\":2,'c':3,'d':4,'e':5}\n",
    "for i in d:\n",
    "    for j in d:\n",
    "        if d[i]>d[j]:\n",
    "            d[i],d[j]=d[j],d[i]\n",
    "print(d)"
   ]
  },
  {
   "cell_type": "code",
   "execution_count": 9,
   "metadata": {},
   "outputs": [
    {
     "name": "stdout",
     "output_type": "stream",
     "text": [
      "3628800\n"
     ]
    }
   ],
   "source": [
    "# importing libraries\n",
    "import time\n",
    "import math\n",
    "\n",
    "# decorator to calculate duration\n",
    "# taken by any function.\n",
    "def calculate_time(func):\n",
    "\t\n",
    "\t# added arguments inside the inner1,\n",
    "\t# if function takes any arguments,\n",
    "\t# can be added like this.\n",
    "\tdef inner1(*args, **kwargs):\n",
    "\n",
    "\t\t# storing time before function execution\n",
    "\t\tbegin = time.time()\n",
    "\t\t\n",
    "\t\tfunc(*args, **kwargs)\n",
    "\n",
    "\t\t# storing time after function execution\n",
    "\t\tend = time.time()\n",
    "\t\tprint(\"Total time taken in : \", func.__name__, end - begin)\n",
    "\n",
    "\treturn inner1\n",
    "\n",
    "\n",
    "\n",
    "# this can be added to any function present,\n",
    "# in this case to calculate a factorial\n",
    "factorial=calculate_time(factorial)\n",
    "def factorial(num):\n",
    "\n",
    "\t# sleep 2 seconds because it takes very less time\n",
    "\t# so that you can see the actual difference\n",
    "\ttime.sleep(2)\n",
    "\tprint(math.factorial(num))\n",
    "\n",
    "# calling the function.\n",
    "factorial(10)\n"
   ]
  },
  {
   "cell_type": "code",
   "execution_count": 2,
   "metadata": {},
   "outputs": [
    {
     "name": "stdout",
     "output_type": "stream",
     "text": [
      "1\n",
      "2\n",
      "3\n",
      "4\n",
      "5\n"
     ]
    }
   ],
   "source": [
    "l=[1,2,3,4,5]\n",
    "for i in range(len(l)):\n",
    "    print(l[i])"
   ]
  },
  {
   "cell_type": "code",
   "execution_count": 7,
   "metadata": {},
   "outputs": [
    {
     "name": "stdout",
     "output_type": "stream",
     "text": [
      "{'a': 1, 'b': 2, 'c': 3, 'd': 4, 'e': 5}\n"
     ]
    }
   ],
   "source": [
    "d={'a':1,\"b\":2,'c':3,'d':4,'e':5}\n",
    "for i in d:\n",
    "    for j in d:\n",
    "        if d[i]==d[j]:\n",
    "            pass\n",
    "        else:\n",
    "            i,j=j,i\n",
    "print(d)"
   ]
  },
  {
   "cell_type": "code",
   "execution_count": 22,
   "metadata": {},
   "outputs": [
    {
     "name": "stdout",
     "output_type": "stream",
     "text": [
      "1\n",
      "2\n",
      "3\n",
      "4\n"
     ]
    }
   ],
   "source": [
    "l=[[1,2],[3,4]]\n",
    "for i in l:\n",
    "    for j in i:\n",
    "        print(j)    "
   ]
  },
  {
   "cell_type": "code",
   "execution_count": 15,
   "metadata": {
    "scrolled": true
   },
   "outputs": [
    {
     "name": "stdout",
     "output_type": "stream",
     "text": [
      "1\n",
      "2\n",
      "3\n",
      "9\n",
      "10\n"
     ]
    }
   ],
   "source": [
    "l=[1,2,3,[9,10]]\n",
    "for i in l:\n",
    "    if type(i) == list:\n",
    "        for j in i:\n",
    "            print(j)\n",
    "    else:\n",
    "        print(i)"
   ]
  },
  {
   "cell_type": "code",
   "execution_count": 28,
   "metadata": {},
   "outputs": [
    {
     "data": {
      "text/plain": [
       "4"
      ]
     },
     "execution_count": 28,
     "metadata": {},
     "output_type": "execute_result"
    }
   ],
   "source": [
    "def a(n):\n",
    "    return lambda a:a*n\n",
    "v=a(2)\n",
    "v(2)\n",
    "\n",
    "\n"
   ]
  },
  {
   "cell_type": "code",
   "execution_count": 29,
   "metadata": {
    "scrolled": true
   },
   "outputs": [
    {
     "name": "stdout",
     "output_type": "stream",
     "text": [
      "1 \n",
      "3 2 \n",
      "6 5 4 \n",
      "10 9 8 7 \n"
     ]
    }
   ],
   "source": [
    "a=1\n",
    "b=2\n",
    "c=b\n",
    "for i in range(2,6):\n",
    "    for j in range(a,b):\n",
    "        c-=1\n",
    "        print(c,end=\" \")\n",
    "    print()\n",
    "    a=b\n",
    "    b+=i\n",
    "    c=b"
   ]
  },
  {
   "cell_type": "code",
   "execution_count": 81,
   "metadata": {},
   "outputs": [
    {
     "name": "stdout",
     "output_type": "stream",
     "text": [
      "1 \n",
      "2 3 \n",
      "4 5 6 \n",
      "7 8 9 10 \n"
     ]
    }
   ],
   "source": [
    "a=1\n",
    "for i in range(4):\n",
    "    for j in range(i+1,0,-1):\n",
    "        print(a,end=\" \")\n",
    "        \n",
    "        a+=1\n",
    "    \n",
    "\n",
    "    print()\n",
    "    \n",
    "        \n",
    "    \n",
    "    "
   ]
  },
  {
   "cell_type": "code",
   "execution_count": 90,
   "metadata": {},
   "outputs": [
    {
     "name": "stdout",
     "output_type": "stream",
     "text": [
      "1 x 10 = 10\n",
      "2 x 10 = 20\n",
      "3 x 10 = 30\n",
      "4 x 10 = 40\n",
      "5 x 10 = 50\n",
      "6 x 10 = 60\n",
      "7 x 10 = 70\n",
      "8 x 10 = 80\n",
      "9 x 10 = 90\n",
      "10 x 10 = 100\n",
      "1 - 10 = -9\n",
      "2 - 10 = -8\n",
      "3 - 10 = -7\n",
      "4 - 10 = -6\n",
      "5 - 10 = -5\n",
      "6 - 10 = -4\n",
      "7 - 10 = -3\n",
      "8 - 10 = -2\n",
      "9 - 10 = -1\n",
      "10 - 10 = 0\n"
     ]
    }
   ],
   "source": [
    "n=10\n",
    "for i in range(10):\n",
    "    for j in range(n,n+1):\n",
    "        print(i+1,\"x\",j,\"=\",(i+1)*j)\n",
    "for i in range(10):\n",
    "    for k in range(n,n+1):\n",
    "        print(i+1,\"-\",j,\"=\",(i+1)-j)"
   ]
  },
  {
   "cell_type": "code",
   "execution_count": 109,
   "metadata": {},
   "outputs": [
    {
     "name": "stdout",
     "output_type": "stream",
     "text": [
      "A\n",
      "ABCDEFGHIJKLMNOPQRSTUVWXYZ"
     ]
    }
   ],
   "source": [
    "a=input()\n",
    "if ord(a)<=90:\n",
    "    for i in range(ord(a),ord(\"Z\")+1):\n",
    "        print(chr(i),end=\"\")"
   ]
  },
  {
   "cell_type": "code",
   "execution_count": 100,
   "metadata": {},
   "outputs": [
    {
     "name": "stdout",
     "output_type": "stream",
     "text": [
      "65\n"
     ]
    }
   ],
   "source": [
    "ord('Z')\n",
    "a=ord(\"A\")\n",
    "print(a)"
   ]
  },
  {
   "cell_type": "code",
   "execution_count": 130,
   "metadata": {},
   "outputs": [
    {
     "name": "stdout",
     "output_type": "stream",
     "text": [
      "E\n",
      "EEEEE\n",
      "DDDD\n",
      "CCC\n",
      "BB\n",
      "A\n"
     ]
    }
   ],
   "source": [
    "# n=5\n",
    "b=input()\n",
    "a=ord(b)\n",
    "# for in \n",
    "\n",
    "for i in range(0,5):\n",
    "    for j in range(5,i,-1):\n",
    "        print(chr(a),end=\"\")\n",
    "    a-=1\n",
    "#     if a<65:\n",
    "#         break\n",
    "    print()"
   ]
  },
  {
   "cell_type": "code",
   "execution_count": 131,
   "metadata": {},
   "outputs": [
    {
     "name": "stdout",
     "output_type": "stream",
     "text": [
      "12345\n",
      "-41976\n"
     ]
    }
   ],
   "source": [
    "a=input()\n",
    "b=\"\"\n",
    "for i in a:\n",
    "    b=i+b\n",
    "print(int(a)-int(b)) "
   ]
  },
  {
   "cell_type": "code",
   "execution_count": 120,
   "metadata": {},
   "outputs": [
    {
     "name": "stdout",
     "output_type": "stream",
     "text": [
      "1 x 5 = 5\n",
      "2 x 5 = 10\n",
      "3 x 5 = 15\n",
      "4 x 5 = 20\n",
      "5 x 5 = 25\n",
      "6 x 5 = 30\n",
      "7 x 5 = 35\n",
      "8 x 5 = 40\n",
      "9 x 5 = 45\n",
      "10 x 5 = 50\n",
      "1 - 5 = -4\n",
      "2 - 5 = -3\n",
      "3 - 5 = -2\n",
      "4 - 5 = -1\n",
      "5 - 5 = 0\n",
      "6 - 5 = 1\n",
      "7 - 5 = 2\n",
      "8 - 5 = 3\n",
      "9 - 5 = 4\n",
      "10 - 5 = 5\n"
     ]
    }
   ],
   "source": [
    "n=10\n",
    "m=5\n",
    "for i in range(1,n+1):\n",
    "    print(i,\"x\",m,\"=\",i*m)\n",
    "for j in range(1,n+1):\n",
    "    print(j,\"-\",m,\"=\",j-m)"
   ]
  },
  {
   "cell_type": "code",
   "execution_count": 2,
   "metadata": {},
   "outputs": [
    {
     "ename": "TypeError",
     "evalue": "'>' not supported between instances of 'NoneType' and 'int'",
     "output_type": "error",
     "traceback": [
      "\u001b[1;31m---------------------------------------------------------------------------\u001b[0m",
      "\u001b[1;31mTypeError\u001b[0m                                 Traceback (most recent call last)",
      "\u001b[1;32m<ipython-input-2-ea76a5036aa2>\u001b[0m in \u001b[0;36m<module>\u001b[1;34m\u001b[0m\n\u001b[0;32m      1\u001b[0m \u001b[0mn\u001b[0m \u001b[1;33m=\u001b[0m \u001b[1;32mNone\u001b[0m\u001b[1;33m\u001b[0m\u001b[1;33m\u001b[0m\u001b[0m\n\u001b[0;32m      2\u001b[0m \u001b[0mi\u001b[0m \u001b[1;33m=\u001b[0m \u001b[1;36m6\u001b[0m\u001b[1;33m\u001b[0m\u001b[1;33m\u001b[0m\u001b[0m\n\u001b[1;32m----> 3\u001b[1;33m \u001b[1;32mif\u001b[0m\u001b[1;33m(\u001b[0m\u001b[0mn\u001b[0m\u001b[1;33m>\u001b[0m\u001b[0mi\u001b[0m\u001b[1;33m)\u001b[0m\u001b[1;33m:\u001b[0m\u001b[1;33m\u001b[0m\u001b[1;33m\u001b[0m\u001b[0m\n\u001b[0m\u001b[0;32m      4\u001b[0m     \u001b[0mprint\u001b[0m\u001b[1;33m(\u001b[0m\u001b[1;34m\"ok\"\u001b[0m\u001b[1;33m)\u001b[0m\u001b[1;33m\u001b[0m\u001b[1;33m\u001b[0m\u001b[0m\n",
      "\u001b[1;31mTypeError\u001b[0m: '>' not supported between instances of 'NoneType' and 'int'"
     ]
    }
   ],
   "source": [
    "n = None \n",
    "i = 6\n",
    "if(n>i):\n",
    "    print(\"ok\")"
   ]
  },
  {
   "cell_type": "code",
   "execution_count": 8,
   "metadata": {},
   "outputs": [
    {
     "name": "stdout",
     "output_type": "stream",
     "text": [
      "10\n",
      "[10, 30, 4, 5]\n"
     ]
    }
   ],
   "source": [
    "userlist = [10,2,30,4,5]\n",
    "def rm_min(lis):\n",
    "    minn = None\n",
    "    ind = None\n",
    "    for i, j in enumerate(lis):\n",
    "        if minn and j < minn:\n",
    "            minn = j\n",
    "            ind = i\n",
    "#             print(minn)\n",
    "        elif not minn:\n",
    "            minn = j\n",
    "            print(minn)\n",
    "        else:\n",
    "            pass\n",
    "    return [ y for x,y in enumerate(userlist) if x != ind]\n",
    "\n",
    "print(rm_min(userlist))"
   ]
  },
  {
   "cell_type": "code",
   "execution_count": 1,
   "metadata": {},
   "outputs": [
    {
     "name": "stdout",
     "output_type": "stream",
     "text": [
      "1 \n",
      "2 1 \n",
      "3 2 1 \n",
      "4 3 2 1 \n",
      "5 4 3 2 1 \n",
      "6 5 4 3 2 1 \n",
      "7 6 5 4 3 2 1 \n",
      "8 7 6 5 4 3 2 1 \n",
      "9 8 7 6 5 4 3 2 1 \n",
      "10 9 8 7 6 5 4 3 2 1 \n"
     ]
    }
   ],
   "source": [
    "size=10\n",
    "i=1\n",
    "\n",
    "while(i<=size): # first loop.\n",
    "\n",
    "    j=i\n",
    "\n",
    "    while(j>=1): # inner loop.\n",
    "\n",
    "        print(j, end = ' ')  # print the series.\n",
    "\n",
    "        j=j-1\n",
    "\n",
    "    i=i+1\n",
    "\n",
    "    print(\"\") "
   ]
  },
  {
   "cell_type": "code",
   "execution_count": 11,
   "metadata": {},
   "outputs": [
    {
     "name": "stdout",
     "output_type": "stream",
     "text": [
      "1\n",
      "21\n",
      "321\n",
      "4321\n",
      "54321\n",
      "654321\n",
      "7654321\n",
      "87654321\n",
      "987654321\n",
      "10987654321\n"
     ]
    }
   ],
   "source": [
    "s=10\n",
    "for i in range(1,s+1):\n",
    "    k=i\n",
    "    for j in range(1,k+1):\n",
    "        print(k,end=\"\")\n",
    "        k-=1\n",
    "    print()"
   ]
  },
  {
   "cell_type": "code",
   "execution_count": 11,
   "metadata": {},
   "outputs": [
    {
     "data": {
      "text/plain": [
       "{0: 0, 2: 1, 1: 2, 4: 3, 3: 4}"
      ]
     },
     "execution_count": 11,
     "metadata": {},
     "output_type": "execute_result"
    }
   ],
   "source": [
    "x = {1: 2, 3: 4, 4: 3, 2: 1, 0: 0}\n",
    "{k: v for k, v in sorted(x.items(),key = lambda item:item[1])}\n",
    "# print(d)"
   ]
  },
  {
   "cell_type": "code",
   "execution_count": 26,
   "metadata": {},
   "outputs": [
    {
     "name": "stdout",
     "output_type": "stream",
     "text": [
      "{0: 0, 2: 1, 1: 2, 4: 3, 3: 4}\n"
     ]
    }
   ],
   "source": [
    "x = {1: 2, 3: 4, 4: 3, 2: 1, 0: 0}\n",
    "d={k: v for k, v in sorted(x.items(), key=lambda item: item[0])}\n",
    "print(d)"
   ]
  },
  {
   "cell_type": "code",
   "execution_count": 31,
   "metadata": {},
   "outputs": [
    {
     "name": "stdout",
     "output_type": "stream",
     "text": [
      "2\n"
     ]
    }
   ],
   "source": [
    "x = {1: 2, 3: 4, 4: 3, 2: 1, 0: 0}\n",
    "# print(sorted(x.items()))\n",
    "print(x[1])"
   ]
  },
  {
   "cell_type": "code",
   "execution_count": 34,
   "metadata": {},
   "outputs": [
    {
     "name": "stdout",
     "output_type": "stream",
     "text": [
      "{1: 4, 3: 2, 4: 0, 2: 1, 0: 3}\n"
     ]
    }
   ],
   "source": [
    "x = {1: 2, 3: 4, 4: 3, 2: 1, 0: 0}\n",
    "for i in range(len(x)):\n",
    "    for j in range(len(x)-2):\n",
    "        if x[j]<x[j+2]:\n",
    "            x[j],x[j+2]=x[j+2],x[j]\n",
    "print(x)"
   ]
  },
  {
   "cell_type": "code",
   "execution_count": 38,
   "metadata": {},
   "outputs": [
    {
     "name": "stdout",
     "output_type": "stream",
     "text": [
      "1\n",
      "2\n",
      "3\n",
      "4\n",
      "4\n"
     ]
    }
   ],
   "source": [
    "# a=1\n",
    "# print([1,2])\n",
    "a=[1,2,3,4]\n",
    "for i in a:\n",
    "    print(i)\n",
    "print(i)\n"
   ]
  },
  {
   "cell_type": "code",
   "execution_count": null,
   "metadata": {},
   "outputs": [],
   "source": [
    "i=5\n",
    "while(i<0):\n",
    "    print(i)\n",
    "    i+=1"
   ]
  },
  {
   "cell_type": "code",
   "execution_count": 14,
   "metadata": {},
   "outputs": [
    {
     "name": "stdout",
     "output_type": "stream",
     "text": [
      "-1\n"
     ]
    }
   ],
   "source": [
    "b = 37999\n",
    "k = [20000]\n",
    "d = [20000]\n",
    "temp = 0\n",
    "res = 0\n",
    "for i in k:\n",
    "    \n",
    "    for j in d:\n",
    "        a = i + j\n",
    "        if temp < a and a <= b:\n",
    "            res = a\n",
    "            temp = a\n",
    "if res > b or res == 0:\n",
    "    res = -1\n",
    "print(res)\n"
   ]
  },
  {
   "cell_type": "code",
   "execution_count": 7,
   "metadata": {},
   "outputs": [
    {
     "ename": "KeyError",
     "evalue": "'OUTPUT_PATH'",
     "output_type": "error",
     "traceback": [
      "\u001b[1;31m---------------------------------------------------------------------------\u001b[0m",
      "\u001b[1;31mKeyError\u001b[0m                                  Traceback (most recent call last)",
      "\u001b[1;32m<ipython-input-7-8b992932e1c5>\u001b[0m in \u001b[0;36m<module>\u001b[1;34m\u001b[0m\n\u001b[0;32m     18\u001b[0m \u001b[1;33m\u001b[0m\u001b[0m\n\u001b[0;32m     19\u001b[0m \u001b[1;32mif\u001b[0m \u001b[0m__name__\u001b[0m \u001b[1;33m==\u001b[0m \u001b[1;34m'__main__'\u001b[0m\u001b[1;33m:\u001b[0m\u001b[1;33m\u001b[0m\u001b[1;33m\u001b[0m\u001b[0m\n\u001b[1;32m---> 20\u001b[1;33m     \u001b[0mfptr\u001b[0m \u001b[1;33m=\u001b[0m \u001b[0mopen\u001b[0m\u001b[1;33m(\u001b[0m\u001b[0mos\u001b[0m\u001b[1;33m.\u001b[0m\u001b[0menviron\u001b[0m\u001b[1;33m[\u001b[0m\u001b[1;34m'OUTPUT_PATH'\u001b[0m\u001b[1;33m]\u001b[0m\u001b[1;33m,\u001b[0m \u001b[1;34m'w'\u001b[0m\u001b[1;33m)\u001b[0m\u001b[1;33m\u001b[0m\u001b[1;33m\u001b[0m\u001b[0m\n\u001b[0m\u001b[0;32m     21\u001b[0m \u001b[1;33m\u001b[0m\u001b[0m\n\u001b[0;32m     22\u001b[0m     \u001b[0mbnm\u001b[0m \u001b[1;33m=\u001b[0m \u001b[0minput\u001b[0m\u001b[1;33m(\u001b[0m\u001b[1;33m)\u001b[0m\u001b[1;33m.\u001b[0m\u001b[0msplit\u001b[0m\u001b[1;33m(\u001b[0m\u001b[1;33m)\u001b[0m\u001b[1;33m\u001b[0m\u001b[1;33m\u001b[0m\u001b[0m\n",
      "\u001b[1;32mD:\\anaconda\\lib\\os.py\u001b[0m in \u001b[0;36m__getitem__\u001b[1;34m(self, key)\u001b[0m\n\u001b[0;32m    673\u001b[0m         \u001b[1;32mexcept\u001b[0m \u001b[0mKeyError\u001b[0m\u001b[1;33m:\u001b[0m\u001b[1;33m\u001b[0m\u001b[1;33m\u001b[0m\u001b[0m\n\u001b[0;32m    674\u001b[0m             \u001b[1;31m# raise KeyError with the original key value\u001b[0m\u001b[1;33m\u001b[0m\u001b[1;33m\u001b[0m\u001b[1;33m\u001b[0m\u001b[0m\n\u001b[1;32m--> 675\u001b[1;33m             \u001b[1;32mraise\u001b[0m \u001b[0mKeyError\u001b[0m\u001b[1;33m(\u001b[0m\u001b[0mkey\u001b[0m\u001b[1;33m)\u001b[0m \u001b[1;32mfrom\u001b[0m \u001b[1;32mNone\u001b[0m\u001b[1;33m\u001b[0m\u001b[1;33m\u001b[0m\u001b[0m\n\u001b[0m\u001b[0;32m    676\u001b[0m         \u001b[1;32mreturn\u001b[0m \u001b[0mself\u001b[0m\u001b[1;33m.\u001b[0m\u001b[0mdecodevalue\u001b[0m\u001b[1;33m(\u001b[0m\u001b[0mvalue\u001b[0m\u001b[1;33m)\u001b[0m\u001b[1;33m\u001b[0m\u001b[1;33m\u001b[0m\u001b[0m\n\u001b[0;32m    677\u001b[0m \u001b[1;33m\u001b[0m\u001b[0m\n",
      "\u001b[1;31mKeyError\u001b[0m: 'OUTPUT_PATH'"
     ]
    }
   ],
   "source": [
    "#!/bin/python3\n",
    "\n",
    "import os\n",
    "import sys\n",
    "\n",
    "#\n",
    "# Complete the getMoneySpent function below.\n",
    "#\n",
    "def getMoneySpent(keyboards, drives, b):\n",
    "    temp = 0\n",
    "    for i in keyboards:\n",
    "        for j in drives:\n",
    "            a = i + j\n",
    "            if temp < a and a < b:\n",
    "                res = a\n",
    "                temp = a\n",
    "    return res\n",
    "\n",
    "if __name__ == '__main__':\n",
    "    fptr = open(os.environ['OUTPUT_PATH'], 'w')\n",
    "\n",
    "    bnm = input().split()\n",
    "\n",
    "    b = int(bnm[0])\n",
    "\n",
    "    n = int(bnm[1])\n",
    "\n",
    "    m = int(bnm[2])\n",
    "\n",
    "    keyboards = list(map(int, input().rstrip().split()))\n",
    "\n",
    "    drives = list(map(int, input().rstrip().split()))\n",
    "\n",
    "    #\n",
    "    # The maximum amount of money she can spend on a keyboard and USB drive, or -1 if she can't purchase both items\n",
    "    #\n",
    "\n",
    "    moneySpent = getMoneySpent(keyboards, drives, b)\n",
    "\n",
    "    fptr.write(str(moneySpent) + '\\n')\n",
    "\n",
    "    fptr.close()\n"
   ]
  },
  {
   "cell_type": "code",
   "execution_count": 3,
   "metadata": {},
   "outputs": [
    {
     "name": "stdout",
     "output_type": "stream",
     "text": [
      "[8, 1, 7, 2, 6, 3, 5, 4]\n"
     ]
    }
   ],
   "source": [
    "l1=[1,2,3,4,5,6,7,8]\n",
    "l2=sorted(l1)\n",
    "l3=[]\n",
    "# print(l2)\n",
    "for i in range(len(l2)):\n",
    "    if i%2==0:\n",
    "        l3.append(l2[-1])\n",
    "        l2.remove(l2[-1])\n",
    "    else:\n",
    "        l3.append(l2[0])\n",
    "        l2.remove(l2[0])\n",
    "print(l3)"
   ]
  },
  {
   "cell_type": "code",
   "execution_count": 28,
   "metadata": {},
   "outputs": [
    {
     "name": "stdout",
     "output_type": "stream",
     "text": [
      "145\n",
      "its a strong num\n"
     ]
    }
   ],
   "source": [
    "n = \"145\"\n",
    "a=0\n",
    "c=1\n",
    "for i in n:\n",
    "    for j in range(1,int(i)+1):\n",
    "        c*=j\n",
    "#     print(c)\n",
    "    a+=c\n",
    "    c=1\n",
    "if a == int(n):\n",
    "    print(a)\n",
    "    print('its a strong num')\n",
    "else:\n",
    "    print(a,\"not\")"
   ]
  },
  {
   "cell_type": "code",
   "execution_count": 39,
   "metadata": {},
   "outputs": [
    {
     "name": "stdout",
     "output_type": "stream",
     "text": [
      "145\n"
     ]
    }
   ],
   "source": [
    "n=145\n",
    "a=0\n",
    "b=1\n",
    "while(n):\n",
    "    temp = n%10\n",
    "    n//=10\n",
    "    for i in range(1,temp+1):\n",
    "        b*=i\n",
    "    a+=b\n",
    "    b=1\n",
    "print(a)\n",
    "    "
   ]
  },
  {
   "cell_type": "markdown",
   "metadata": {},
   "source": []
  },
  {
   "cell_type": "code",
   "execution_count": 12,
   "metadata": {},
   "outputs": [
    {
     "name": "stdout",
     "output_type": "stream",
     "text": [
      "99\n",
      "1\n",
      "[{'Input': {'List': [1, 2, 3, 4, 5, 6, 7], 'Target': 99}, 'Output': 1}]\n",
      "False\n"
     ]
    }
   ],
   "source": [
    "def Locate(List,Target):\n",
    "    position = 0\n",
    "    while position<len(List):\n",
    "        if List[position] == Target:\n",
    "            return position\n",
    "        position+=1\n",
    "       \n",
    "    return -1\n",
    "\n",
    "Tests = []        \n",
    "Test = {\n",
    "    \"Input\":{\n",
    "        \"List\":[1,2,3,4,5,6,7],\n",
    "        \"Target\": int(input())\n",
    "    },\n",
    "    \"Output\":int(input()) \n",
    "}\n",
    "Tests.append(Test)\n",
    "print(Tests)\n",
    "print(Locate(**Test[\"Input\"]) == Test[\"Output\"])"
   ]
  },
  {
   "cell_type": "code",
   "execution_count": 7,
   "metadata": {},
   "outputs": [
    {
     "name": "stdout",
     "output_type": "stream",
     "text": [
      "joe\n"
     ]
    }
   ],
   "source": [
    "class Self():\n",
    "    name = \"joe\"\n",
    "    def self1(a):\n",
    "        print(a.name)\n",
    "Ob = Self()\n",
    "Ob.self1()"
   ]
  },
  {
   "cell_type": "code",
   "execution_count": 9,
   "metadata": {},
   "outputs": [],
   "source": [
    "class DataBase():\n",
    "    def __init__(self):\n",
    "        self.users = []\n",
    "    def insert(self,user):\n",
    "        i = 0\n",
    "        while i<len(self.users):\n",
    "            if self.users[i].username == user.username:\n",
    "                break\n",
    "            i+=1\n",
    "        self.users.insert(i,username)\n",
    "        \n",
    "ob = DataBase()\n"
   ]
  },
  {
   "cell_type": "code",
   "execution_count": 14,
   "metadata": {},
   "outputs": [
    {
     "name": "stdout",
     "output_type": "stream",
     "text": [
      "i\n"
     ]
    }
   ],
   "source": [
    "class joel():\n",
    "    def __init__(self):\n",
    "        self.name = \"hen\"\n",
    "    def __str__(self):\n",
    "        return \"i\"\n",
    "ob = joel()\n",
    "print(ob)"
   ]
  },
  {
   "cell_type": "code",
   "execution_count": 16,
   "metadata": {},
   "outputs": [],
   "source": [
    "class Treenode():\n",
    "    def __init__(self,key):\n",
    "        self.key = key\n",
    "        self.left = None\n",
    "        self.right = None\n",
    "#         print(self.key,self.left,self.right)\n",
    "\n",
    "node0 = Treenode(0)\n",
    "node1 = Treenode(1)\n",
    "node2 = Treenode(2)"
   ]
  },
  {
   "cell_type": "code",
   "execution_count": 17,
   "metadata": {},
   "outputs": [],
   "source": [
    "node0.left = node1\n",
    "node0.right = node2"
   ]
  },
  {
   "cell_type": "code",
   "execution_count": 18,
   "metadata": {},
   "outputs": [],
   "source": [
    "tree = node0"
   ]
  },
  {
   "cell_type": "code",
   "execution_count": 21,
   "metadata": {},
   "outputs": [
    {
     "data": {
      "text/plain": [
       "2"
      ]
     },
     "execution_count": 21,
     "metadata": {},
     "output_type": "execute_result"
    }
   ],
   "source": [
    "tree.left.key\n",
    "tree.right.key"
   ]
  },
  {
   "cell_type": "code",
   "execution_count": 22,
   "metadata": {},
   "outputs": [],
   "source": []
  },
  {
   "cell_type": "code",
   "execution_count": 2,
   "metadata": {},
   "outputs": [],
   "source": [
    "class Treenode():\n",
    "    def __init__(self,key):\n",
    "        self.key = key\n",
    "        self.left = None\n",
    "        self.right = None\n",
    "\n",
    "def parsetuple(data):\n",
    "    \n",
    "    if isinstance(data,tuple) and len(data)==3:\n",
    "        node = Treenode(data[1])\n",
    "        node.left = parsetuple(data[0])\n",
    "        node.right = parsetuple(data[2])\n",
    "    elif(data is None):\n",
    "        node = None\n",
    "    else:\n",
    "        node = Treenode(data)\n",
    "    return node\n",
    "\n",
    "tupledata = ((1,3,None),2,((None,3,4),5,(6,7,8)))\n",
    "tree = parsetuple(tupledata)"
   ]
  },
  {
   "cell_type": "code",
   "execution_count": 3,
   "metadata": {},
   "outputs": [
    {
     "name": "stdout",
     "output_type": "stream",
     "text": [
      "2\n",
      "3\n",
      "1\n"
     ]
    }
   ],
   "source": [
    "print(tree.key)\n",
    "print(tree.left.key)\n",
    "print(tree.left.left.key)"
   ]
  },
  {
   "cell_type": "code",
   "execution_count": 4,
   "metadata": {},
   "outputs": [
    {
     "name": "stdout",
     "output_type": "stream",
     "text": [
      "[1, 3, 2, 3, 4, 5, 6, 7, 8]\n"
     ]
    }
   ],
   "source": [
    "def tio(node):\n",
    "    if node is None:\n",
    "        return[]\n",
    "    return(tio(node.left)+[node.key]+tio(node.right))\n",
    "print(tio(tree))"
   ]
  },
  {
   "cell_type": "code",
   "execution_count": 5,
   "metadata": {},
   "outputs": [
    {
     "name": "stdout",
     "output_type": "stream",
     "text": [
      "[2, 3, 1, 5, 3, 4, 7, 6, 8]\n"
     ]
    }
   ],
   "source": [
    "def pio(node):\n",
    "    if node is None:\n",
    "        return[]\n",
    "    return([node.key]+pio(node.left)+pio(node.right))\n",
    "print(pio(tree))"
   ]
  },
  {
   "cell_type": "code",
   "execution_count": 6,
   "metadata": {
    "scrolled": true
   },
   "outputs": [
    {
     "name": "stdout",
     "output_type": "stream",
     "text": [
      "[2, 5, 3, 4, 7, 6, 8, 3, 1]\n"
     ]
    }
   ],
   "source": [
    "def pot(node):\n",
    "    if node is None:\n",
    "        return[]\n",
    "    return([node.key]+pio(node.right)+pio(node.left))\n",
    "print(pot(tree))"
   ]
  },
  {
   "cell_type": "code",
   "execution_count": 11,
   "metadata": {
    "scrolled": false
   },
   "outputs": [
    {
     "name": "stdout",
     "output_type": "stream",
     "text": [
      "2\n",
      "3\n",
      "1\n",
      "0 0\n",
      "1 0\n",
      "1\n",
      "0 0\n",
      "5\n",
      "3\n",
      "4\n",
      "0 0\n",
      "0 1\n",
      "4\n",
      "0 0\n",
      "7\n",
      "6\n",
      "0 0\n",
      "8\n",
      "0 0\n",
      "1 1\n",
      "6\n",
      "0 0\n",
      "8\n",
      "0 0\n",
      "2 2\n",
      "3\n",
      "4\n",
      "0 0\n",
      "0 1\n",
      "4\n",
      "0 0\n",
      "7\n",
      "6\n",
      "0 0\n",
      "8\n",
      "0 0\n",
      "1 1\n",
      "6\n",
      "0 0\n",
      "8\n",
      "0 0\n",
      "2 3\n",
      "3\n",
      "1\n",
      "0 0\n",
      "1 0\n",
      "1\n",
      "0 0\n",
      "5\n",
      "3\n",
      "4\n",
      "0 0\n",
      "0 1\n",
      "4\n",
      "0 0\n",
      "7\n",
      "6\n",
      "0 0\n",
      "8\n",
      "0 0\n",
      "1 1\n",
      "6\n",
      "0 0\n",
      "8\n",
      "0 0\n",
      "2 2\n",
      "3\n",
      "4\n",
      "0 0\n",
      "0 1\n",
      "4\n",
      "0 0\n",
      "7\n",
      "6\n",
      "0 0\n",
      "8\n",
      "0 0\n",
      "1 1\n",
      "6\n",
      "0 0\n",
      "8\n",
      "0 0\n"
     ]
    },
    {
     "data": {
      "text/plain": [
       "4"
      ]
     },
     "execution_count": 11,
     "metadata": {},
     "output_type": "execute_result"
    }
   ],
   "source": [
    "def treeheight(node):\n",
    "    if node is None:\n",
    "        return 0 \n",
    "    print(node.key)\n",
    "    print(treeheight(node.left),treeheight(node.right))\n",
    "    return 1 + max(treeheight(node.left),treeheight(node.right))\n",
    "treeheight(tree)"
   ]
  },
  {
   "cell_type": "code",
   "execution_count": 1,
   "metadata": {},
   "outputs": [
    {
     "name": "stdout",
     "output_type": "stream",
     "text": [
      "Requirement already satisfied: binarytree in d:\\anaconda\\lib\\site-packages (6.5.1)\n",
      "Requirement already satisfied: setuptools>=60.8.2 in d:\\anaconda\\lib\\site-packages (from binarytree) (68.2.2)\n",
      "Requirement already satisfied: graphviz in d:\\anaconda\\lib\\site-packages (from binarytree) (0.20.1)\n",
      "Requirement already satisfied: setuptools-scm[toml]>=5.0.1 in d:\\anaconda\\lib\\site-packages (from binarytree) (8.0.4)\n",
      "Requirement already satisfied: tomli>=1; python_version < \"3.11\" in d:\\anaconda\\lib\\site-packages (from setuptools-scm[toml]>=5.0.1->binarytree) (2.0.1)\n",
      "Requirement already satisfied: packaging>=20 in d:\\anaconda\\lib\\site-packages (from setuptools-scm[toml]>=5.0.1->binarytree) (20.4)\n",
      "Requirement already satisfied: typing-extensions in d:\\anaconda\\lib\\site-packages (from setuptools-scm[toml]>=5.0.1->binarytree) (3.7.4.3)\n",
      "Requirement already satisfied: six in d:\\anaconda\\lib\\site-packages (from packaging>=20->setuptools-scm[toml]>=5.0.1->binarytree) (1.15.0)\n",
      "Requirement already satisfied: pyparsing>=2.0.2 in d:\\anaconda\\lib\\site-packages (from packaging>=20->setuptools-scm[toml]>=5.0.1->binarytree) (2.4.7)\n",
      "Note: you may need to restart the kernel to use updated packages.\n"
     ]
    }
   ],
   "source": [
    "pip install binarytree"
   ]
  },
  {
   "cell_type": "code",
   "execution_count": 5,
   "metadata": {},
   "outputs": [
    {
     "name": "stdout",
     "output_type": "stream",
     "text": [
      "Binary tree : \n",
      "    3\n",
      "   / \\\n",
      "  6   8\n",
      " /\n",
      "9\n",
      "\n",
      "List of nodes : [Node(3), Node(6), Node(8), Node(9)]\n",
      "Inorder of nodes : [Node(9), Node(6), Node(3), Node(8)]\n",
      "Size of tree : 4\n",
      "Height of tree : 2\n",
      "Properties of tree : \n",
      " {'height': 2, 'size': 4, 'is_max_heap': False, 'is_min_heap': True, 'is_perfect': False, 'is_strict': False, 'is_complete': True, 'leaf_count': 2, 'min_node_value': 3, 'max_node_value': 9, 'min_leaf_depth': 1, 'max_leaf_depth': 2, 'is_balanced': True, 'is_bst': False, 'is_symmetric': False}\n"
     ]
    }
   ],
   "source": [
    "from binarytree import Node \n",
    "root = Node(3) \n",
    "root.left = Node(6) \n",
    "root.right = Node(8) \n",
    "root.left.left = Node(9)\n",
    "\n",
    "# Getting binary tree \n",
    "print('Binary tree :', root) \n",
    "\n",
    "# Getting list of nodes \n",
    "print('List of nodes :', list(root)) \n",
    "\n",
    "# Getting inorder of nodes \n",
    "print('Inorder of nodes :', root.inorder) \n",
    "\n",
    "# Checking tree properties \n",
    "print('Size of tree :', root.size) \n",
    "print('Height of tree :', root.height) \n",
    "\n",
    "# Get all properties at once \n",
    "print('Properties of tree : \\n', root.properties) \n"
   ]
  },
  {
   "cell_type": "markdown",
   "metadata": {},
   "source": [
    "# Binary Tree"
   ]
  },
  {
   "cell_type": "code",
   "execution_count": 20,
   "metadata": {},
   "outputs": [
    {
     "name": "stdout",
     "output_type": "stream",
     "text": [
      "4 ----\n",
      "{10: [2, 11], 2: [4], 4: [3, 5], 3: [], 5: [6], 6: [], 11: [19], 19: [13], 13: [12, 14], 12: [], 14: []}\n",
      "10 2 11 4 19 3 5 13 6 12 14 \n",
      "10 11 19 13 14 12 2 4 5 6 3 "
     ]
    }
   ],
   "source": []
  },
  {
   "cell_type": "code",
   "execution_count": null,
   "metadata": {},
   "outputs": [],
   "source": []
  },
  {
   "cell_type": "code",
   "execution_count": null,
   "metadata": {},
   "outputs": [],
   "source": []
  },
  {
   "cell_type": "code",
   "execution_count": null,
   "metadata": {},
   "outputs": [],
   "source": []
  },
  {
   "cell_type": "code",
   "execution_count": null,
   "metadata": {},
   "outputs": [],
   "source": []
  }
 ],
 "metadata": {
  "kernelspec": {
   "display_name": "Python 3",
   "language": "python",
   "name": "python3"
  },
  "language_info": {
   "codemirror_mode": {
    "name": "ipython",
    "version": 3
   },
   "file_extension": ".py",
   "mimetype": "text/x-python",
   "name": "python",
   "nbconvert_exporter": "python",
   "pygments_lexer": "ipython3",
   "version": "3.8.5"
  }
 },
 "nbformat": 4,
 "nbformat_minor": 4
}
