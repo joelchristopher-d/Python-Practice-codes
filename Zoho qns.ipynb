{
 "cells": [
  {
   "cell_type": "code",
   "execution_count": 1,
   "metadata": {},
   "outputs": [
    {
     "name": "stdout",
     "output_type": "stream",
     "text": [
      "1 x 5 = 5\n",
      "2 x 5 = 10\n",
      "3 x 5 = 15\n",
      "4 x 5 = 20\n",
      "5 x 5 = 25\n",
      "6 x 5 = 30\n",
      "7 x 5 = 35\n",
      "8 x 5 = 40\n",
      "9 x 5 = 45\n",
      "10 x 5 = 50\n",
      "1 - 5 = -4\n",
      "2 - 5 = -3\n",
      "3 - 5 = -2\n",
      "4 - 5 = -1\n",
      "5 - 5 = 0\n",
      "6 - 5 = 1\n",
      "7 - 5 = 2\n",
      "8 - 5 = 3\n",
      "9 - 5 = 4\n",
      "10 - 5 = 5\n"
     ]
    }
   ],
   "source": [
    "\n",
    "n=10\n",
    "m=5\n",
    "for i in range(1,n+1):\n",
    "    print(i,\"x\",m,\"=\",i*m)\n",
    "for j in range(1,n+1):\n",
    "    print(j,\"-\",m,\"=\",j-m)"
   ]
  },
  {
   "cell_type": "code",
   "execution_count": 36,
   "metadata": {},
   "outputs": [
    {
     "name": "stdout",
     "output_type": "stream",
     "text": [
      "A\n",
      "ABCDEFGHIJKLMNOPQRSTUVWXYZ"
     ]
    }
   ],
   "source": [
    "a=input()\n",
    "if ord(a)<=90:\n",
    "    for i in range(ord(a),ord(\"Z\")+1):\n",
    "        print(chr(i),end=\"\")"
   ]
  },
  {
   "cell_type": "code",
   "execution_count": 35,
   "metadata": {},
   "outputs": [
    {
     "name": "stdout",
     "output_type": "stream",
     "text": [
      "E\n",
      "EEEEE\n",
      "DDDD\n",
      "CCC\n",
      "BB\n",
      "A\n"
     ]
    }
   ],
   "source": [
    "b=input()\n",
    "a=ord(b)\n",
    "c=a-ord(\"A\")\n",
    "# for in \n",
    "\n",
    "for i in range(c+1):\n",
    "    for j in range(c+1,i,-1):\n",
    "        print(chr(a),end=\"\")\n",
    "    a-=1\n",
    "#     if a<65:\n",
    "#         break\n",
    "    print()"
   ]
  },
  {
   "cell_type": "code",
   "execution_count": 40,
   "metadata": {},
   "outputs": [
    {
     "name": "stdout",
     "output_type": "stream",
     "text": [
      "12345\n",
      "12345\n",
      "0\n"
     ]
    }
   ],
   "source": [
    "a=input()\n",
    "b=\"\"\n",
    "for i in a:\n",
    "    b=i+b\n",
    "print(b)\n",
    "print(int(a)-int(b))"
   ]
  },
  {
   "cell_type": "code",
   "execution_count": 2,
   "metadata": {},
   "outputs": [
    {
     "name": "stdout",
     "output_type": "stream",
     "text": [
      "start limit101\n",
      "end limit120\n",
      "jumping num5\n",
      "Group: 1\n",
      "101\n",
      "106\n",
      "111\n",
      "116\n",
      "Group: 2\n",
      "102\n",
      "107\n",
      "112\n",
      "117\n",
      "Group: 3\n",
      "103\n",
      "108\n",
      "113\n",
      "118\n",
      "Group: 4\n",
      "104\n",
      "109\n",
      "114\n",
      "119\n"
     ]
    }
   ],
   "source": [
    "n=int(input('start limit'))\n",
    "m=int(input('end limit'))\n",
    "a=int(input('jumping num'))\n",
    "b=n\n",
    "c=0\n",
    "for i in range(1,5):\n",
    "    print(\"Group:\",i)\n",
    "    for j in range(n,m+1):\n",
    "        if b<=m:\n",
    "            print(b)\n",
    "            b+=a\n",
    "#     print(b)\n",
    "    c+=1\n",
    "    b=n\n",
    "    b=n+c\n",
    "#     print(b)\n",
    "    "
   ]
  },
  {
   "cell_type": "code",
   "execution_count": 13,
   "metadata": {},
   "outputs": [
    {
     "name": "stdout",
     "output_type": "stream",
     "text": [
      "1     1\n",
      " 2   2 \n",
      "  3 3  \n",
      "   4   \n",
      "  5 5  \n",
      " 6   6 \n",
      "7     7\n"
     ]
    }
   ],
   "source": [
    "s='program'\n",
    "for i in range(1,len(s)+1):\n",
    "    for j in range(1,len(s)+1):\n",
    "        if i+j==len(s)+1:\n",
    "            print(i,end=\"\")\n",
    "        elif i!=j:\n",
    "            print(\" \",end=\"\")\n",
    "        else:\n",
    "            print(i,end='')\n",
    "    print()"
   ]
  },
  {
   "cell_type": "code",
   "execution_count": 6,
   "metadata": {},
   "outputs": [
    {
     "name": "stdout",
     "output_type": "stream",
     "text": [
      "[2, 3, 4, 5, 6, 7, 8, 9, 10, 11, 13, 15]\n"
     ]
    }
   ],
   "source": [
    "l1=[2,4,5,6,7,9,10,13]\n",
    "l2=[2,3,4,5,6,7,8,9,11,15]\n",
    "l1=l1+l2\n",
    "# print(l1)\n",
    "for i in l1:\n",
    "    c=0\n",
    "    a=i\n",
    "    for j in l1:\n",
    "        if i==j:\n",
    "            c+=1\n",
    "    if c>1:\n",
    "        l1.remove(i)\n",
    "print(sorted(l1))"
   ]
  },
  {
   "cell_type": "code",
   "execution_count": 1,
   "metadata": {},
   "outputs": [
    {
     "name": "stdout",
     "output_type": "stream",
     "text": [
      "[1, 2, 3, 4, 5, 6]\n",
      "[6, 1, 5, 2, 4, 3]\n"
     ]
    }
   ],
   "source": [
    "l1=[1,2,3,4,5,6,7]\n",
    "l2=sorted(l1)\n",
    "l3=[]\n",
    "print(l2)\n",
    "for i in range(len(l2)):\n",
    "    if i%2==0:\n",
    "        l3.append(l2[-1])\n",
    "        l2.remove(l2[-1])\n",
    "    else:\n",
    "        l3.append(l2[0])\n",
    "        l2.remove(l2[0])\n",
    "print(l3)\n",
    "        \n",
    "\n",
    "        "
   ]
  },
  {
   "cell_type": "code",
   "execution_count": 88,
   "metadata": {},
   "outputs": [
    {
     "name": "stdout",
     "output_type": "stream",
     "text": [
      "[1, 1, 5, 2, 1, 2, 1, 0]\n"
     ]
    }
   ],
   "source": [
    "A=[71,80,72,49,76,73,56]\n",
    "B=[1]\n",
    "b=1\n",
    "for i in range(0,len(A)):\n",
    "#     B+=[b]\n",
    "    a=1\n",
    "    b=0\n",
    "    c=i\n",
    "#     z=1\n",
    "    for j in range(i,len(A)-1):\n",
    "#         print(c,end=\"\")\n",
    "#         print(A[i],A[c+1],b)\n",
    "        if A[i]<A[c+1]:\n",
    "            b+=1\n",
    "            break\n",
    "        if A[i]>=A[c+1]:\n",
    "            b+=1\n",
    "            a+=1\n",
    "        c+=1\n",
    "#         z+=1\n",
    "#     print(z,c)\n",
    "    if c==b:\n",
    "        b=0\n",
    "    B+=[b]\n",
    "        \n",
    "print(B)"
   ]
  },
  {
   "cell_type": "code",
   "execution_count": null,
   "metadata": {},
   "outputs": [],
   "source": [
    "a=[[0,1,2],\n",
    "     [3,4,5],\n",
    "     [6,7,8]]\n",
    "for i in range(len(arr)):\n",
    "        a[]"
   ]
  },
  {
   "cell_type": "code",
   "execution_count": 53,
   "metadata": {},
   "outputs": [
    {
     "name": "stdout",
     "output_type": "stream",
     "text": [
      "                    1 \n",
      "                  1 2 1 \n",
      "                1 2 3 2 1 \n",
      "              1 2 3 4 3 2 1 \n",
      "            1 2 3 4 5 4 3 2 1 \n",
      "          1 2 3 4 5 6 5 4 3 2 1 \n",
      "        1 2 3 4 5 6 7 6 5 4 3 2 1 \n",
      "      1 2 3 4 5 6 7 8 7 6 5 4 3 2 1 \n",
      "    1 2 3 4 5 6 7 8 9 8 7 6 5 4 3 2 1 \n",
      "  1 2 3 4 5 6 7 8 9 10 9 8 7 6 5 4 3 2 1 \n"
     ]
    }
   ],
   "source": [
    "a=1\n",
    "for i in range(10):\n",
    "    z=i\n",
    "    for j in range(10,i,-1):\n",
    "        print(\" \",end=\" \")\n",
    "#     print()\n",
    "    for k in range(i+1):\n",
    "        print(a,end=\" \")\n",
    "#     print()\n",
    "        a+=1\n",
    "    a=1\n",
    "    for m in range(1,z+1):\n",
    "        print(z,end=\" \")\n",
    "        z-=1\n",
    "    print()\n",
    "    \n"
   ]
  },
  {
   "cell_type": "code",
   "execution_count": 56,
   "metadata": {},
   "outputs": [
    {
     "name": "stdout",
     "output_type": "stream",
     "text": [
      "                    9 \n",
      "                  9 10 1 \n",
      "                9 10 11 2 1 \n",
      "              9 10 11 12 3 2 1 \n",
      "            9 10 11 12 13 4 3 2 1 \n",
      "          9 10 11 12 13 14 5 4 3 2 1 \n",
      "        9 10 11 12 13 14 15 6 5 4 3 2 1 \n",
      "      9 10 11 12 13 14 15 16 7 6 5 4 3 2 1 \n",
      "    9 10 11 12 13 14 15 16 17 8 7 6 5 4 3 2 1 \n",
      "  9 10 11 12 13 14 15 16 17 18 9 8 7 6 5 4 3 2 1 \n"
     ]
    }
   ],
   "source": [
    "a=9\n",
    "for i in range(10):\n",
    "    z=i\n",
    "    for j in range(10,i,-1):\n",
    "        print(\" \",end=\" \")\n",
    "#     print()\n",
    "    for k in range(i+1):\n",
    "        print(a,end=\" \")\n",
    "#     print()\n",
    "        a+=1\n",
    "    a=9\n",
    "    for m in range(1,z+1):\n",
    "        print(z,end=\" \")\n",
    "        z-=1\n",
    "    print()   "
   ]
  },
  {
   "cell_type": "code",
   "execution_count": 56,
   "metadata": {},
   "outputs": [
    {
     "name": "stdout",
     "output_type": "stream",
     "text": [
      "t 2\n",
      "h 2\n",
      "u 2\n",
      "r 2\n",
      "e 3\n",
      "o 4\n"
     ]
    }
   ],
   "source": [
    "s=\"thequickbrownfoxjumpsoverthelazydog\"\n",
    "l1=[]\n",
    "l2=[]\n",
    "d={}\n",
    "for i in s:\n",
    "    c=0\n",
    "    for j in s:\n",
    "        if i==j:\n",
    "            c+=1\n",
    "    l1+=[i]\n",
    "    l2+=[c]\n",
    "# print(l1)\n",
    "# print(l2)\n",
    "for i in range(len(l1)):\n",
    "    d[l1[i]]=l2[i]\n",
    "# print(d)\n",
    "di={k: v for k, v in sorted(d.items(), key=lambda item: item[1])}\n",
    "# print(di)\n",
    "for i in di:\n",
    "    if di[i]>1:\n",
    "        print(i,di[i])\n",
    "# m = list(d.keys())\n",
    "# print(m)\n",
    "# m.sort()\n",
    "# print(m)\n",
    "# s= {i: d[i] for i in m}\n",
    "# print(s)"
   ]
  },
  {
   "cell_type": "code",
   "execution_count": 45,
   "metadata": {},
   "outputs": [
    {
     "name": "stdout",
     "output_type": "stream",
     "text": [
      "*****\n",
      "*\n",
      "*\n",
      "*\n"
     ]
    }
   ],
   "source": [
    "n=4\n",
    "for i in range(n):\n",
    "    \n",
    "    print(\"*\",end=\"\")\n",
    "for i in range(n):\n",
    "    print(\"*\")\n",
    " "
   ]
  },
  {
   "cell_type": "code",
   "execution_count": 7,
   "metadata": {},
   "outputs": [
    {
     "name": "stdout",
     "output_type": "stream",
     "text": [
      "5\n",
      "1+11+111+1111+11111"
     ]
    }
   ],
   "source": [
    "a=\"1\"\n",
    "d=''\n",
    "for i in range(int(input())):\n",
    "    c=a+\"+\"\n",
    "    a+=\"1\"\n",
    "    d+=c\n",
    "add=0\n",
    "n=0\n",
    "l=\"\"\n",
    "for i in range(len(d)-1):\n",
    "    print(d[i],end=\"\")\n"
   ]
  },
  {
   "cell_type": "code",
   "execution_count": 33,
   "metadata": {},
   "outputs": [
    {
     "name": "stdout",
     "output_type": "stream",
     "text": [
      "1\n"
     ]
    }
   ],
   "source": [
    "s1=\"test123string\"\n",
    "s2=\"123\"\n",
    "a=0\n",
    "b=len(s2)\n",
    "for i in range(len(s1)):\n",
    "    temp=s1[a:b]\n",
    "    if len(temp)==len(s2):\n",
    "#         print(temp)\n",
    "        if temp==s2:\n",
    "            c=1\n",
    "            break\n",
    "        else:\n",
    "            c=-1\n",
    "    a+=1\n",
    "    b+=1\n",
    "print(c)"
   ]
  },
  {
   "cell_type": "code",
   "execution_count": 55,
   "metadata": {},
   "outputs": [
    {
     "name": "stdout",
     "output_type": "stream",
     "text": [
      "          1 \n",
      "        2 3   \n",
      "      4 5 6     \n",
      "    7 8 9 10       \n",
      "  11 12 13 14 15         \n"
     ]
    }
   ],
   "source": [
    "a=1\n",
    "n=5\n",
    "for i in range(n):\n",
    "    for j in range(n,i,-1):\n",
    "        print(\" \",end=\" \")\n",
    "#     print()\n",
    "    for k in range(i+1):\n",
    "        print(a,end=\" \")\n",
    "#     print()\n",
    "        a+=1\n",
    "    for m in range(1,i+1):\n",
    "        print(\" \",end=\" \")\n",
    "    print()"
   ]
  },
  {
   "cell_type": "code",
   "execution_count": 57,
   "metadata": {},
   "outputs": [
    {
     "name": "stdout",
     "output_type": "stream",
     "text": [
      "4\n",
      "****\n",
      "*\n",
      "*\n",
      "****\n"
     ]
    }
   ],
   "source": [
    "n=int(input())\n",
    "for i in range(n):\n",
    "    if i==0 or i==n-1:\n",
    "        for i in range(n):\n",
    "            print(\"*\",end=\"\")\n",
    "    else:\n",
    "        for i in range(1):\n",
    "            print(\"*\",end=\"\")\n",
    "    print()"
   ]
  },
  {
   "cell_type": "code",
   "execution_count": 23,
   "metadata": {},
   "outputs": [
    {
     "name": "stdout",
     "output_type": "stream",
     "text": [
      "two one \n"
     ]
    }
   ],
   "source": [
    "s=\"one two three\"\n",
    "s1=\"\"\n",
    "s2=\"\"\n",
    "a=\"\"\n",
    "    \n",
    "for i in s:\n",
    "    s1+=i\n",
    "#     print(s1)\n",
    "    if i==\" \":\n",
    "#         print(s1)\n",
    "        s2=s1+s2\n",
    "#         print(s2)\n",
    "        s1=\"\"\n",
    "# print(s2)\n",
    "        \n",
    "    "
   ]
  },
  {
   "cell_type": "code",
   "execution_count": 17,
   "metadata": {},
   "outputs": [
    {
     "name": "stdout",
     "output_type": "stream",
     "text": [
      "Group: 1\n",
      "101\n",
      "105\n",
      "109\n",
      "113\n",
      "117\n",
      "Group: 2\n",
      "102\n",
      "106\n",
      "110\n",
      "114\n",
      "118\n",
      "Group: 3\n",
      "103\n",
      "107\n",
      "111\n",
      "115\n",
      "119\n",
      "Group: 4\n",
      "104\n",
      "108\n",
      "112\n",
      "116\n",
      "120\n"
     ]
    }
   ],
   "source": [
    "n=101\n",
    "m=120\n",
    "j=n\n",
    "i=1\n",
    "while(i<5):\n",
    "    print(\"Group:\",i)\n",
    "    i+=1\n",
    "    while(j<=m):\n",
    "        print(j)\n",
    "        j+=4\n",
    "    n+=1\n",
    "    j=n\n",
    "#     j+=1"
   ]
  },
  {
   "cell_type": "code",
   "execution_count": 33,
   "metadata": {},
   "outputs": [
    {
     "name": "stdout",
     "output_type": "stream",
     "text": [
      "aa\n",
      "b\n",
      "bbbbbbbbbb\n"
     ]
    }
   ],
   "source": [
    "s=\"a2b10\"\n",
    "i=0\n",
    "ans=\"abcdefghijklmnopqrstuvwxyz\"\n",
    "a=\"\"\n",
    "\n",
    "while(i<len(s)):\n",
    "    if s[i] in ans:\n",
    "#         print(int(a)*b)\n",
    "        a=\"\"\n",
    "        b=s[i]\n",
    "    if s[i] not in ans:\n",
    "        a+=s[i]\n",
    "        print(int(a)*b)\n",
    "    i+=1\n",
    "    "
   ]
  },
  {
   "cell_type": "code",
   "execution_count": null,
   "metadata": {},
   "outputs": [
    {
     "name": "stdout",
     "output_type": "stream",
     "text": [
      "a1b10\n"
     ]
    }
   ],
   "source": [
    "text=input()\n",
    "list1=[]\n",
    "list2=[]\n",
    "ans=\"abcdefghijklmnopqrstuvwxyz\"\n",
    "ans1=\"\"\n",
    "n=len(text)\n",
    "for i in range(n):\n",
    "    while(text[i] not in ans ):\n",
    "        ans1+=text[i]\n",
    "        \n",
    "    list1.append(ans)\n",
    "print(list1)"
   ]
  },
  {
   "cell_type": "code",
   "execution_count": 21,
   "metadata": {},
   "outputs": [],
   "source": [
    "class Solution:\n",
    "    \n",
    "    #Function to merge the arrays.\n",
    "    def merge(self,arr1,arr2,n,m):\n",
    "        t=arr1+arr2\n",
    "        t.sort()\n",
    "        arr1[::]=t[0:n]\n",
    "        arr2[::]=t[n:n+m]"
   ]
  },
  {
   "cell_type": "code",
   "execution_count": 27,
   "metadata": {},
   "outputs": [
    {
     "name": "stdout",
     "output_type": "stream",
     "text": [
      "threetwoone\n"
     ]
    }
   ],
   "source": [
    "s=\"one two three\"\n",
    "l=s.split(\" \")\n",
    "st=\"\"\n",
    "i=0\n",
    "while(i<len(l)):\n",
    "    st=l[i]+st\n",
    "    i+=1\n",
    "print(st)"
   ]
  },
  {
   "cell_type": "code",
   "execution_count": 30,
   "metadata": {},
   "outputs": [
    {
     "name": "stdout",
     "output_type": "stream",
     "text": [
      "aabbbbb\n"
     ]
    }
   ],
   "source": [
    "s=\"a2b41\"\n",
    "o=\"\"\n",
    "for i in s:\n",
    "    if i.isalpha():\n",
    "        x=i\n",
    "    else:\n",
    "        d=int(i)\n",
    "        o=o+x*d\n",
    "print(o)\n",
    "        "
   ]
  },
  {
   "cell_type": "code",
   "execution_count": 40,
   "metadata": {},
   "outputs": [
    {
     "name": "stdout",
     "output_type": "stream",
     "text": [
      "0x177941d4e80 0x177941d4e80\n",
      "1613097684608 1613097684608\n"
     ]
    }
   ],
   "source": [
    "x=[1,2]\n",
    "x_copy=x\n",
    "# x=x+[3,4]\n",
    "x+=[3,4]\n",
    "print(hex(id(x)),hex(id(x_copy)))\n",
    "print(id(x),id(x_copy))"
   ]
  },
  {
   "cell_type": "code",
   "execution_count": 48,
   "metadata": {},
   "outputs": [
    {
     "name": "stdout",
     "output_type": "stream",
     "text": [
      "(1, 2, [2, 3, 10])\n"
     ]
    },
    {
     "ename": "AttributeError",
     "evalue": "'list' object has no attribute '_add_'",
     "output_type": "error",
     "traceback": [
      "\u001b[1;31m---------------------------------------------------------------------------\u001b[0m",
      "\u001b[1;31mAttributeError\u001b[0m                            Traceback (most recent call last)",
      "\u001b[1;32m<ipython-input-48-2101fcf67de2>\u001b[0m in \u001b[0;36m<module>\u001b[1;34m\u001b[0m\n\u001b[0;32m      6\u001b[0m \u001b[0mt\u001b[0m\u001b[1;33m\u001b[0m\u001b[1;33m\u001b[0m\u001b[0m\n\u001b[0;32m      7\u001b[0m \u001b[0mprint\u001b[0m\u001b[1;33m(\u001b[0m\u001b[0mt\u001b[0m\u001b[1;33m)\u001b[0m\u001b[1;33m\u001b[0m\u001b[1;33m\u001b[0m\u001b[0m\n\u001b[1;32m----> 8\u001b[1;33m \u001b[0mt\u001b[0m\u001b[1;33m[\u001b[0m\u001b[1;36m2\u001b[0m\u001b[1;33m]\u001b[0m\u001b[1;33m=\u001b[0m\u001b[0mt\u001b[0m\u001b[1;33m[\u001b[0m\u001b[1;36m2\u001b[0m\u001b[1;33m]\u001b[0m\u001b[1;33m.\u001b[0m\u001b[0m_add_\u001b[0m\u001b[1;33m[\u001b[0m\u001b[1;36m9\u001b[0m\u001b[1;33m]\u001b[0m\u001b[1;33m\u001b[0m\u001b[1;33m\u001b[0m\u001b[0m\n\u001b[0m",
      "\u001b[1;31mAttributeError\u001b[0m: 'list' object has no attribute '_add_'"
     ]
    }
   ],
   "source": [
    "t=1,2,[2,3]\n",
    "# t[1].append(3)\n",
    "# print(t)\n",
    "# t[1]=[3,4]\n",
    "t[2].append(10)\n",
    "t\n",
    "print(t)\n",
    "# t[2]=t[2]._add_[9]\n"
   ]
  },
  {
   "cell_type": "code",
   "execution_count": 6,
   "metadata": {},
   "outputs": [
    {
     "name": "stdout",
     "output_type": "stream",
     "text": [
      "7\n",
      "3\n"
     ]
    }
   ],
   "source": [
    "l=[1,2,3,4,5,6,7,8,9,10]\n",
    "for i in range(len(l)):\n",
    "    for j in range(len(l)-1-i):\n",
    "        if l[j]<l[j+1]:\n",
    "            l[j],l[j+1]=l[j+1],l[j]\n",
    "# print(l)\n",
    "n=int(input())\n",
    "c=0\n",
    "for i in l:\n",
    "    if c==n:\n",
    "        print(l[n])\n",
    "    c+=1"
   ]
  },
  {
   "cell_type": "code",
   "execution_count": 25,
   "metadata": {},
   "outputs": [
    {
     "name": "stdout",
     "output_type": "stream",
     "text": [
      "0 0   0 1   0 2   0 3   0 4   0 5   0 6   0 7   \n",
      "1 0   1 1   1 2   1 3   1 4   1 5   1 6   1 7   \n",
      "2 0   2 1   2 2   2 3   2 4   2 5   2 6   2 7   \n",
      "3 0   3 1   3 2   3 3   3 4   3 5   3 6   3 7   \n",
      "4 0   4 1   4 2   4 3   4 4   4 5   4 6   4 7   \n",
      "5 0   5 1   5 2   5 3   5 4   5 5   5 6   5 7   \n",
      "6 0   6 1   6 2   6 3   6 4   6 5   6 6   6 7   \n",
      "7 0   7 1   7 2   7 3   7 4   7 5   7 6   7 7   \n"
     ]
    }
   ],
   "source": [
    "n=4\n",
    "for i in range(n*2):\n",
    "    for j in range(n*2):\n",
    "        print(i,j,\" \",end=\" \")\n",
    "    print()"
   ]
  },
  {
   "cell_type": "code",
   "execution_count": 40,
   "metadata": {},
   "outputs": [
    {
     "name": "stdout",
     "output_type": "stream",
     "text": [
      "********\n",
      "***__***\n",
      "***__***\n",
      "***__***\n",
      "***__***\n",
      "***__***\n",
      "***__***\n",
      "***__***\n"
     ]
    }
   ],
   "source": [
    "n=4\n",
    "# a=\n",
    "for i in range(n*2):\n",
    "    for j in range(n*2):\n",
    "        if i>=1 and (j==3 or j==4):\n",
    "            print(\"_\",end=\"\")\n",
    "        else:\n",
    "            print(\"*\",end=\"\")\n",
    "    print()"
   ]
  },
  {
   "cell_type": "code",
   "execution_count": 31,
   "metadata": {},
   "outputs": [
    {
     "name": "stdout",
     "output_type": "stream",
     "text": [
      "[6, 5, 7, 4, 8, 3, 9, 2, 10, 1]\n"
     ]
    }
   ],
   "source": [
    "l=[1,2,3,4,5,6,7,8,9,10]\n",
    "for i in range(len(l)):\n",
    "    if i%2==0:\n",
    "        for j in range(len(l)-1-i):\n",
    "            if l[j]<l[j+1]:\n",
    "                l[j],l[j+1]=l[j+1],l[j]\n",
    "    else:\n",
    "        for j in range(len(l)-1-i):\n",
    "            if l[j]>l[j+1]:\n",
    "                l[j],l[j+1]=l[j+1],l[j]\n",
    "print(l)"
   ]
  },
  {
   "cell_type": "code",
   "execution_count": 27,
   "metadata": {},
   "outputs": [
    {
     "name": "stdout",
     "output_type": "stream",
     "text": [
      "not leap\n"
     ]
    }
   ],
   "source": [
    "n=1725\n",
    "if n%4==0:\n",
    "    if n%100==0:\n",
    "        if n%400==0:\n",
    "            print(\"its leap\")\n",
    "        else:\n",
    "            print('not')\n",
    "    else:\n",
    "        print('leap')\n",
    "            \n",
    "else:\n",
    "    print('not leap')"
   ]
  },
  {
   "cell_type": "code",
   "execution_count": 32,
   "metadata": {},
   "outputs": [
    {
     "name": "stdout",
     "output_type": "stream",
     "text": [
      "1\n",
      "2\n",
      "3\n",
      "5\n",
      "8\n",
      "13\n",
      "21\n",
      "34\n",
      "55\n"
     ]
    }
   ],
   "source": [
    "a=0\n",
    "b=1\n",
    "n=10\n",
    "for i in range(1, n):\n",
    "            c = a + b\n",
    "            a = b\n",
    "            b = c\n",
    "            print(c)"
   ]
  },
  {
   "cell_type": "code",
   "execution_count": 34,
   "metadata": {},
   "outputs": [
    {
     "name": "stdout",
     "output_type": "stream",
     "text": [
      "select seat 1,2,3,4,5\n",
      "1 2\n",
      "{1: ['1', '2']}\n",
      "1\n",
      "not available\n",
      "{1: ['1', '2'], 2: []}\n",
      "3 4\n",
      "{1: ['1', '2'], 2: [], 3: ['3', '4']}\n",
      "5\n",
      "{1: ['1', '2'], 2: [], 3: ['3', '4'], 4: ['5']}\n"
     ]
    },
    {
     "ename": "KeyboardInterrupt",
     "evalue": "Interrupted by user",
     "output_type": "error",
     "traceback": [
      "\u001b[1;31m---------------------------------------------------------------------------\u001b[0m",
      "\u001b[1;31mKeyboardInterrupt\u001b[0m                         Traceback (most recent call last)",
      "\u001b[1;32m<ipython-input-34-570d21309157>\u001b[0m in \u001b[0;36m<module>\u001b[1;34m\u001b[0m\n\u001b[0;32m      6\u001b[0m \u001b[0ma\u001b[0m\u001b[1;33m=\u001b[0m\u001b[1;36m1\u001b[0m\u001b[1;33m\u001b[0m\u001b[1;33m\u001b[0m\u001b[0m\n\u001b[0;32m      7\u001b[0m \u001b[1;32mwhile\u001b[0m\u001b[1;33m(\u001b[0m\u001b[1;34m\"true\"\u001b[0m\u001b[1;33m)\u001b[0m\u001b[1;33m:\u001b[0m\u001b[1;33m\u001b[0m\u001b[1;33m\u001b[0m\u001b[0m\n\u001b[1;32m----> 8\u001b[1;33m     \u001b[0mi\u001b[0m\u001b[1;33m=\u001b[0m\u001b[0minput\u001b[0m\u001b[1;33m(\u001b[0m\u001b[1;33m)\u001b[0m\u001b[1;33m.\u001b[0m\u001b[0msplit\u001b[0m\u001b[1;33m(\u001b[0m\u001b[1;34m\" \"\u001b[0m\u001b[1;33m)\u001b[0m\u001b[1;33m\u001b[0m\u001b[1;33m\u001b[0m\u001b[0m\n\u001b[0m\u001b[0;32m      9\u001b[0m \u001b[1;31m#     for j in i:\u001b[0m\u001b[1;33m\u001b[0m\u001b[1;33m\u001b[0m\u001b[1;33m\u001b[0m\u001b[0m\n\u001b[0;32m     10\u001b[0m \u001b[1;31m#         for k in l1:\u001b[0m\u001b[1;33m\u001b[0m\u001b[1;33m\u001b[0m\u001b[1;33m\u001b[0m\u001b[0m\n",
      "\u001b[1;32mD:\\anaconda\\lib\\site-packages\\ipykernel\\kernelbase.py\u001b[0m in \u001b[0;36mraw_input\u001b[1;34m(self, prompt)\u001b[0m\n\u001b[0;32m    858\u001b[0m                 \u001b[1;34m\"raw_input was called, but this frontend does not support input requests.\"\u001b[0m\u001b[1;33m\u001b[0m\u001b[1;33m\u001b[0m\u001b[0m\n\u001b[0;32m    859\u001b[0m             )\n\u001b[1;32m--> 860\u001b[1;33m         return self._input_request(str(prompt),\n\u001b[0m\u001b[0;32m    861\u001b[0m             \u001b[0mself\u001b[0m\u001b[1;33m.\u001b[0m\u001b[0m_parent_ident\u001b[0m\u001b[1;33m,\u001b[0m\u001b[1;33m\u001b[0m\u001b[1;33m\u001b[0m\u001b[0m\n\u001b[0;32m    862\u001b[0m             \u001b[0mself\u001b[0m\u001b[1;33m.\u001b[0m\u001b[0m_parent_header\u001b[0m\u001b[1;33m,\u001b[0m\u001b[1;33m\u001b[0m\u001b[1;33m\u001b[0m\u001b[0m\n",
      "\u001b[1;32mD:\\anaconda\\lib\\site-packages\\ipykernel\\kernelbase.py\u001b[0m in \u001b[0;36m_input_request\u001b[1;34m(self, prompt, ident, parent, password)\u001b[0m\n\u001b[0;32m    902\u001b[0m             \u001b[1;32mexcept\u001b[0m \u001b[0mKeyboardInterrupt\u001b[0m\u001b[1;33m:\u001b[0m\u001b[1;33m\u001b[0m\u001b[1;33m\u001b[0m\u001b[0m\n\u001b[0;32m    903\u001b[0m                 \u001b[1;31m# re-raise KeyboardInterrupt, to truncate traceback\u001b[0m\u001b[1;33m\u001b[0m\u001b[1;33m\u001b[0m\u001b[1;33m\u001b[0m\u001b[0m\n\u001b[1;32m--> 904\u001b[1;33m                 \u001b[1;32mraise\u001b[0m \u001b[0mKeyboardInterrupt\u001b[0m\u001b[1;33m(\u001b[0m\u001b[1;34m\"Interrupted by user\"\u001b[0m\u001b[1;33m)\u001b[0m \u001b[1;32mfrom\u001b[0m \u001b[1;32mNone\u001b[0m\u001b[1;33m\u001b[0m\u001b[1;33m\u001b[0m\u001b[0m\n\u001b[0m\u001b[0;32m    905\u001b[0m             \u001b[1;32mexcept\u001b[0m \u001b[0mException\u001b[0m \u001b[1;32mas\u001b[0m \u001b[0me\u001b[0m\u001b[1;33m:\u001b[0m\u001b[1;33m\u001b[0m\u001b[1;33m\u001b[0m\u001b[0m\n\u001b[0;32m    906\u001b[0m                 \u001b[0mself\u001b[0m\u001b[1;33m.\u001b[0m\u001b[0mlog\u001b[0m\u001b[1;33m.\u001b[0m\u001b[0mwarning\u001b[0m\u001b[1;33m(\u001b[0m\u001b[1;34m\"Invalid Message:\"\u001b[0m\u001b[1;33m,\u001b[0m \u001b[0mexc_info\u001b[0m\u001b[1;33m=\u001b[0m\u001b[1;32mTrue\u001b[0m\u001b[1;33m)\u001b[0m\u001b[1;33m\u001b[0m\u001b[1;33m\u001b[0m\u001b[0m\n",
      "\u001b[1;31mKeyboardInterrupt\u001b[0m: Interrupted by user"
     ]
    }
   ],
   "source": [
    "l=[\"1\",'2','3','4','5']\n",
    "l1=[]\n",
    "l2=[]\n",
    "print(\"select seat 1,2,3,4,5\")\n",
    "d={}\n",
    "a=1\n",
    "while(\"true\"):\n",
    "    i=input().split(\" \")\n",
    "#     for j in i:\n",
    "#         for k in l1:\n",
    "#             if j==k:\n",
    "#                 print('ticket not available')\n",
    "#                 break\n",
    "    \n",
    "    for m in i:\n",
    "        if m in l:\n",
    "            l1.append(m)\n",
    "            l.remove(m)\n",
    "#     print('booked seats',l1)\n",
    "        else:\n",
    "            print('not available')\n",
    "            break\n",
    "#         print(l1)\n",
    "    d[a]=l1\n",
    "    a+=1\n",
    "    l1=[]\n",
    "    print(d)\n",
    "        "
   ]
  },
  {
   "cell_type": "code",
   "execution_count": 35,
   "metadata": {},
   "outputs": [
    {
     "name": "stdout",
     "output_type": "stream",
     "text": [
      "100\n"
     ]
    }
   ],
   "source": [
    "a=-100\n",
    "print(abs(a))"
   ]
  },
  {
   "cell_type": "code",
   "execution_count": 43,
   "metadata": {},
   "outputs": [
    {
     "name": "stdout",
     "output_type": "stream",
     "text": [
      "7 11\n",
      "5 15\n",
      "3 2\n",
      "-2 2 1\n",
      "5 -6\n",
      "[3, 7, 6] [20, 9]\n",
      "1 1\n"
     ]
    }
   ],
   "source": [
    "if __name__ == '__main__':\n",
    "    first_multiple_input = input().rstrip().split()\n",
    "\n",
    "    s = int(first_multiple_input[0])\n",
    "\n",
    "    t = int(first_multiple_input[1])\n",
    "\n",
    "    second_multiple_input = input().rstrip().split()\n",
    "\n",
    "    a = int(second_multiple_input[0])\n",
    "\n",
    "    b = int(second_multiple_input[1])\n",
    "\n",
    "    third_multiple_input = input().rstrip().split()\n",
    "\n",
    "    m = int(third_multiple_input[0])\n",
    "\n",
    "    n = int(third_multiple_input[1])\n",
    "\n",
    "    apples = list(map(int, input().rstrip().split()))\n",
    "\n",
    "    oranges = list(map(int, input().rstrip().split()))\n",
    "\n",
    "#     print(s,t)\n",
    "#     print(a,b)\n",
    "#     print(m,n)\n",
    "#     print(apples)\n",
    "#     print(oranges)\n",
    "    l1=[]\n",
    "    l2=[]\n",
    "    x,y=0,0\n",
    "    for i in apples:\n",
    "        c=i+a\n",
    "        if c>=s and c<=t:\n",
    "            x+=1\n",
    "        l1.append(c)\n",
    "    for i in oranges:\n",
    "        c=i+b\n",
    "        if c>=s and c<=t:\n",
    "            y+=1\n",
    "        l2.append(c)\n",
    "    print(l1,l2)\n",
    "    print(x,y)\n",
    "        \n",
    "        \n",
    "        "
   ]
  },
  {
   "cell_type": "code",
   "execution_count": 48,
   "metadata": {},
   "outputs": [
    {
     "name": "stdout",
     "output_type": "stream",
     "text": [
      "7 11\n",
      "5 15\n",
      "3 2\n",
      "-2 2 1\n",
      "5 -6\n",
      "1\n",
      "1\n"
     ]
    }
   ],
   "source": [
    "import math\n",
    "import os\n",
    "import random\n",
    "import re\n",
    "import sys\n",
    "\n",
    "#\n",
    "# Complete the 'countApplesAndOranges' function below.\n",
    "#\n",
    "# The function accepts following parameters:\n",
    "#  1. INTEGER s\n",
    "#  2. INTEGER t\n",
    "#  3. INTEGER a\n",
    "#  4. INTEGER b\n",
    "#  5. INTEGER_ARRAY apples\n",
    "#  6. INTEGER_ARRAY oranges\n",
    "#\n",
    "\n",
    "def countApplesAndOranges(s, t, a, b, apples, oranges):\n",
    "    # Write your code here\n",
    "    l1=[]\n",
    "    l2=[]\n",
    "    x,y=0,0\n",
    "    for i in apples:\n",
    "        c=i+a\n",
    "        if c>=s and c<=t:\n",
    "            x+=1\n",
    "        l1.append(c)\n",
    "    for i in oranges:\n",
    "        c=i+b\n",
    "        if c>=s and c<=t:\n",
    "            y+=1\n",
    "        l2.append(c)\n",
    "    # print(l1,l2)\n",
    "    print(x)\n",
    "    print(y)\n",
    "\n",
    "if __name__ == '__main__':\n",
    "    first_multiple_input = input().rstrip().split()\n",
    "\n",
    "    s = int(first_multiple_input[0])\n",
    "\n",
    "    t = int(first_multiple_input[1])\n",
    "\n",
    "    second_multiple_input = input().rstrip().split()\n",
    "\n",
    "    a = int(second_multiple_input[0])\n",
    "\n",
    "    b = int(second_multiple_input[1])\n",
    "\n",
    "    third_multiple_input = input().rstrip().split()\n",
    "\n",
    "    m = int(third_multiple_input[0])\n",
    "\n",
    "    n = int(third_multiple_input[1])\n",
    "\n",
    "    apples = list(map(int, input().rstrip().split()))\n",
    "\n",
    "    oranges = list(map(int, input().rstrip().split()))\n",
    "\n",
    "    countApplesAndOranges(s, t, a, b, apples, oranges)\n"
   ]
  },
  {
   "cell_type": "code",
   "execution_count": 10,
   "metadata": {},
   "outputs": [
    {
     "name": "stdout",
     "output_type": "stream",
     "text": [
      "12 12\n",
      "Yes\n"
     ]
    }
   ],
   "source": [
    "x1=0\n",
    "v1=3\n",
    "x2=4\n",
    "v2=2\n",
    "x=0\n",
    "for i in range(10):\n",
    "    x+=1\n",
    "    x1+=v1\n",
    "    x2+=v2\n",
    "    if x1==x2:\n",
    "        print(x1,x2)\n",
    "        print(\"Yes\")\n",
    "        break\n",
    "if x==10:\n",
    "    print(\"NO\")"
   ]
  },
  {
   "cell_type": "code",
   "execution_count": 3,
   "metadata": {},
   "outputs": [
    {
     "name": "stdout",
     "output_type": "stream",
     "text": [
      "0 2 5 3\n",
      "0 2 5 3\n"
     ]
    }
   ],
   "source": [
    "def kangaroo(x1, v1, x2, v2):\n",
    "\n",
    "    for i in range(10):\n",
    "        x1+=v1\n",
    "        x2+=v2\n",
    "        \n",
    "\n",
    "\n",
    "first_multiple_input = input().rstrip().split()\n",
    "\n",
    "x1 = int(first_multiple_input[0])\n",
    "\n",
    "v1 = int(first_multiple_input[1])\n",
    "\n",
    "x2 = int(first_multiple_input[2])\n",
    "\n",
    "v2 = int(first_multiple_input[3])\n",
    "\n",
    "result = kangaroo(x1, v1, x2, v2)\n"
   ]
  },
  {
   "cell_type": "code",
   "execution_count": 12,
   "metadata": {},
   "outputs": [
    {
     "name": "stdout",
     "output_type": "stream",
     "text": [
      "9\n",
      "1 2 3 4 5 6 7 8 9\n",
      "1\n"
     ]
    }
   ],
   "source": [
    "n = int(input().strip())\n",
    "scores = list(map(int, input().rstrip().split()))\n",
    "print(scores[0])\n",
    "a=scores[0]\n",
    "b=scores[0]\n",
    "mi=0\n",
    "ma=0\n",
    "for i in scores:\n",
    "    if i<a:\n",
    "        a=i\n",
    "        mi+=1\n",
    "    if i>b:\n",
    "        b=i\n",
    "        ma+=1\n",
    "print(mi,ma)"
   ]
  },
  {
   "cell_type": "code",
   "execution_count": 6,
   "metadata": {},
   "outputs": [
    {
     "name": "stdout",
     "output_type": "stream",
     "text": [
      "4 0\n"
     ]
    }
   ],
   "source": [
    "l=[3,4,21,36,10,28,35,5,24,42]\n",
    "a=l[0]\n",
    "b=l[0]\n",
    "mi=0\n",
    "ma=0\n",
    "for i in l:\n",
    "    if i<a:\n",
    "        a=i\n",
    "        mi+=1\n",
    "    if i>b:\n",
    "        b=i\n",
    "        ma+=1\n",
    "print(ma,mi)"
   ]
  },
  {
   "cell_type": "code",
   "execution_count": 37,
   "metadata": {},
   "outputs": [
    {
     "name": "stdout",
     "output_type": "stream",
     "text": [
      "1\n",
      "2\n",
      "1\n",
      "3\n",
      "2\n",
      "2\n"
     ]
    }
   ],
   "source": [
    "l=[1,2,1,3,2]\n",
    "m=2\n",
    "a=3\n",
    "c1=0\n",
    "c1=0\n",
    "for i in range(0,len(l)):\n",
    "    s=sum(l[i:i+m])\n",
    "    print(l[i])\n",
    "    if s==a:\n",
    "        c1+=1\n",
    "print(c1)"
   ]
  },
  {
   "cell_type": "code",
   "execution_count": 22,
   "metadata": {},
   "outputs": [
    {
     "name": "stdout",
     "output_type": "stream",
     "text": [
      "[2, 3, 4, 5, 4, 3, 2, 1, 3, 4]\n",
      "[2, 3, 4, 5, 4, 3, 2, 3, 4]\n",
      "[2, 4, 5, 4, 3, 2, 3, 4]\n",
      "[2, 4, 5, 4, 2, 3, 4]\n",
      "[2, 4, 5, 4, 2, 4]\n",
      "[2, 4, 4, 2, 4]\n",
      "[4, 4, 2, 4]\n",
      "[4, 4, 4]\n",
      "2\n"
     ]
    }
   ],
   "source": [
    "l=[1,2,3,4,5,4,3,2,1,3,4]\n",
    "c=1\n",
    "for i in l:\n",
    "    a=c\n",
    "    c=0\n",
    "    for j in l:\n",
    "        if i==j:\n",
    "            c+=1\n",
    "            l.remove(j)\n",
    "            print(l)\n",
    "    if c>a:\n",
    "#         a=c\n",
    "        g=i\n",
    "print(g)\n",
    "    "
   ]
  },
  {
   "cell_type": "code",
   "execution_count": 77,
   "metadata": {},
   "outputs": [
    {
     "name": "stdout",
     "output_type": "stream",
     "text": [
      "4\n"
     ]
    }
   ],
   "source": [
    "l=[1,4,4,4,5,5,3]\n",
    "c=0\n",
    "a=1\n",
    "b=a\n",
    "for i in l:\n",
    "    if b!=i:\n",
    "        j=l.count(i)\n",
    "        if j>a:\n",
    "            a=j\n",
    "            b=i\n",
    "print(b)\n",
    "        "
   ]
  },
  {
   "cell_type": "code",
   "execution_count": 26,
   "metadata": {},
   "outputs": [
    {
     "name": "stdout",
     "output_type": "stream",
     "text": [
      "[2, 3, 4, 5, 4, 3, 2, 1, 3, 4]\n",
      "[2, 3, 4, 5, 4, 3, 2, 3, 4]\n",
      "[3, 4, 5, 4, 3, 2, 3, 4]\n",
      "[3, 4, 5, 4, 3, 3, 4]\n",
      "[4, 5, 4, 3, 3, 4]\n",
      "[4, 5, 4, 3, 4]\n",
      "[5, 4, 3, 4]\n",
      "[5, 3, 4]\n",
      "[5, 3]\n"
     ]
    }
   ],
   "source": [
    "l=[1,2,3,4,5,4,3,2,1,3,4]\n",
    "for i in l:\n",
    "    h=l[0]\n",
    "    for j in l:\n",
    "        if h==j:\n",
    "            l.remove(j)\n",
    "            print(l)"
   ]
  },
  {
   "cell_type": "code",
   "execution_count": 29,
   "metadata": {},
   "outputs": [
    {
     "name": "stdout",
     "output_type": "stream",
     "text": [
      "leap\n",
      "12.09. 2016\n"
     ]
    }
   ],
   "source": [
    "n=2016\n",
    "if n%4==0:\n",
    "    if n%100==0:\n",
    "        if n%400==0:\n",
    "            print(\"its leap\")\n",
    "            a='leap'\n",
    "        else:\n",
    "            print('not')\n",
    "            a='no'\n",
    "    else:\n",
    "        print('leap')\n",
    "        a='leap'\n",
    "else:\n",
    "    print('not leap')\n",
    "    a='no'\n",
    "if a=='leap':\n",
    "    print('12.09.',n)\n",
    "else:\n",
    "    print('13.09.',n)"
   ]
  },
  {
   "cell_type": "code",
   "execution_count": 46,
   "metadata": {},
   "outputs": [
    {
     "name": "stdout",
     "output_type": "stream",
     "text": [
      "no\n"
     ]
    }
   ],
   "source": [
    "n=2022\n",
    "if n%400==0:\n",
    "    print('leape')\n",
    "elif n%4==0 and n%100!=0:\n",
    "    print('leapi')\n",
    "else:\n",
    "    print('no')"
   ]
  },
  {
   "cell_type": "code",
   "execution_count": 60,
   "metadata": {},
   "outputs": [
    {
     "name": "stdout",
     "output_type": "stream",
     "text": [
      "4\n"
     ]
    }
   ],
   "source": [
    "s='GAAATAAA'\n",
    "c=0\n",
    "a=1\n",
    "for i in s:\n",
    "    c=0\n",
    "    for j in s:\n",
    "        if i==j:\n",
    "            c+=1\n",
    "    if c>a:\n",
    "        a=c\n",
    "        g=i\n",
    "if a-2 > 2:\n",
    "    print(a-2)\n",
    "            \n",
    "        \n",
    "            "
   ]
  },
  {
   "cell_type": "code",
   "execution_count": 4,
   "metadata": {},
   "outputs": [
    {
     "data": {
      "text/plain": [
       "'26.09.1918'"
      ]
     },
     "execution_count": 4,
     "metadata": {},
     "output_type": "execute_result"
    }
   ],
   "source": [
    "year=1918\n",
    "def year(year):\n",
    "    if year < 1700 or year > 2700:\n",
    "        return \n",
    "\n",
    "    elif year==1918:\n",
    "        return '26.09.1918'\n",
    "\n",
    "    elif year < 1918:\n",
    "        if year%4==0:\n",
    "            return '12.09.'+str(year)\n",
    "\n",
    "        else:\n",
    "            return '13.09.'+str(year)\n",
    "\n",
    "    elif year > 1918:\n",
    "        if year%400==0 or year%4==0 and year%100!=0:\n",
    "            return '12.09.'+str(year) \n",
    "\n",
    "        else:\n",
    "            return '13.09.'+str(year)\n",
    "year(1918)"
   ]
  },
  {
   "cell_type": "code",
   "execution_count": 37,
   "metadata": {},
   "outputs": [
    {
     "name": "stdout",
     "output_type": "stream",
     "text": [
      "True\n"
     ]
    }
   ],
   "source": [
    "# isalnum()\n",
    "# isalpha()\n",
    "# isdigit()\n",
    "# islower()\n",
    "# isupper()\n",
    "j=\"hghvhvh\"\n",
    "b=[]\n",
    "for i in j:\n",
    "    a=i.isalnum()\n",
    "    b=i.isalpha()\n",
    "    c=i.isdigit()\n",
    "    d=i.islower()\n",
    "    e=i.isupper()\n",
    "print(a)"
   ]
  },
  {
   "cell_type": "code",
   "execution_count": 47,
   "metadata": {},
   "outputs": [
    {
     "name": "stdout",
     "output_type": "stream",
     "text": [
      "4 1\n",
      "3 10 2 9\n",
      "7\n",
      "Bon Appetit\n"
     ]
    }
   ],
   "source": [
    "def bonAppetit(bill, k, b):\n",
    "    a=0\n",
    "    for i in range(len(bill)):\n",
    "        if i!=k:\n",
    "            a+=bill[i]\n",
    "    if b>(a//2):\n",
    "        print(b-(a//2))\n",
    "    elif b==(a//2):\n",
    "        print('Bon Appetit')\n",
    "#     else:\n",
    "#         print((a//2)-b,a//2)\n",
    "\n",
    "if __name__ == '__main__':\n",
    "    first_multiple_input = input().rstrip().split()\n",
    "\n",
    "    n = int(first_multiple_input[0])\n",
    "\n",
    "    k = int(first_multiple_input[1])\n",
    "\n",
    "    bill = list(map(int, input().rstrip().split()))\n",
    "\n",
    "    b = int(input().strip())\n",
    "\n",
    "    bonAppetit(bill, k, b)"
   ]
  },
  {
   "cell_type": "code",
   "execution_count": 59,
   "metadata": {},
   "outputs": [
    {
     "name": "stdout",
     "output_type": "stream",
     "text": [
      "0\n"
     ]
    }
   ],
   "source": [
    "# ar = '44 55 11 15 4 72 26 91 80 14 43 78 70 75 36 83 78 91 17 17 54 65 60 21 58 98 87 45 75 97 81 18 51 43 84 54 66 10 44 45 23 38 22 44 65 9 78 42 100 94 58 5 11 69 26 20 19 64 64 93 60 96 10 10 39 94 15 4 3 10 1 77 48 74 20 12 83 97 5 82 43 15 86 5 35 63 24 53 27 87 45 38 34 7 48 24 100 14 80 54'.split(\" \")\n",
    "ar=[100]\n",
    "c=0\n",
    "k='a'\n",
    "a=0\n",
    "# print(sorted(ar))\n",
    "for i in sorted(ar):\n",
    "    c=0\n",
    "    for j in sorted(ar):\n",
    "        if i==j:\n",
    "            c+=1\n",
    "#             ar.remove(j)\n",
    "    if c>=2:\n",
    "#         ar.remove(i)\n",
    "#         print(i,c//2)\n",
    "        f=i\n",
    "    if k!=f:\n",
    "        k=f\n",
    "        a+=c//2\n",
    "print(a)"
   ]
  },
  {
   "cell_type": "code",
   "execution_count": 64,
   "metadata": {},
   "outputs": [
    {
     "name": "stdout",
     "output_type": "stream",
     "text": [
      "2\n"
     ]
    }
   ],
   "source": [
    "l=[3,2,1,3,2,3]\n",
    "c=0\n",
    "a1=1\n",
    "for i in l:\n",
    "    c=0\n",
    "    for j in l:\n",
    "        if i==j:\n",
    "            c+=1\n",
    "    if c>=2:\n",
    "        a1=2\n",
    "print(a1)"
   ]
  },
  {
   "cell_type": "code",
   "execution_count": 66,
   "metadata": {},
   "outputs": [
    {
     "name": "stdout",
     "output_type": "stream",
     "text": [
      "1\n"
     ]
    }
   ],
   "source": [
    "l=[3,2,1]\n",
    "a=max(l)\n",
    "c=0\n",
    "for i in l:\n",
    "    if a==i:\n",
    "        c+=1\n",
    "print(c)"
   ]
  },
  {
   "cell_type": "code",
   "execution_count": 40,
   "metadata": {},
   "outputs": [
    {
     "name": "stdout",
     "output_type": "stream",
     "text": [
      "0\n",
      "0\n"
     ]
    }
   ],
   "source": [
    "f=5\n",
    "d=4\n",
    "a=1\n",
    "if d%2==0:\n",
    "    b=0\n",
    "else:\n",
    "    b=1\n",
    "for i in range(1,f+1):\n",
    "    if i==d:\n",
    "        break\n",
    "    a+=1\n",
    "for i in range(f,2,-1):\n",
    "    if i==d:\n",
    "        break\n",
    "    b+=1\n",
    "print(b//2)\n",
    "print(a//2 if a<b else b//2)"
   ]
  },
  {
   "cell_type": "code",
   "execution_count": 60,
   "metadata": {},
   "outputs": [
    {
     "ename": "SyntaxError",
     "evalue": "unexpected EOF while parsing (<ipython-input-60-c8da32038d48>, line 6)",
     "output_type": "error",
     "traceback": [
      "\u001b[1;36m  File \u001b[1;32m\"<ipython-input-60-c8da32038d48>\"\u001b[1;36m, line \u001b[1;32m6\u001b[0m\n\u001b[1;33m    \u001b[0m\n\u001b[1;37m    ^\u001b[0m\n\u001b[1;31mSyntaxError\u001b[0m\u001b[1;31m:\u001b[0m unexpected EOF while parsing\n"
     ]
    }
   ],
   "source": [
    "f=5\n",
    "d=4\n",
    "a=1\n",
    "for i in range(f,2,-1):\n",
    "    if i==d:\n",
    "        "
   ]
  },
  {
   "cell_type": "code",
   "execution_count": 83,
   "metadata": {},
   "outputs": [
    {
     "name": "stdout",
     "output_type": "stream",
     "text": [
      "1\n"
     ]
    }
   ],
   "source": [
    "s='DDUUDDUDUUUD'\n",
    "a=1\n",
    "for i in s:\n",
    "    if i=='U':\n",
    "        a+=1\n",
    "#         pass\n",
    "    elif i==\"D\":\n",
    "        a-=1\n",
    "if a==0:\n",
    "    print(1)\n",
    "else:\n",
    "    print(a)"
   ]
  },
  {
   "cell_type": "code",
   "execution_count": 10,
   "metadata": {},
   "outputs": [
    {
     "name": "stdout",
     "output_type": "stream",
     "text": [
      "b\n"
     ]
    }
   ],
   "source": [
    "d={1:'a',2:'b'}\n",
    "print(d[2] if d[1]=='a' else 1)"
   ]
  },
  {
   "cell_type": "code",
   "execution_count": 4,
   "metadata": {},
   "outputs": [
    {
     "name": "stdout",
     "output_type": "stream",
     "text": [
      "2023 2004\n",
      "19\n"
     ]
    }
   ],
   "source": [
    "from pytz import timezone \n",
    "from datetime import datetime\n",
    "dob=\"2004-08-16\"\n",
    "ind_time = datetime.now(timezone(\"Asia/Kolkata\")).strftime('%Y-%m-%d')\n",
    "\n",
    "date=int(ind_time[0:4])-int(dob[0:4])\n",
    "print(ind_time[0:4],dob[0:4])\n",
    "if date>=18:\n",
    "    print(date)"
   ]
  },
  {
   "cell_type": "code",
   "execution_count": 12,
   "metadata": {},
   "outputs": [
    {
     "name": "stdout",
     "output_type": "stream",
     "text": [
      "arg=() kww={'x': 1, 'y': 2, 'z': 3}\n"
     ]
    }
   ],
   "source": [
    "def func(*arg,**kww):\n",
    "    print(f\"{arg=} {kww=}\")\n",
    "\n",
    "func(**{'x':1,'y':2,'z':3})\n",
    "arg=() \n",
    "kw={'x':1,'y':2,'z':3}"
   ]
  },
  {
   "cell_type": "code",
   "execution_count": 32,
   "metadata": {},
   "outputs": [
    {
     "name": "stdout",
     "output_type": "stream",
     "text": [
      "TED0100\n"
     ]
    }
   ],
   "source": [
    "id='TED0000'\n",
    "prefix = id[:3]\n",
    "suffix = id[3:]\n",
    "new_suffix = str(int(suffix) + 100).zfill(len(suffix))\n",
    "new_id = prefix + new_suffix\n",
    "print(new_id)"
   ]
  },
  {
   "cell_type": "code",
   "execution_count": 6,
   "metadata": {},
   "outputs": [
    {
     "name": "stdout",
     "output_type": "stream",
     "text": [
      "TED0100\n"
     ]
    }
   ],
   "source": [
    "id=100\n",
    "oldid='TED0000'\n",
    "prefix = oldid[:3]\n",
    "suffix = oldid[3:]\n",
    "new_suffix = str(int(suffix) + id).zfill(len(suffix))\n",
    "new_id = prefix + new_suffix\n",
    "print(new_id)\n"
   ]
  },
  {
   "cell_type": "code",
   "execution_count": 23,
   "metadata": {},
   "outputs": [
    {
     "name": "stdout",
     "output_type": "stream",
     "text": [
      "Collecting dnspython\n",
      "  Using cached dnspython-2.3.0-py3-none-any.whl (283 kB)\n",
      "Installing collected packages: dnspython\n",
      "Note: you may need to restart the kernel to use updated packages.\n"
     ]
    },
    {
     "name": "stderr",
     "output_type": "stream",
     "text": [
      "ERROR: Could not install packages due to an EnvironmentError: [WinError 32] The process cannot access the file because it is being used by another process: 'D:\\\\anaconda\\\\Lib\\\\site-packages\\\\dns\\\\tokenizer.py'\n",
      "Consider using the `--user` option or check the permissions.\n",
      "\n"
     ]
    },
    {
     "name": "stdout",
     "output_type": "stream",
     "text": [
      "Collecting dnspython\n",
      "  Downloading dnspython-2.3.0-py3-none-any.whl (283 kB)\n",
      "Installing collected packages: dnspython\n",
      "Successfully installed dnspython-2.3.0\n"
     ]
    }
   ],
   "source": [
    "pip install dnspython"
   ]
  },
  {
   "cell_type": "code",
   "execution_count": 29,
   "metadata": {},
   "outputs": [
    {
     "name": "stderr",
     "output_type": "stream",
     "text": [
      "<ipython-input-29-e767da5e5a70>:15: DeprecationWarning: please use dns.resolver.resolve() instead\n",
      "  mx_records = dns.resolver.query(domain, 'MX')\n"
     ]
    },
    {
     "data": {
      "text/plain": [
       "False"
      ]
     },
     "execution_count": 29,
     "metadata": {},
     "output_type": "execute_result"
    }
   ],
   "source": [
    "import re\n",
    "import dns.resolver\n",
    "import smtplib\n",
    "\n",
    "def validate_email(email):\n",
    "    # Check if email address is in a valid format using regular expressions\n",
    "    if not re.match(r\"[^@]+@[^@]+\\.[^@]+\", email):\n",
    "        return False\n",
    "\n",
    "    # Extract domain from email address\n",
    "    domain = email.split('@')[1]\n",
    "\n",
    "    # Check if domain has an MX record\n",
    "    try:\n",
    "        mx_records = dns.resolver.query(domain, 'MX')\n",
    "    except dns.resolver.NoAnswer:\n",
    "        return False\n",
    "    except dns.resolver.NXDOMAIN:\n",
    "        return False\n",
    "\n",
    "    # Check if email address exists on the domain's email server\n",
    "    for mx_record in mx_records:\n",
    "        mx_server = str(mx_record.exchange)\n",
    "        try:\n",
    "            smtp = smtplib.SMTP(timeout=5)\n",
    "            smtp.connect(mx_server)\n",
    "            smtp.helo(smtp.local_hostname)\n",
    "            smtp.mail('me@domain.com')\n",
    "            code, message = smtp.rcpt(str(email))\n",
    "            smtp.quit()\n",
    "            if code == 250:\n",
    "                return True\n",
    "        except Exception:\n",
    "            pass\n",
    "\n",
    "    return False\n",
    "validate_email('bala@gmail.com')\n"
   ]
  },
  {
   "cell_type": "code",
   "execution_count": 1,
   "metadata": {},
   "outputs": [
    {
     "ename": "NameError",
     "evalue": "name 'FPDF' is not defined",
     "output_type": "error",
     "traceback": [
      "\u001b[1;31m---------------------------------------------------------------------------\u001b[0m",
      "\u001b[1;31mNameError\u001b[0m                                 Traceback (most recent call last)",
      "\u001b[1;32m<ipython-input-1-b67fc9e9f97a>\u001b[0m in \u001b[0;36m<module>\u001b[1;34m\u001b[0m\n\u001b[1;32m----> 1\u001b[1;33m \u001b[0mpdf\u001b[0m \u001b[1;33m=\u001b[0m \u001b[0mFPDF\u001b[0m\u001b[1;33m(\u001b[0m\u001b[1;33m)\u001b[0m\u001b[1;33m\u001b[0m\u001b[1;33m\u001b[0m\u001b[0m\n\u001b[0m\u001b[0;32m      2\u001b[0m \u001b[0mpdf\u001b[0m\u001b[1;33m.\u001b[0m\u001b[0madd_page\u001b[0m\u001b[1;33m(\u001b[0m\u001b[1;33m)\u001b[0m\u001b[1;33m\u001b[0m\u001b[1;33m\u001b[0m\u001b[0m\n\u001b[0;32m      3\u001b[0m \u001b[0mpdf\u001b[0m\u001b[1;33m.\u001b[0m\u001b[0mset_font\u001b[0m\u001b[1;33m(\u001b[0m\u001b[1;34m\"Arial\"\u001b[0m\u001b[1;33m,\u001b[0m \u001b[0msize\u001b[0m \u001b[1;33m=\u001b[0m \u001b[1;36m15\u001b[0m\u001b[1;33m)\u001b[0m\u001b[1;33m\u001b[0m\u001b[1;33m\u001b[0m\u001b[0m\n\u001b[0;32m      4\u001b[0m \u001b[0mpdf\u001b[0m\u001b[1;33m.\u001b[0m\u001b[0mcell\u001b[0m\u001b[1;33m(\u001b[0m\u001b[1;36m200\u001b[0m\u001b[1;33m,\u001b[0m \u001b[1;36m10\u001b[0m\u001b[1;33m,\u001b[0m \u001b[0mtxt\u001b[0m \u001b[1;33m=\u001b[0m \u001b[1;34m\"Successfully Applied For Mega Job Fair Date : 11/03/2023, Time : 8:30 A.M\"\u001b[0m\u001b[1;33m,\u001b[0m\u001b[0mln\u001b[0m \u001b[1;33m=\u001b[0m \u001b[1;36m1\u001b[0m\u001b[1;33m,\u001b[0m \u001b[0malign\u001b[0m \u001b[1;33m=\u001b[0m \u001b[1;34m'C'\u001b[0m\u001b[1;33m)\u001b[0m\u001b[1;33m\u001b[0m\u001b[1;33m\u001b[0m\u001b[0m\n\u001b[0;32m      5\u001b[0m \u001b[0mpdf\u001b[0m\u001b[1;33m.\u001b[0m\u001b[0mcell\u001b[0m\u001b[1;33m(\u001b[0m\u001b[1;36m200\u001b[0m\u001b[1;33m,\u001b[0m \u001b[1;36m10\u001b[0m\u001b[1;33m,\u001b[0m \u001b[0mtxt\u001b[0m \u001b[1;33m=\u001b[0m \u001b[1;34mf\"Hi!.. {name} Your ID is {i_d}. \"\u001b[0m\u001b[1;33m,\u001b[0m\u001b[0mln\u001b[0m \u001b[1;33m=\u001b[0m \u001b[1;36m2\u001b[0m\u001b[1;33m,\u001b[0m \u001b[0malign\u001b[0m \u001b[1;33m=\u001b[0m \u001b[1;34m'C'\u001b[0m\u001b[1;33m)\u001b[0m\u001b[1;33m\u001b[0m\u001b[1;33m\u001b[0m\u001b[0m\n",
      "\u001b[1;31mNameError\u001b[0m: name 'FPDF' is not defined"
     ]
    }
   ],
   "source": [
    "pdf = FPDF()\n",
    "pdf.add_page()\n",
    "pdf.set_font(\"Arial\", size = 15)\n",
    "pdf.cell(200, 10, txt = \"Successfully Applied For Mega Job Fair Date : 11/03/2023, Time : 8:30 A.M\",ln = 1, align = 'C')\n",
    "pdf.cell(200, 10, txt = f\"Hi!.. {name} Your ID is {i_d}. \",ln = 2, align = 'C')\n",
    "# pdf.output(f\"{name} {i_d}.pdf\")\n",
    "response = HttpResponse(content_type='text/pdf')\n",
    "response['Content-Disposition'] = 'attachment; filename=\"user_feed.pdf\"'"
   ]
  },
  {
   "cell_type": "code",
   "execution_count": 105,
   "metadata": {},
   "outputs": [
    {
     "name": "stdout",
     "output_type": "stream",
     "text": [
      "[1, 3]\n"
     ]
    }
   ],
   "source": [
    "a=\"bcde\"\n",
    "b=\"a\"\n",
    "c=\"a\"\n",
    "d=\"a\"\n",
    "l=[a,b,c,d]\n",
    "l1=[]\n",
    "x=1\n",
    "while(l):\n",
    "    for i in l:\n",
    "        l.remove(i)\n",
    "        for j in l:\n",
    "            if i == j:\n",
    "                x+=1\n",
    "        if x>1:\n",
    "            for k in range(x-1):\n",
    "                l.remove(i)\n",
    "        \n",
    "        if x>1:\n",
    "            l1.append(x)\n",
    "            x=1\n",
    "           \n",
    "        else:\n",
    "            l1.append(x)\n",
    "print(l1)"
   ]
  },
  {
   "cell_type": "code",
   "execution_count": 44,
   "metadata": {},
   "outputs": [
    {
     "name": "stdout",
     "output_type": "stream",
     "text": [
      "[[1, 2, 3], [2, 5], [1, 7]]\n"
     ]
    }
   ],
   "source": [
    "l = [1,2,3,2,5,1,7]\n",
    "a=0\n",
    "l1=[]\n",
    "l2=[l[0]]\n",
    "for i in range(1,len(l)):\n",
    "    if l[i]>l[i-1]:\n",
    "        l2.append(l[i])\n",
    "    else:\n",
    "        l1.append(l2)\n",
    "        l2=[l[i]]\n",
    "l1.append(l2)\n",
    "print(l1)\n",
    "    "
   ]
  },
  {
   "cell_type": "code",
   "execution_count": 48,
   "metadata": {},
   "outputs": [
    {
     "name": "stdout",
     "output_type": "stream",
     "text": [
      "{'bcde': 1}\n",
      "{'bcde': 1, 'jhdjb': 1}\n",
      "{'bcde': 1, 'jhdjb': 1, 'jhdjdbjdbj': 1}\n",
      "{'bcde': 2, 'jhdjb': 1, 'jhdjdbjdbj': 1}\n",
      "3 different strings\n",
      "2 1 1 "
     ]
    }
   ],
   "source": [
    "string1 = \"bcde\"\n",
    "string2 = \"jhdjb\"\n",
    "string3 = \"jhdjdbjdbj\"\n",
    "string4 = \"bcde\"\n",
    "\n",
    "# create a list of all strings\n",
    "strings = [string1, string2, string3, string4]\n",
    "\n",
    "# create a dictionary to keep count of each string\n",
    "count = {}\n",
    "for s in strings:\n",
    "    if s not in count:\n",
    "        count[s] = 1\n",
    "        print(count)\n",
    "    else:\n",
    "        count[s] += 1\n",
    "        print(count)\n",
    "\n",
    "# print the count of each string\n",
    "print(len(count), \"different strings\")\n",
    "for key in count:\n",
    "    print(count[key], end=\" \")\n"
   ]
  },
  {
   "cell_type": "code",
   "execution_count": null,
   "metadata": {},
   "outputs": [
    {
     "name": "stdout",
     "output_type": "stream",
     "text": [
      "1.sel 2. del1\n",
      "p\n",
      "r\n",
      "i\n",
      "o\n",
      "select onep\n",
      "['p']\n",
      "['r', 'i', 'o']\n",
      "1.sel 2. del1\n",
      "r\n",
      "i\n",
      "o\n",
      "select oner\n",
      "['r']\n",
      "['i', 'o']\n",
      "1.sel 2. del2\n",
      "i\n",
      "o\n",
      "del onep\n",
      "['i', 'o', 'p']\n"
     ]
    }
   ],
   "source": [
    "arr = [\"p\",\"r\",\"i\",\"o\"]\n",
    "l = []\n",
    "l1=[]\n",
    "while(\"true\"):\n",
    "    sel = int(input(\"1.sel 2. del\"))\n",
    "    if sel == 1:\n",
    "        for i in arr:\n",
    "            print(i)\n",
    "        a = input(\"select one\")\n",
    "        if a!=\"\":\n",
    "            if a == \"p\" or \"r\" or \"i\":\n",
    "                b=[a]\n",
    "                l1.append(a)\n",
    "                arr.remove(a)\n",
    "                print(b)\n",
    "#             if a == \"r\":\n",
    "#                 c=[a]\n",
    "#                 l1.append(a)\n",
    "#                 arr.remove(a)\n",
    "#                 print(c)\n",
    "#             if a == \"i\":\n",
    "#                 d = [a]\n",
    "#                 l.append(a)\n",
    "#                 arr.remove(a)\n",
    "#                 print(d)\n",
    "            if a == \"o\":\n",
    "                l += [a]\n",
    "                l.append(a)\n",
    "                for j in l:\n",
    "                    print(j)\n",
    "            print(arr)\n",
    "    if sel == 2:\n",
    "        for i in arr:\n",
    "            print(i)\n",
    "        a = input(\"del one\")\n",
    "        if a == \"p\" or \"r\" or \"i\":\n",
    "            arr.append(a)\n",
    "        else:\n",
    "            l.remove(a)\n",
    "        print(arr)\n",
    "        \n"
   ]
  },
  {
   "cell_type": "code",
   "execution_count": 13,
   "metadata": {},
   "outputs": [
    {
     "name": "stdout",
     "output_type": "stream",
     "text": [
      "enterisis chennais\n",
      "['isis', 'chennais']\n",
      "i\n",
      "is\n",
      "s\n",
      "si\n",
      "i\n",
      "is\n"
     ]
    }
   ],
   "source": [
    "s = input(\"enter\")\n",
    "l = s.split(\" \")\n",
    "print(l)\n",
    "s1 = \"is\"\n",
    "l3=[]\n",
    "for i in l:\n",
    "#     print(i)\n",
    "    a=0\n",
    "    b=len(s1)\n",
    "    l2=[]\n",
    "    s4=0\n",
    "    s5=\"\"\n",
    "    c=0\n",
    "    while(b<=len(i)):\n",
    "        s3=\"\"\n",
    "        c+=1\n",
    "        for j in range(a,b):\n",
    "            s3+=i[j]\n",
    "            print(s3)\n",
    "        if c%2!=0:\n",
    "            if s5 == s3:\n",
    "                s4+=1\n",
    "\n",
    "            s5=s3\n",
    "#             print(s5,s3)\n",
    "        a+=1\n",
    "        b+=1\n",
    "    if s4>0:\n",
    "        l.remove(i)\n",
    "#         for k in l:\n",
    "#             if k == i:\n",
    "#                 l.remove(k)\n",
    "        \n",
    "print(l)        "
   ]
  },
  {
   "cell_type": "code",
   "execution_count": 10,
   "metadata": {},
   "outputs": [
    {
     "name": "stdout",
     "output_type": "stream",
     "text": [
      "chennai \n",
      "['chennai', ' ', '']\n"
     ]
    }
   ],
   "source": [
    "s = \"chennaiis is\"\n",
    "s1= s.replace(\"is\",\"\")\n",
    "print(s1)\n",
    "\n",
    "s2 = \"chennaiis is\"\n",
    "l=s2.split(\"is\")\n",
    "print(l)"
   ]
  },
  {
   "cell_type": "code",
   "execution_count": 104,
   "metadata": {},
   "outputs": [
    {
     "name": "stdout",
     "output_type": "stream",
     "text": [
      "joel\n",
      "joel\n"
     ]
    }
   ],
   "source": [
    "l=[\"joel\",\"joel\"]\n",
    "for i in l:\n",
    "    print(i)"
   ]
  },
  {
   "cell_type": "code",
   "execution_count": 8,
   "metadata": {},
   "outputs": [
    {
     "name": "stdout",
     "output_type": "stream",
     "text": [
      "enterisisis isisis isisis isis isisisisisis\n",
      "['isisis', 'isisis', 'isisis', 'isis', 'isisisisisis']\n",
      "['isisis', 'isisis', 'isisis', 'isis', 'isisisisisis']\n",
      "['isisis', 'isis']\n",
      "['isis']\n"
     ]
    }
   ],
   "source": [
    "def rem(l,s1):\n",
    "    for i in l:\n",
    "        if i == s1:\n",
    "            l.remove(i)\n",
    "    print(l)\n",
    "    removeis(l,s1)\n",
    "\n",
    "\n",
    "\n",
    "def removeis(l,s1):\n",
    "    for i in l:\n",
    "#     print(i)\n",
    "        a=0\n",
    "        b=len(s1)\n",
    "        l2=[]\n",
    "        s4=0\n",
    "        s5=\"\"\n",
    "        c=0\n",
    "        while(b<=len(i)):\n",
    "            s3=\"\"\n",
    "            c+=1\n",
    "            for j in range(a,b):\n",
    "                s3+=i[j]\n",
    "            if c%2!=0:\n",
    "                if s5 == s3:\n",
    "                    s4+=1\n",
    "\n",
    "                s5=s3\n",
    "    #             print(s5,s3)\n",
    "            a+=1\n",
    "            b+=1\n",
    "        if s4>0:\n",
    "            l.remove(i)\n",
    "    #         for k in l:\n",
    "    #             if k == i:\n",
    "    #                 l.remove(k)\n",
    "    print(l)\n",
    "\n",
    "s = input(\"enter\")\n",
    "l = s.split(\" \")\n",
    "print(l)\n",
    "s1 = \"is\"\n",
    "rem(l,s1)\n",
    "removeis(l,s1)\n",
    "# print(H)"
   ]
  },
  {
   "cell_type": "code",
   "execution_count": 1,
   "metadata": {},
   "outputs": [
    {
     "name": "stdout",
     "output_type": "stream",
     "text": [
      "enterchennais isis isis isisis\n",
      "['chennais', 'isis', 'isis', 'isisis']\n",
      "c\n",
      "ch\n",
      "e\n",
      "en\n",
      "n\n",
      "na\n",
      "i\n",
      "is\n",
      "i\n",
      "is\n",
      "i\n",
      "is\n",
      "i\n",
      "is\n",
      "i\n",
      "is\n",
      "i\n",
      "is\n",
      "['chennais', 'isis']\n"
     ]
    }
   ],
   "source": [
    "s = input(\"enter\")\n",
    "l = s.split(\" \")\n",
    "print(l)\n",
    "s1 = \"is\"\n",
    "l3=[]\n",
    "for i in l:\n",
    "#     print(i)\n",
    "    a=0\n",
    "    b=len(s1)\n",
    "    l2=[]\n",
    "    s4=0\n",
    "    s5=\"\"\n",
    "    c=0\n",
    "    while(b<=len(i)):\n",
    "        s3=\"\"\n",
    "        c+=1\n",
    "        for j in range(a,b):\n",
    "            s3+=i[j]\n",
    "            print(s3)\n",
    "        \n",
    "        if s5 == s3:\n",
    "            s4+=1\n",
    "\n",
    "        s5=s3\n",
    "#             print(s5,s3)\n",
    "        a+=2\n",
    "        b+=2\n",
    "    if s4>0:\n",
    "        l.remove(i)\n",
    "#         for k in l:\n",
    "#             if k == i:\n",
    "#                 l.remove(k)\n",
    "        \n",
    "print(l)    "
   ]
  },
  {
   "cell_type": "code",
   "execution_count": 3,
   "metadata": {},
   "outputs": [
    {
     "name": "stdout",
     "output_type": "stream",
     "text": [
      "\"We all are 1.\"\n"
     ]
    }
   ],
   "source": [
    "a=1\n",
    "print('\"We all are {}.\"'.format(a))"
   ]
  },
  {
   "cell_type": "code",
   "execution_count": 10,
   "metadata": {},
   "outputs": [
    {
     "ename": "NameError",
     "evalue": "name 'dec' is not defined",
     "output_type": "error",
     "traceback": [
      "\u001b[1;31m---------------------------------------------------------------------------\u001b[0m",
      "\u001b[1;31mNameError\u001b[0m                                 Traceback (most recent call last)",
      "\u001b[1;32m<ipython-input-10-de803489bb7a>\u001b[0m in \u001b[0;36m<module>\u001b[1;34m\u001b[0m\n\u001b[1;32m----> 1\u001b[1;33m \u001b[0mdec\u001b[0m\u001b[1;33m(\u001b[0m\u001b[0mfffffffe\u001b[0m\u001b[1;33m)\u001b[0m\u001b[1;33m\u001b[0m\u001b[1;33m\u001b[0m\u001b[0m\n\u001b[0m",
      "\u001b[1;31mNameError\u001b[0m: name 'dec' is not defined"
     ]
    }
   ],
   "source": [
    "(fffffffe)"
   ]
  },
  {
   "cell_type": "code",
   "execution_count": 14,
   "metadata": {},
   "outputs": [
    {
     "name": "stdout",
     "output_type": "stream",
     "text": [
      "3\n"
     ]
    }
   ],
   "source": [
    "d=2\n",
    "n=5\n",
    "d=n-d\n",
    "d=d%n\n",
    "print(d)"
   ]
  },
  {
   "cell_type": "code",
   "execution_count": 5,
   "metadata": {},
   "outputs": [
    {
     "name": "stdout",
     "output_type": "stream",
     "text": [
      "1\n"
     ]
    }
   ],
   "source": [
    "\n",
    "\n",
    "def gcd(a,b):\n",
    "    if b==0:\n",
    "        return a\n",
    "    else:\n",
    "        return gcd(b,a%b)\n",
    "print(gcd(2,7))"
   ]
  },
  {
   "cell_type": "code",
   "execution_count": 1,
   "metadata": {},
   "outputs": [
    {
     "name": "stdout",
     "output_type": "stream",
     "text": [
      "[5, 6, 7, 1, 2, 3, 4]\n"
     ]
    }
   ],
   "source": [
    "arr = [1,2,3,4,5,6,7]\n",
    "n=len(arr)\n",
    "d=2\n",
    "for i in range(d):\n",
    "    temp = arr[i]\n",
    "    j=i\n",
    "    while('true'):\n",
    "        k=j+d\n",
    "#         print(k)\n",
    "        if k>=n:\n",
    "            k=k-n\n",
    "        if k == i:\n",
    "            break\n",
    "        arr[j]=arr[k]\n",
    "        j=k\n",
    "    arr[j]=temp\n",
    "print(arr)\n",
    "    "
   ]
  },
  {
   "cell_type": "code",
   "execution_count": 15,
   "metadata": {},
   "outputs": [
    {
     "data": {
      "text/plain": [
       "98"
      ]
     },
     "execution_count": 15,
     "metadata": {},
     "output_type": "execute_result"
    }
   ],
   "source": [
    "ord(\"b\")"
   ]
  },
  {
   "cell_type": "code",
   "execution_count": 11,
   "metadata": {},
   "outputs": [
    {
     "name": "stdout",
     "output_type": "stream",
     "text": [
      "0 : 0b0\n",
      "1 : 0b1\n",
      "2 : 0b10\n",
      "3 : 0b11\n",
      "4 : 0b100\n",
      "5 : 0b101\n",
      "6 : 0b110\n",
      "7 : 0b111\n",
      "8 : 0b1000\n",
      "9 : 0b1001\n",
      "10 : 0b1010\n",
      "11 : 0b1011\n",
      "12 : 0b1100\n",
      "13 : 0b1101\n",
      "14 : 0b1110\n",
      "15 : 0b1111\n",
      "16 : 0b10000\n",
      "17 : 0b10001\n",
      "18 : 0b10010\n",
      "19 : 0b10011\n"
     ]
    }
   ],
   "source": [
    "\n",
    "for i in range(20):\n",
    "    print(i,\":\", bin(i))"
   ]
  },
  {
   "cell_type": "code",
   "execution_count": 16,
   "metadata": {},
   "outputs": [
    {
     "name": "stdout",
     "output_type": "stream",
     "text": [
      "0b1100001 0b1100010\n"
     ]
    }
   ],
   "source": [
    "print(bin(97),bin(98))"
   ]
  },
  {
   "cell_type": "code",
   "execution_count": 13,
   "metadata": {},
   "outputs": [
    {
     "name": "stdout",
     "output_type": "stream",
     "text": [
      "3\n",
      "3\n",
      "2 1\n"
     ]
    }
   ],
   "source": [
    "a=1\n",
    "b=2\n",
    "a=a^b\n",
    "print(a)\n",
    "b=a^b\n",
    "print(a)\n",
    "a=a^b\n",
    "print(a,b)\n"
   ]
  },
  {
   "cell_type": "code",
   "execution_count": null,
   "metadata": {},
   "outputs": [],
   "source": []
  }
 ],
 "metadata": {
  "kernelspec": {
   "display_name": "Python 3",
   "language": "python",
   "name": "python3"
  },
  "language_info": {
   "codemirror_mode": {
    "name": "ipython",
    "version": 3
   },
   "file_extension": ".py",
   "mimetype": "text/x-python",
   "name": "python",
   "nbconvert_exporter": "python",
   "pygments_lexer": "ipython3",
   "version": "3.8.5"
  }
 },
 "nbformat": 4,
 "nbformat_minor": 4
}
