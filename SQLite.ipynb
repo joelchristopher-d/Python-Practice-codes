{
 "cells": [
  {
   "cell_type": "code",
   "execution_count": 1,
   "metadata": {},
   "outputs": [
    {
     "name": "stdout",
     "output_type": "stream",
     "text": [
      "db working\n"
     ]
    }
   ],
   "source": [
    "import sqlite3\n",
    "conn=sqlite3.connect(\"D:\\\\py\\\\db\\\\football.db\")\n",
    "cursor=conn.cursor()\n",
    "cursor.close()\n",
    "print('db working')"
   ]
  },
  {
   "cell_type": "code",
   "execution_count": 5,
   "metadata": {},
   "outputs": [],
   "source": [
    "conn=sqlite3.connect(\"D:\\\\py\\\\db\\\\football.db\")\n",
    "cursor=conn.cursor()\n",
    "cursor.execute('''create table playerdetails\n",
    "                (jerseynum int primary key not null,\n",
    "                name text not null,\n",
    "                age int not null,\n",
    "                country char(15) not null,\n",
    "                totalGA int not null);''')\n",
    "cursor.close()"
   ]
  },
  {
   "cell_type": "code",
   "execution_count": 10,
   "metadata": {},
   "outputs": [],
   "source": [
    "import sqlite3\n",
    "conn=sqlite3.connect(\"D:\\\\py\\\\db\\\\football.db\")\n",
    "cursor=conn.cursor()\n",
    "cursor.execute(\"INSERT INTO playerdetails VALUES(10, 'messi', 36, 'argentina', 1036)\");\n",
    "cursor.execute(\"INSERT INTO playerdetails VALUES(7, 'ronaldo', 38, 'portugal', 900)\");\n",
    "cursor.execute(\"INSERT INTO playerdetails VALUES(30, 'neymar', 30, 'brazil', 600)\");\n",
    "cursor.execute(\"INSERT INTO playerdetails VALUES(17, 'mbappe', 23, 'france', 200)\");\n",
    "conn.commit()\n",
    "cursor.close()"
   ]
  },
  {
   "cell_type": "code",
   "execution_count": 12,
   "metadata": {},
   "outputs": [
    {
     "ename": "OperationalError",
     "evalue": "no such table: stats",
     "output_type": "error",
     "traceback": [
      "\u001b[1;31m---------------------------------------------------------------------------\u001b[0m",
      "\u001b[1;31mOperationalError\u001b[0m                          Traceback (most recent call last)",
      "\u001b[1;32m<ipython-input-12-b08336283213>\u001b[0m in \u001b[0;36m<module>\u001b[1;34m\u001b[0m\n\u001b[0;32m      2\u001b[0m \u001b[0mconn\u001b[0m\u001b[1;33m=\u001b[0m\u001b[0msqlite3\u001b[0m\u001b[1;33m.\u001b[0m\u001b[0mconnect\u001b[0m\u001b[1;33m(\u001b[0m\u001b[1;34m\"D:\\\\py\\\\db\\\\football.db\"\u001b[0m\u001b[1;33m)\u001b[0m\u001b[1;33m\u001b[0m\u001b[1;33m\u001b[0m\u001b[0m\n\u001b[0;32m      3\u001b[0m \u001b[0mcursor\u001b[0m\u001b[1;33m=\u001b[0m\u001b[0mconn\u001b[0m\u001b[1;33m.\u001b[0m\u001b[0mcursor\u001b[0m\u001b[1;33m(\u001b[0m\u001b[1;33m)\u001b[0m\u001b[1;33m\u001b[0m\u001b[1;33m\u001b[0m\u001b[0m\n\u001b[1;32m----> 4\u001b[1;33m \u001b[0mcursor\u001b[0m\u001b[1;33m.\u001b[0m\u001b[0mexecute\u001b[0m\u001b[1;33m(\u001b[0m\u001b[1;34m\"drop table stats\"\u001b[0m\u001b[1;33m)\u001b[0m\u001b[1;33m\u001b[0m\u001b[1;33m\u001b[0m\u001b[0m\n\u001b[0m",
      "\u001b[1;31mOperationalError\u001b[0m: no such table: stats"
     ]
    }
   ],
   "source": [
    "import sqlite3\n",
    "conn=sqlite3.connect(\"D:\\\\py\\\\db\\\\football.db\")\n",
    "cursor=conn.cursor()\n",
    "cursor.execute(\"drop table stats\")"
   ]
  },
  {
   "cell_type": "code",
   "execution_count": 14,
   "metadata": {},
   "outputs": [
    {
     "name": "stdout",
     "output_type": "stream",
     "text": [
      "jm: 10 \n",
      " name: messi \n",
      " age: 36 \n",
      " country: argentina \n",
      " totalGA: 1036 \n",
      "\n",
      "jm: 7 \n",
      " name: ronaldo \n",
      " age: 38 \n",
      " country: portugal \n",
      " totalGA: 900 \n",
      "\n",
      "jm: 30 \n",
      " name: neymar \n",
      " age: 30 \n",
      " country: brazil \n",
      " totalGA: 600 \n",
      "\n",
      "jm: 17 \n",
      " name: mbappe \n",
      " age: 23 \n",
      " country: france \n",
      " totalGA: 200 \n",
      "\n"
     ]
    }
   ],
   "source": [
    "import sqlite3\n",
    "conn=sqlite3.connect(\"D:\\\\py\\\\db\\\\football.db\")\n",
    "cursor=conn.cursor()\n",
    "for i in cursor.execute(\"select jerseynum, name, age, country, totalGA from playerdetails\"):\n",
    "    print(\"jm:\",i[0],\"\\n\",\n",
    "         \"name:\",i[1],\"\\n\",\n",
    "         \"age:\",i[2],\"\\n\",\n",
    "         \"country:\",i[3],\"\\n\",\n",
    "         \"totalGA:\",i[4],\"\\n\")\n",
    "conn.commit()\n",
    "conn.close()    "
   ]
  },
  {
   "cell_type": "code",
   "execution_count": 21,
   "metadata": {},
   "outputs": [
    {
     "ename": "OperationalError",
     "evalue": "table indianteam already exists",
     "output_type": "error",
     "traceback": [
      "\u001b[1;31m---------------------------------------------------------------------------\u001b[0m",
      "\u001b[1;31mOperationalError\u001b[0m                          Traceback (most recent call last)",
      "\u001b[1;32m<ipython-input-21-57ca2e6127b1>\u001b[0m in \u001b[0;36m<module>\u001b[1;34m\u001b[0m\n\u001b[0;32m      2\u001b[0m \u001b[0mconn\u001b[0m\u001b[1;33m=\u001b[0m\u001b[0msqlite3\u001b[0m\u001b[1;33m.\u001b[0m\u001b[0mconnect\u001b[0m\u001b[1;33m(\u001b[0m\u001b[1;34m\"D:\\\\py\\\\db\\\\cricket.db\"\u001b[0m\u001b[1;33m)\u001b[0m\u001b[1;33m\u001b[0m\u001b[1;33m\u001b[0m\u001b[0m\n\u001b[0;32m      3\u001b[0m \u001b[0mcursor\u001b[0m\u001b[1;33m=\u001b[0m\u001b[0mconn\u001b[0m\u001b[1;33m.\u001b[0m\u001b[0mcursor\u001b[0m\u001b[1;33m(\u001b[0m\u001b[1;33m)\u001b[0m\u001b[1;33m\u001b[0m\u001b[1;33m\u001b[0m\u001b[0m\n\u001b[1;32m----> 4\u001b[1;33m cursor.executescript('''\n\u001b[0m\u001b[0;32m      5\u001b[0m create table indianteam(\n\u001b[0;32m      6\u001b[0m \u001b[0mjm\u001b[0m \u001b[0minteger\u001b[0m \u001b[1;32mnot\u001b[0m \u001b[0mnull\u001b[0m\u001b[1;33m,\u001b[0m\u001b[1;33m\u001b[0m\u001b[1;33m\u001b[0m\u001b[0m\n",
      "\u001b[1;31mOperationalError\u001b[0m: table indianteam already exists"
     ]
    }
   ],
   "source": [
    "import sqlite3\n",
    "conn=sqlite3.connect(\"D:\\\\py\\\\db\\\\cricket.db\")\n",
    "cursor=conn.cursor()\n",
    "cursor.executescript('''\n",
    "create table indianteam(\n",
    "jm integer not null,\n",
    "playername text,\n",
    "runs int,\n",
    "primary key(jm)\n",
    ");\n",
    "\n",
    "create table clubdetails(\n",
    "name text,\n",
    "age integer,\n",
    "club char,\n",
    "jm integer,\n",
    "foreign key(jm) references indianteam(jm)\n",
    "primary key(name));\n",
    "\n",
    "\n",
    "insert into indianteam(jm,playername,runs)values\n",
    "(18,\"kohli\",100),\n",
    "(45,\"rohit\",99),\n",
    "(17,\"pant\",0),\n",
    "(99,\"bumrah\",0);\n",
    "\n",
    "\n",
    "insert into clubdetails(name,age,club,jm)values\n",
    "(\"rohit\",35,\"mi\",45),\n",
    "(\"bumrah\",32,\"mi\",99),\n",
    "(\"kohli\",35,\"rcb\",18),\n",
    "(\"pant\",25,\"dc\",17);\n",
    "''')\n",
    "conn.commit()\n",
    "conn.close()"
   ]
  },
  {
   "cell_type": "code",
   "execution_count": 22,
   "metadata": {},
   "outputs": [],
   "source": [
    "import sqlite3\n",
    "conn=sqlite3.connect(\"D:\\\\py\\\\db\\\\cricket.db\")\n",
    "cursor=conn.cursor()\n",
    "cursor.executescript('''\n",
    "\n",
    "\n",
    "\n",
    "insert into indianteam(jm,playername,runs)values\n",
    "(18,\"kohli\",100),\n",
    "(45,\"rohit\",99),\n",
    "(17,\"pant\",0),\n",
    "(99,\"bumrah\",0);\n",
    "\n",
    "\n",
    "insert into clubdetails(name,age,club,jm)values\n",
    "(\"rohit\",35,\"mi\",45),\n",
    "(\"bumrah\",32,\"mi\",99),\n",
    "(\"kohli\",35,\"rcb\",18),\n",
    "(\"pant\",25,\"dc\",17);\n",
    "''')\n",
    "conn.commit()\n",
    "conn.close()"
   ]
  },
  {
   "cell_type": "code",
   "execution_count": 26,
   "metadata": {},
   "outputs": [
    {
     "name": "stdout",
     "output_type": "stream",
     "text": [
      "messi (10, 'messi', 36, 'argentina', 1036)\n",
      "ronaldo (7, 'ronaldo', 38, 'portugal', 900)\n",
      "neymar (30, 'neymar', 30, 'brazil', 600)\n",
      "mbappe (17, 'mbappe', 23, 'france', 200)\n"
     ]
    }
   ],
   "source": [
    "import sqlite3\n",
    "conn=sqlite3.connect(\"D:\\\\py\\\\db\\\\football.db\")\n",
    "cursor=conn.cursor()\n",
    "cursor.execute(\"SELECT * FROM playerdetails\")\n",
    "items=cursor.fetchall()\n",
    "for i in items:\n",
    "    print(i[1],i)\n",
    "conn.commit()\n",
    "conn.close()"
   ]
  },
  {
   "cell_type": "code",
   "execution_count": null,
   "metadata": {},
   "outputs": [],
   "source": [
    "import csv\n",
    "import sqlite3\n",
    "fin=open('F:\\example.csv','r')\n",
    "dr=csv.DictReader(fin)\n",
    "student_info=[(i['NAME'],i['DEGREE'])for i in dr]\n",
    "print(student_info)\n",
    "sqliteconnection=sqlite3.connect('F:\\\\aks.sqlite')\n",
    "cursor=sqliteconnection.cursor()\n",
    "cursor.execute('create table example2(name varchar(10),degree char);')\n",
    "cursor.executemany(\"insert into example2(name,degree)VALUES(?,?);\",student_info)\n",
    "cursor.execute('SELECT * from example2;')\n",
    "result=cursor.fetchall()\n",
    "print(result)\n",
    "sqliteconnection.commit()\n",
    "cursor.close()"
   ]
  },
  {
   "cell_type": "code",
   "execution_count": 5,
   "metadata": {},
   "outputs": [
    {
     "ename": "OperationalError",
     "evalue": "no such table: indianteam",
     "output_type": "error",
     "traceback": [
      "\u001b[1;31m---------------------------------------------------------------------------\u001b[0m",
      "\u001b[1;31mOperationalError\u001b[0m                          Traceback (most recent call last)",
      "\u001b[1;32m<ipython-input-5-38f271b1d86a>\u001b[0m in \u001b[0;36m<module>\u001b[1;34m\u001b[0m\n\u001b[0;32m      5\u001b[0m \u001b[0minner\u001b[0m \u001b[0mjoin\u001b[0m \u001b[0mclubdetails\u001b[0m \u001b[0mon\u001b[0m\u001b[1;33m\u001b[0m\u001b[1;33m\u001b[0m\u001b[0m\n\u001b[0;32m      6\u001b[0m indianteam.jm=clubdetails.jm;'''\n\u001b[1;32m----> 7\u001b[1;33m \u001b[0mcursor\u001b[0m\u001b[1;33m.\u001b[0m\u001b[0mexecute\u001b[0m\u001b[1;33m(\u001b[0m\u001b[0msql\u001b[0m\u001b[1;33m)\u001b[0m\u001b[1;33m\u001b[0m\u001b[1;33m\u001b[0m\u001b[0m\n\u001b[0m\u001b[0;32m      8\u001b[0m \u001b[1;33m\u001b[0m\u001b[0m\n\u001b[0;32m      9\u001b[0m \u001b[0mresult\u001b[0m \u001b[1;33m=\u001b[0m \u001b[0mcursor\u001b[0m\u001b[1;33m.\u001b[0m\u001b[0mfetchall\u001b[0m\u001b[1;33m(\u001b[0m\u001b[1;33m)\u001b[0m\u001b[1;33m\u001b[0m\u001b[1;33m\u001b[0m\u001b[0m\n",
      "\u001b[1;31mOperationalError\u001b[0m: no such table: indianteam"
     ]
    }
   ],
   "source": [
    "import sqlite3\n",
    "conn=sqlite3.connect(\"D:\\\\py\\\\db\\\\football.db\")\n",
    "cursor=conn.cursor()\n",
    "sql='''select * from indianteam \n",
    "inner join clubdetails on\n",
    "indianteam.jm=clubdetails.jm;''' \n",
    "cursor.execute(sql)\n",
    "\n",
    "result = cursor.fetchall() \n",
    "for row in result:\n",
    "    print(row)\n",
    "conn.close()"
   ]
  },
  {
   "cell_type": "code",
   "execution_count": 2,
   "metadata": {},
   "outputs": [
    {
     "name": "stdout",
     "output_type": "stream",
     "text": [
      "I got decorated\n",
      "I am ordinary\n"
     ]
    }
   ],
   "source": [
    "def make_pretty(func):\n",
    "    def inner():\n",
    "        print(\"I got decorated\")\n",
    "        func()\n",
    "    return inner()\n",
    "\n",
    "def ordinary():\n",
    "    print(\"I am ordinary\")\n",
    "make_pretty(ordinary)"
   ]
  },
  {
   "cell_type": "code",
   "execution_count": null,
   "metadata": {},
   "outputs": [],
   "source": []
  }
 ],
 "metadata": {
  "kernelspec": {
   "display_name": "Python 3",
   "language": "python",
   "name": "python3"
  },
  "language_info": {
   "codemirror_mode": {
    "name": "ipython",
    "version": 3
   },
   "file_extension": ".py",
   "mimetype": "text/x-python",
   "name": "python",
   "nbconvert_exporter": "python",
   "pygments_lexer": "ipython3",
   "version": "3.8.5"
  }
 },
 "nbformat": 4,
 "nbformat_minor": 4
}
