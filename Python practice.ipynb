{
 "cells": [
  {
   "cell_type": "code",
   "execution_count": 25,
   "metadata": {},
   "outputs": [
    {
     "name": "stdout",
     "output_type": "stream",
     "text": [
      "1111222334[5, 4, 3, 2, 1]\n"
     ]
    }
   ],
   "source": [
    "l=[1,2,3,4,5]\n",
    "for i in range(len(l)):\n",
    "#     print(l[i])\n",
    "    for j in range(len(l)-1-i):\n",
    "        print(l[j],end=\"\")\n",
    "        if l[j]<l[j+1]:\n",
    "            l[j],l[j+1]=l[j+1],l[j]\n",
    "#     break\n",
    "print(l)"
   ]
  },
  {
   "cell_type": "code",
   "execution_count": 1,
   "metadata": {},
   "outputs": [
    {
     "name": "stdout",
     "output_type": "stream",
     "text": [
      "1\n",
      "11113\n",
      "22225\n",
      "33322\n",
      "4432"
     ]
    }
   ],
   "source": [
    "\n",
    "l=[1,2,3,4,5]\n",
    "for i in range(len(l)-1):\n",
    "    print(l[i])\n",
    "    for j in range(len(l)-1):\n",
    "        print(l[j],end=\"\")\n",
    "        if l[j]<l[j+1]:\n",
    "            l[j],l[j+1]=l[j+1],l[j]\n",
    "#     break\n",
    "# print(l)"
   ]
  },
  {
   "cell_type": "code",
   "execution_count": 12,
   "metadata": {},
   "outputs": [
    {
     "name": "stdout",
     "output_type": "stream",
     "text": [
      "0\n",
      "12341\n",
      "232\n",
      "3\n",
      "4\n",
      "[1, 2, 3, 4, 5]\n"
     ]
    }
   ],
   "source": [
    "#selection sort\n",
    "l = [ 5,4,3,2,1]\n",
    "for s in range(len(l)):\n",
    "    print(s)\n",
    "    mini= s\n",
    "    for i in range(s + 1, len(l)):\n",
    "        if l[i] < l[mini]:\n",
    "            print(i,end=\"\")\n",
    "            mini = i\n",
    "    (l[s], l[mini]) = (l[mini], l[s])\n",
    "print(l)\n"
   ]
  },
  {
   "cell_type": "code",
   "execution_count": 2,
   "metadata": {},
   "outputs": [
    {
     "name": "stdout",
     "output_type": "stream",
     "text": [
      "rr\n",
      "pp\n",
      "qq\n"
     ]
    }
   ],
   "source": [
    "for i in set('pqr'):\n",
    "    print(i*2)"
   ]
  },
  {
   "cell_type": "code",
   "execution_count": 4,
   "metadata": {},
   "outputs": [
    {
     "name": "stdout",
     "output_type": "stream",
     "text": [
      "[17, 12, 19, 16, 1]\n"
     ]
    }
   ],
   "source": [
    "import random\n",
    "print(random.sample(range(20),5))"
   ]
  },
  {
   "cell_type": "code",
   "execution_count": 5,
   "metadata": {},
   "outputs": [
    {
     "name": "stdout",
     "output_type": "stream",
     "text": [
      "<class 'list'>\n"
     ]
    }
   ],
   "source": [
    "x=['absol']\n",
    "print(type(x))"
   ]
  },
  {
   "cell_type": "code",
   "execution_count": 6,
   "metadata": {},
   "outputs": [
    {
     "name": "stdout",
     "output_type": "stream",
     "text": [
      "<class 'type'>\n"
     ]
    }
   ],
   "source": [
    "print(type(type(int)))"
   ]
  },
  {
   "cell_type": "code",
   "execution_count": 7,
   "metadata": {},
   "outputs": [
    {
     "name": "stdout",
     "output_type": "stream",
     "text": [
      "False\n"
     ]
    }
   ],
   "source": [
    "\n",
    "l1=(1,2,3,4)\n",
    "l2=(1,2,3,4)\n",
    "print(l1<l2)"
   ]
  },
  {
   "cell_type": "code",
   "execution_count": 9,
   "metadata": {},
   "outputs": [
    {
     "name": "stdout",
     "output_type": "stream",
     "text": [
      "4.5\n"
     ]
    }
   ],
   "source": [
    "print(9.0/2)"
   ]
  },
  {
   "cell_type": "code",
   "execution_count": 11,
   "metadata": {},
   "outputs": [
    {
     "name": "stdout",
     "output_type": "stream",
     "text": [
      "\"hello world\"\n"
     ]
    }
   ],
   "source": [
    "echo \"hello world\""
   ]
  },
  {
   "cell_type": "code",
   "execution_count": 11,
   "metadata": {},
   "outputs": [
    {
     "name": "stdout",
     "output_type": "stream",
     "text": [
      "None\n"
     ]
    }
   ],
   "source": [
    "import random\n",
    "x=[3,8,6,5,0]\n",
    "y=random.shuffle(x)\n",
    "print(y)"
   ]
  },
  {
   "cell_type": "code",
   "execution_count": 13,
   "metadata": {},
   "outputs": [
    {
     "name": "stdout",
     "output_type": "stream",
     "text": [
      "1\n",
      "3\n"
     ]
    }
   ],
   "source": [
    "t=(1,2,3,4)\n",
    "for i in range(0,len(t),2):\n",
    "    print(t[i])"
   ]
  },
  {
   "cell_type": "code",
   "execution_count": 10,
   "metadata": {},
   "outputs": [
    {
     "name": "stdout",
     "output_type": "stream",
     "text": [
      "1\n"
     ]
    }
   ],
   "source": [
    "def foo(total):\n",
    "#     total=0\n",
    "    return total+1\n",
    "# total=0\n",
    "print(foo(0))"
   ]
  },
  {
   "cell_type": "code",
   "execution_count": 7,
   "metadata": {},
   "outputs": [
    {
     "name": "stdout",
     "output_type": "stream",
     "text": [
      "apa\n",
      "apa\n"
     ]
    }
   ],
   "source": [
    "a=input()\n",
    "b=a[::-1]\n",
    "# print(type(a))\n",
    "# print(b)\n",
    "if b==a:\n",
    "    print(a)\n",
    "else:\n",
    "    print(\"abc\")"
   ]
  },
  {
   "cell_type": "code",
   "execution_count": 5,
   "metadata": {},
   "outputs": [
    {
     "name": "stdout",
     "output_type": "stream",
     "text": [
      "'b'\n"
     ]
    }
   ],
   "source": [
    "echo 'b'"
   ]
  },
  {
   "cell_type": "code",
   "execution_count": 16,
   "metadata": {},
   "outputs": [
    {
     "name": "stdout",
     "output_type": "stream",
     "text": [
      "I got decorated\n",
      "I am ordinary\n"
     ]
    }
   ],
   "source": [
    "def make_pretty(func):\n",
    "    def inner():\n",
    "        print(\"I got decorated\")\n",
    "        func()\n",
    "    return inner()\n",
    "\n",
    "@make_pretty\n",
    "def ordinary():\n",
    "    print(\"I am ordinary\")\n",
    "# ordinary=make_pretty(ordinary)\n",
    "# ordinary()\n"
   ]
  },
  {
   "cell_type": "code",
   "execution_count": 15,
   "metadata": {},
   "outputs": [
    {
     "name": "stdout",
     "output_type": "stream",
     "text": [
      "I got decorated\n",
      "I am ordinary\n"
     ]
    }
   ],
   "source": [
    "def make_pretty(func):\n",
    "    def inner():\n",
    "        print(\"I got decorated\")\n",
    "        func()\n",
    "    return inner()\n",
    "\n",
    "def ordinary():\n",
    "    print(\"I am ordinary\")\n",
    "pretty=make_pretty(ordinary)\n",
    "# ordinary()"
   ]
  },
  {
   "cell_type": "code",
   "execution_count": 1,
   "metadata": {},
   "outputs": [
    {
     "ename": "IndentationError",
     "evalue": "expected an indented block (<ipython-input-1-867c6f7928b2>, line 17)",
     "output_type": "error",
     "traceback": [
      "\u001b[1;36m  File \u001b[1;32m\"<ipython-input-1-867c6f7928b2>\"\u001b[1;36m, line \u001b[1;32m17\u001b[0m\n\u001b[1;33m    if __name__ == '__main__':\u001b[0m\n\u001b[1;37m    ^\u001b[0m\n\u001b[1;31mIndentationError\u001b[0m\u001b[1;31m:\u001b[0m expected an indented block\n"
     ]
    }
   ],
   "source": [
    "import math\n",
    "import os\n",
    "import random\n",
    "import re\n",
    "import sys\n",
    "\n",
    "#\n",
    "# Complete the 'diagonalDifference' function below.\n",
    "#\n",
    "# The function is expected to return an INTEGER.\n",
    "# The function accepts 2D_INTEGER_ARRAY arr as parameter.\n",
    "#\n",
    "\n",
    "def diagonalDifference(arr):\n",
    "    # Write your code here\n",
    "\n",
    "if __name__ == '__main__':\n",
    "    fptr = open(os.environ['OUTPUT_PATH'], 'w')\n",
    "\n",
    "    n = int(input().strip())\n",
    "\n",
    "    arr = []\n",
    "\n",
    "    for _ in range(n):\n",
    "        arr.append(list(map(int, input().rstrip().split())))\n",
    "\n",
    "    result = diagonalDifference(arr)\n",
    "\n",
    "    fptr.write(str(result) + '\\n')\n",
    "\n",
    "    fptr.close()\n"
   ]
  },
  {
   "cell_type": "code",
   "execution_count": 17,
   "metadata": {},
   "outputs": [
    {
     "name": "stdout",
     "output_type": "stream",
     "text": [
      "3\n",
      "1 2 3\n",
      "2 3 4\n",
      "5 6 7\n",
      "11\n",
      "11\n"
     ]
    }
   ],
   "source": [
    "n = int(input().strip())\n",
    "\n",
    "arr = []\n",
    "\n",
    "for _ in range(n):\n",
    "    arr.append(list(map(int, input().rstrip().split())))\n",
    "a=0\n",
    "b=0\n",
    "for i in range(n):\n",
    "    for j in range(n):\n",
    "#         print(arr[i][j],end=\"  \")\n",
    "#     print()\n",
    "        if i==j:\n",
    "            a+=arr[i][j]\n",
    "        if i+j==n-1:\n",
    "            b+=arr[i][j]\n",
    "print(a)\n",
    "print(b)\n",
    "            "
   ]
  },
  {
   "cell_type": "code",
   "execution_count": 39,
   "metadata": {},
   "outputs": [
    {
     "ename": "KeyboardInterrupt",
     "evalue": "Interrupted by user",
     "output_type": "error",
     "traceback": [
      "\u001b[1;31m---------------------------------------------------------------------------\u001b[0m",
      "\u001b[1;31mKeyboardInterrupt\u001b[0m                         Traceback (most recent call last)",
      "\u001b[1;32m<ipython-input-39-46e8f5496f90>\u001b[0m in \u001b[0;36m<module>\u001b[1;34m\u001b[0m\n\u001b[1;32m----> 1\u001b[1;33m \u001b[0mn\u001b[0m \u001b[1;33m=\u001b[0m \u001b[0mint\u001b[0m\u001b[1;33m(\u001b[0m\u001b[0minput\u001b[0m\u001b[1;33m(\u001b[0m\u001b[1;33m)\u001b[0m\u001b[1;33m.\u001b[0m\u001b[0mstrip\u001b[0m\u001b[1;33m(\u001b[0m\u001b[1;33m)\u001b[0m\u001b[1;33m)\u001b[0m\u001b[1;33m\u001b[0m\u001b[1;33m\u001b[0m\u001b[0m\n\u001b[0m\u001b[0;32m      2\u001b[0m \u001b[1;33m\u001b[0m\u001b[0m\n\u001b[0;32m      3\u001b[0m \u001b[0marr\u001b[0m \u001b[1;33m=\u001b[0m \u001b[0mlist\u001b[0m\u001b[1;33m(\u001b[0m\u001b[0mmap\u001b[0m\u001b[1;33m(\u001b[0m\u001b[0mint\u001b[0m\u001b[1;33m,\u001b[0m \u001b[0minput\u001b[0m\u001b[1;33m(\u001b[0m\u001b[1;33m)\u001b[0m\u001b[1;33m.\u001b[0m\u001b[0mrstrip\u001b[0m\u001b[1;33m(\u001b[0m\u001b[1;33m)\u001b[0m\u001b[1;33m.\u001b[0m\u001b[0msplit\u001b[0m\u001b[1;33m(\u001b[0m\u001b[1;33m)\u001b[0m\u001b[1;33m)\u001b[0m\u001b[1;33m)\u001b[0m\u001b[1;33m\u001b[0m\u001b[1;33m\u001b[0m\u001b[0m\n\u001b[0;32m      4\u001b[0m \u001b[1;32mfor\u001b[0m \u001b[0mi\u001b[0m \u001b[1;32min\u001b[0m\u001b[1;33m(\u001b[0m\u001b[0marr\u001b[0m\u001b[1;33m)\u001b[0m\u001b[1;33m:\u001b[0m\u001b[1;33m\u001b[0m\u001b[1;33m\u001b[0m\u001b[0m\n\u001b[0;32m      5\u001b[0m     \u001b[0mprint\u001b[0m\u001b[1;33m(\u001b[0m\u001b[1;34m\"{:.6f}\"\u001b[0m\u001b[1;33m.\u001b[0m\u001b[0mformat\u001b[0m\u001b[1;33m(\u001b[0m\u001b[0mi\u001b[0m\u001b[1;33m/\u001b[0m\u001b[0mn\u001b[0m\u001b[1;33m)\u001b[0m\u001b[1;33m)\u001b[0m\u001b[1;33m\u001b[0m\u001b[1;33m\u001b[0m\u001b[0m\n",
      "\u001b[1;32mD:\\anaconda\\lib\\site-packages\\ipykernel\\kernelbase.py\u001b[0m in \u001b[0;36mraw_input\u001b[1;34m(self, prompt)\u001b[0m\n\u001b[0;32m    858\u001b[0m                 \u001b[1;34m\"raw_input was called, but this frontend does not support input requests.\"\u001b[0m\u001b[1;33m\u001b[0m\u001b[1;33m\u001b[0m\u001b[0m\n\u001b[0;32m    859\u001b[0m             )\n\u001b[1;32m--> 860\u001b[1;33m         return self._input_request(str(prompt),\n\u001b[0m\u001b[0;32m    861\u001b[0m             \u001b[0mself\u001b[0m\u001b[1;33m.\u001b[0m\u001b[0m_parent_ident\u001b[0m\u001b[1;33m,\u001b[0m\u001b[1;33m\u001b[0m\u001b[1;33m\u001b[0m\u001b[0m\n\u001b[0;32m    862\u001b[0m             \u001b[0mself\u001b[0m\u001b[1;33m.\u001b[0m\u001b[0m_parent_header\u001b[0m\u001b[1;33m,\u001b[0m\u001b[1;33m\u001b[0m\u001b[1;33m\u001b[0m\u001b[0m\n",
      "\u001b[1;32mD:\\anaconda\\lib\\site-packages\\ipykernel\\kernelbase.py\u001b[0m in \u001b[0;36m_input_request\u001b[1;34m(self, prompt, ident, parent, password)\u001b[0m\n\u001b[0;32m    902\u001b[0m             \u001b[1;32mexcept\u001b[0m \u001b[0mKeyboardInterrupt\u001b[0m\u001b[1;33m:\u001b[0m\u001b[1;33m\u001b[0m\u001b[1;33m\u001b[0m\u001b[0m\n\u001b[0;32m    903\u001b[0m                 \u001b[1;31m# re-raise KeyboardInterrupt, to truncate traceback\u001b[0m\u001b[1;33m\u001b[0m\u001b[1;33m\u001b[0m\u001b[1;33m\u001b[0m\u001b[0m\n\u001b[1;32m--> 904\u001b[1;33m                 \u001b[1;32mraise\u001b[0m \u001b[0mKeyboardInterrupt\u001b[0m\u001b[1;33m(\u001b[0m\u001b[1;34m\"Interrupted by user\"\u001b[0m\u001b[1;33m)\u001b[0m \u001b[1;32mfrom\u001b[0m \u001b[1;32mNone\u001b[0m\u001b[1;33m\u001b[0m\u001b[1;33m\u001b[0m\u001b[0m\n\u001b[0m\u001b[0;32m    905\u001b[0m             \u001b[1;32mexcept\u001b[0m \u001b[0mException\u001b[0m \u001b[1;32mas\u001b[0m \u001b[0me\u001b[0m\u001b[1;33m:\u001b[0m\u001b[1;33m\u001b[0m\u001b[1;33m\u001b[0m\u001b[0m\n\u001b[0;32m    906\u001b[0m                 \u001b[0mself\u001b[0m\u001b[1;33m.\u001b[0m\u001b[0mlog\u001b[0m\u001b[1;33m.\u001b[0m\u001b[0mwarning\u001b[0m\u001b[1;33m(\u001b[0m\u001b[1;34m\"Invalid Message:\"\u001b[0m\u001b[1;33m,\u001b[0m \u001b[0mexc_info\u001b[0m\u001b[1;33m=\u001b[0m\u001b[1;32mTrue\u001b[0m\u001b[1;33m)\u001b[0m\u001b[1;33m\u001b[0m\u001b[1;33m\u001b[0m\u001b[0m\n",
      "\u001b[1;31mKeyboardInterrupt\u001b[0m: Interrupted by user"
     ]
    }
   ],
   "source": [
    "n = int(input().strip())\n",
    "\n",
    "arr = list(map(int, input().rstrip().split()))\n",
    "for i in(arr):\n",
    "    print(\"{:.6f}\".format(i/n))"
   ]
  },
  {
   "cell_type": "code",
   "execution_count": null,
   "metadata": {},
   "outputs": [],
   "source": [
    "## a= \"this is a string\"\n",
    "b=a.split(\" \")\n",
    "print(\"-\".join(b))\n",
    "# c=\"\"\n",
    "# for i in range(b):\n",
    "#     c+=b[i]\n",
    "#     print(i)"
   ]
  },
  {
   "cell_type": "code",
   "execution_count": 20,
   "metadata": {},
   "outputs": [
    {
     "name": "stdout",
     "output_type": "stream",
     "text": [
      "this-is-a-string\n"
     ]
    }
   ],
   "source": [
    "a= \"this is a string\"\n",
    "b=\"\"\n",
    "for i in a:\n",
    "    if i==\" \":\n",
    "        i=\"-\"\n",
    "    b+=i\n",
    "print(b)"
   ]
  },
  {
   "cell_type": "code",
   "execution_count": 30,
   "metadata": {},
   "outputs": [
    {
     "name": "stdout",
     "output_type": "stream",
     "text": [
      "0\n",
      "1\n",
      "2\n",
      "3\n"
     ]
    }
   ],
   "source": []
  },
  {
   "cell_type": "code",
   "execution_count": 18,
   "metadata": {},
   "outputs": [
    {
     "name": "stdout",
     "output_type": "stream",
     "text": [
      "2.50000000\n"
     ]
    }
   ],
   "source": [
    "float=5\n",
    "b=\"{:.8f}\".format(float/2)\n",
    "print(b)"
   ]
  },
  {
   "cell_type": "code",
   "execution_count": 79,
   "metadata": {},
   "outputs": [
    {
     "name": "stdout",
     "output_type": "stream",
     "text": [
      "[0, 2, 3, 4, 5]\n",
      "14\n",
      "[1, 0, 3, 4, 5]\n",
      "13\n",
      "[1, 2, 0, 4, 5]\n",
      "12\n",
      "[1, 2, 3, 0, 5]\n",
      "11\n",
      "[1, 2, 3, 4, 0]\n",
      "10\n"
     ]
    }
   ],
   "source": [
    "a=[1,2,3,4,5]\n",
    "for i in range(len(a)):\n",
    "    b=[1,2,3,4,5]\n",
    "    b[i]=0\n",
    "    print(b)\n",
    "    c=0\n",
    "    for j in b:\n",
    "        c+=j\n",
    "    print(c)\n",
    "        \n",
    "    "
   ]
  },
  {
   "cell_type": "code",
   "execution_count": 96,
   "metadata": {},
   "outputs": [
    {
     "name": "stdout",
     "output_type": "stream",
     "text": [
      "4\n"
     ]
    }
   ],
   "source": [
    "\n",
    "        \n",
    "            \n",
    "        \n",
    "    "
   ]
  },
  {
   "cell_type": "code",
   "execution_count": 93,
   "metadata": {},
   "outputs": [
    {
     "name": "stdout",
     "output_type": "stream",
     "text": [
      "[1, 2, 3, 4, 5]\n"
     ]
    }
   ],
   "source": [
    "a=[5,4,3,2,1]\n",
    "for i in range(len(a)-1):\n",
    "    for j in range(len(a)-i-1):\n",
    "        if a[j]>a[j+1]:\n",
    "            a[j],a[j+1]=a[j+1],a[j]\n",
    "print(a)"
   ]
  },
  {
   "cell_type": "code",
   "execution_count": 4,
   "metadata": {},
   "outputs": [
    {
     "name": "stdout",
     "output_type": "stream",
     "text": [
      "1.000000 0.500000 1.000000\n"
     ]
    }
   ],
   "source": [
    "a=[1,1,0,-1,-1]\n",
    "b=0\n",
    "c=0\n",
    "d=0\n",
    "for i in a:\n",
    "    if i>0:\n",
    "        b+=1\n",
    "    if i==0:\n",
    "        c+=1\n",
    "    if i<0:\n",
    "        d+=1\n",
    "print(\"{:.6f}\".format(b/2),\"{:.6f}\".format(c/2),\"{:.6f}\".format(d/2))"
   ]
  },
  {
   "cell_type": "code",
   "execution_count": 35,
   "metadata": {},
   "outputs": [
    {
     "name": "stdout",
     "output_type": "stream",
     "text": [
      "joel\n",
      "2 d\n",
      "['j', 'o', 'e', 'l']\n",
      "4\n"
     ]
    },
    {
     "ename": "TypeError",
     "evalue": "'>=' not supported between instances of 'str' and 'int'",
     "output_type": "error",
     "traceback": [
      "\u001b[1;31m---------------------------------------------------------------------------\u001b[0m",
      "\u001b[1;31mTypeError\u001b[0m                                 Traceback (most recent call last)",
      "\u001b[1;32m<ipython-input-35-c9c95f24f1ca>\u001b[0m in \u001b[0;36m<module>\u001b[1;34m\u001b[0m\n\u001b[0;32m      6\u001b[0m \u001b[0md\u001b[0m\u001b[1;33m=\u001b[0m\u001b[0mi\u001b[0m\u001b[1;33m\u001b[0m\u001b[1;33m\u001b[0m\u001b[0m\n\u001b[0;32m      7\u001b[0m \u001b[0ma\u001b[0m\u001b[1;33m=\u001b[0m\u001b[0mlen\u001b[0m\u001b[1;33m(\u001b[0m\u001b[0ml\u001b[0m\u001b[1;33m)\u001b[0m\u001b[1;33m\u001b[0m\u001b[1;33m\u001b[0m\u001b[0m\n\u001b[1;32m----> 8\u001b[1;33m \u001b[1;32mif\u001b[0m \u001b[0md\u001b[0m \u001b[1;33m>=\u001b[0m \u001b[0ma\u001b[0m\u001b[1;33m:\u001b[0m\u001b[1;33m\u001b[0m\u001b[1;33m\u001b[0m\u001b[0m\n\u001b[0m\u001b[0;32m      9\u001b[0m     \u001b[0ml\u001b[0m\u001b[1;33m[\u001b[0m\u001b[0mi\u001b[0m\u001b[1;33m]\u001b[0m\u001b[1;33m=\u001b[0m\u001b[0mc\u001b[0m\u001b[1;33m\u001b[0m\u001b[1;33m\u001b[0m\u001b[0m\n\u001b[0;32m     10\u001b[0m     \u001b[0mprint\u001b[0m\u001b[1;33m(\u001b[0m\u001b[0ml\u001b[0m\u001b[1;33m)\u001b[0m\u001b[1;33m\u001b[0m\u001b[1;33m\u001b[0m\u001b[0m\n",
      "\u001b[1;31mTypeError\u001b[0m: '>=' not supported between instances of 'str' and 'int'"
     ]
    }
   ],
   "source": [
    "s = input()\n",
    "i, c = input().split()\n",
    "l=list(s)\n",
    "print(l)\n",
    "print(len(l))\n",
    "d=i\n",
    "a=len(l)\n",
    "if d >= a:\n",
    "    l[i]=c\n",
    "    print(l)\n"
   ]
  },
  {
   "cell_type": "code",
   "execution_count": 26,
   "metadata": {},
   "outputs": [
    {
     "name": "stdout",
     "output_type": "stream",
     "text": [
      "josl\n"
     ]
    }
   ],
   "source": [
    "s=\"joel\"\n",
    "j=2\n",
    "c=\"s\"\n",
    "t=0\n",
    "l=\"\"\n",
    "for i in s:\n",
    "    if j==t:\n",
    "        i=c\n",
    "    t+=1\n",
    "    l+=i\n",
    "print(l)\n",
    "        "
   ]
  },
  {
   "cell_type": "code",
   "execution_count": 49,
   "metadata": {},
   "outputs": [
    {
     "name": "stdout",
     "output_type": "stream",
     "text": [
      "joe\n",
      "1 s\n",
      "<class 'str'>\n",
      "<class 'str'>\n",
      "jse\n"
     ]
    }
   ],
   "source": [
    "s = input()\n",
    "i, c = input().split()\n",
    "print(type(i))\n",
    "print(type(c))\n",
    "t=0\n",
    "l=\"\"\n",
    "# print(a,b)\n",
    "for j in s:\n",
    "    if t==int(i):\n",
    "        j=c\n",
    "    t+=1\n",
    "    l+=j\n",
    "print(l)\n",
    "        \n"
   ]
  },
  {
   "cell_type": "code",
   "execution_count": 43,
   "metadata": {},
   "outputs": [
    {
     "ename": "TypeError",
     "evalue": "'str' object does not support item assignment",
     "output_type": "error",
     "traceback": [
      "\u001b[1;31m---------------------------------------------------------------------------\u001b[0m",
      "\u001b[1;31mTypeError\u001b[0m                                 Traceback (most recent call last)",
      "\u001b[1;32m<ipython-input-43-e83a76c26984>\u001b[0m in \u001b[0;36m<module>\u001b[1;34m\u001b[0m\n\u001b[0;32m      1\u001b[0m \u001b[0ms\u001b[0m\u001b[1;33m=\u001b[0m\u001b[1;34m\"joel\"\u001b[0m\u001b[1;33m\u001b[0m\u001b[1;33m\u001b[0m\u001b[0m\n\u001b[1;32m----> 2\u001b[1;33m \u001b[0ms\u001b[0m\u001b[1;33m[\u001b[0m\u001b[1;36m0\u001b[0m\u001b[1;33m]\u001b[0m\u001b[1;33m=\u001b[0m\u001b[1;34m\"s\"\u001b[0m\u001b[1;33m\u001b[0m\u001b[1;33m\u001b[0m\u001b[0m\n\u001b[0m\u001b[0;32m      3\u001b[0m \u001b[0mprint\u001b[0m\u001b[1;33m(\u001b[0m\u001b[0ms\u001b[0m\u001b[1;33m)\u001b[0m\u001b[1;33m\u001b[0m\u001b[1;33m\u001b[0m\u001b[0m\n",
      "\u001b[1;31mTypeError\u001b[0m: 'str' object does not support item assignment"
     ]
    }
   ],
   "source": [
    "s=\"joel\"\n",
    "s[0]=\"s\"\n",
    "print(s)"
   ]
  },
  {
   "cell_type": "code",
   "execution_count": 80,
   "metadata": {
    "scrolled": true
   },
   "outputs": [
    {
     "name": "stdout",
     "output_type": "stream",
     "text": [
      "     #\n",
      "    ##\n",
      "   ###\n",
      "  ####\n",
      " #####\n",
      "######\n"
     ]
    }
   ],
   "source": [
    "n=6\n",
    "s=\" \"\n",
    "for i in range(n):\n",
    "    for j in range(n-1,i,-1):\n",
    "        print(f\"{s}\",end=\"\")\n",
    "#     print()\n",
    "    for k in range(i+1,0,-1):\n",
    "        print(\"#\",end=\"\")\n",
    "    print()\n",
    "    "
   ]
  },
  {
   "cell_type": "code",
   "execution_count": 6,
   "metadata": {},
   "outputs": [
    {
     "name": "stdout",
     "output_type": "stream",
     "text": [
      "1\n",
      "12\n",
      "123\n",
      "1234\n",
      "12345\n",
      "123456\n"
     ]
    }
   ],
   "source": [
    "for i in range(6):\n",
    "    for j in range(i+1):\n",
    "        print(j+1,end=\"\")\n",
    "    print()\n",
    "#     for k in range(i+1,0,-1):\n",
    "#         print(\"*\",end=\"\")\n",
    "#     print()"
   ]
  },
  {
   "cell_type": "code",
   "execution_count": 29,
   "metadata": {},
   "outputs": [
    {
     "name": "stdout",
     "output_type": "stream",
     "text": [
      "[14, 13, 12, 11, 10]\n",
      "14 10\n"
     ]
    }
   ],
   "source": [
    "a=[1,2,3,4,5]\n",
    "add=0\n",
    "l=[]\n",
    "for i in(a):\n",
    "#     print(i)\n",
    "    for j in (a):\n",
    "        if i!=j:\n",
    "            add+=j\n",
    "    l.append(add)\n",
    "    add=0\n",
    "print(l)\n",
    "for i in range(len(l)-1):\n",
    "    for j in range(len(l)-i-1):\n",
    "        if l[j]>l[j+1]:\n",
    "            l[j],l[j+1]=l[j+1],l[j]\n",
    "b=l[0]\n",
    "a=l[0]\n",
    "for i in l:\n",
    "    if b<i:\n",
    "        b=i\n",
    "for i in l:\n",
    "    if a>i:\n",
    "        a=i\n",
    "print(b,a)\n"
   ]
  },
  {
   "cell_type": "code",
   "execution_count": 24,
   "metadata": {},
   "outputs": [
    {
     "name": "stdout",
     "output_type": "stream",
     "text": [
      "5\n"
     ]
    }
   ],
   "source": [
    "a=[1,2,3,4,5]\n",
    "b=a[0]\n",
    "for i in a:\n",
    "    if b<i:\n",
    "        b=i\n",
    "print(b)"
   ]
  },
  {
   "cell_type": "code",
   "execution_count": 34,
   "metadata": {},
   "outputs": [
    {
     "name": "stdout",
     "output_type": "stream",
     "text": [
      "10 14\n"
     ]
    }
   ],
   "source": [
    "a=[1,2,3,4,5]\n",
    "add=0\n",
    "l=[]\n",
    "for i in(a):\n",
    "#     print(i)\n",
    "    for j in (a):\n",
    "            add+=j\n",
    "    add-=i\n",
    "    l.append(add)\n",
    "    add=0\n",
    "b=l[0]\n",
    "a=l[0]\n",
    "for i in l:\n",
    "    if b<i:\n",
    "        b=i\n",
    "for i in l:\n",
    "    if a>i:\n",
    "        a=i\n",
    "print(a,b)"
   ]
  },
  {
   "cell_type": "code",
   "execution_count": 40,
   "metadata": {},
   "outputs": [
    {
     "name": "stdout",
     "output_type": "stream",
     "text": [
      "2\n"
     ]
    }
   ],
   "source": [
    "l=[4,4,1,3]\n",
    "a=l[0]\n",
    "for i in l:\n",
    "    if a<i:\n",
    "        a=i\n",
    "c=0\n",
    "for i in l:\n",
    "    if a==i:\n",
    "        c+=1\n",
    "print(c)\n",
    "        \n",
    "\n"
   ]
  },
  {
   "cell_type": "code",
   "execution_count": 9,
   "metadata": {},
   "outputs": [
    {
     "name": "stdout",
     "output_type": "stream",
     "text": [
      "j y\n",
      "a b\n"
     ]
    }
   ],
   "source": [
    "class A():\n",
    "    def __init__(a,b,c):\n",
    "        a.b=b\n",
    "        a.c=c\n",
    "    def p(a):\n",
    "        print(a.b,a.c)\n",
    "class B(A):\n",
    "    def __init__(a,d,e):\n",
    "        a.d=d\n",
    "        a.e=e\n",
    "        super().__init__(d,e)\n",
    "    def p1(a):\n",
    "        print(a.d,a.e)\n",
    "class C(B):\n",
    "    def __init__(a,x,y):\n",
    "        a.x=x\n",
    "        a.y=y\n",
    "        super().__init__(x,y)\n",
    "ob=C('j','y')\n",
    "ob1=C('a','b')\n",
    "ob.p1()\n",
    "ob1.p()\n",
    "    \n",
    "        "
   ]
  },
  {
   "cell_type": "code",
   "execution_count": 9,
   "metadata": {},
   "outputs": [
    {
     "name": "stdout",
     "output_type": "stream",
     "text": [
      "a 2 v 10 b 3\n",
      "aa\n",
      "vvvvvvvvvv\n",
      "bbb\n"
     ]
    }
   ],
   "source": [
    "i=input().split(\" \")\n",
    "b=i\n",
    "for i in range(0,len(b),2):\n",
    "    print(b[i]*int(b[i+1]))\n",
    "    \n",
    "    "
   ]
  },
  {
   "cell_type": "code",
   "execution_count": 1,
   "metadata": {},
   "outputs": [
    {
     "name": "stdout",
     "output_type": "stream",
     "text": [
      "b is greater than a\n"
     ]
    }
   ],
   "source": [
    "a,b=10,20\n",
    "print (\"Both a and b are equal\" if a == b else \"a is greater than b\" if a > b else \"b is greater than a\")\n"
   ]
  },
  {
   "cell_type": "code",
   "execution_count": 129,
   "metadata": {},
   "outputs": [
    {
     "name": "stdout",
     "output_type": "stream",
     "text": [
      "{1: 'k', 2: 'j', 3: 'joel'}\n",
      "{1: 'j', 2: 'k', 3: 'joel'}\n"
     ]
    }
   ],
   "source": [
    "d={1:\"k\",2:\"j\"}\n",
    "d[3]=\"joel\"\n",
    "print(d)\n",
    "for i,j in d.items():\n",
    "#     print(i,j)\n",
    "    for k,l in d.items():\n",
    "        if i<k:\n",
    "            i,k=k,i\n",
    "            d[i],d[k]=d[k],d[i]\n",
    "print(d)\n",
    "\n",
    "\n"
   ]
  },
  {
   "cell_type": "code",
   "execution_count": 16,
   "metadata": {},
   "outputs": [
    {
     "name": "stdout",
     "output_type": "stream",
     "text": [
      "{'a': [1, 2, 3, 4, 5]}\n"
     ]
    }
   ],
   "source": [
    "l=[1,2,3,4,5]\n",
    "d={'a':l}\n",
    "print(d)"
   ]
  },
  {
   "cell_type": "code",
   "execution_count": 29,
   "metadata": {},
   "outputs": [
    {
     "name": "stdout",
     "output_type": "stream",
     "text": [
      "abcdcdc\n",
      "cdc\n",
      "abc\n",
      "bcd\n",
      "cdc\n",
      "dcd\n",
      "cdc\n",
      "2\n"
     ]
    }
   ],
   "source": [
    "s=input()\n",
    "l=input(\"\")\n",
    "a=0\n",
    "b=len(l)\n",
    "c=0\n",
    "for i in range(len(s)):\n",
    "    temp=s[a:b]\n",
    "    if len(temp)==len(l):\n",
    "        print(temp)\n",
    "        if l==temp:\n",
    "            c+=1\n",
    "        a+=1\n",
    "        b+=1\n",
    "print(c)"
   ]
  },
  {
   "cell_type": "code",
   "execution_count": 34,
   "metadata": {},
   "outputs": [
    {
     "name": "stdout",
     "output_type": "stream",
     "text": [
      "25\n",
      "324245252\n"
     ]
    },
    {
     "ename": "NameError",
     "evalue": "name '______' is not defined",
     "output_type": "error",
     "traceback": [
      "\u001b[1;31m---------------------------------------------------------------------------\u001b[0m",
      "\u001b[1;31mNameError\u001b[0m                                 Traceback (most recent call last)",
      "\u001b[1;32m<ipython-input-34-c48be3ba09a9>\u001b[0m in \u001b[0;36m<module>\u001b[1;34m\u001b[0m\n\u001b[0;32m      2\u001b[0m \u001b[0mprint\u001b[0m\u001b[1;33m(\u001b[0m\u001b[0ms\u001b[0m\u001b[1;33m%\u001b[0m\u001b[1;36m100\u001b[0m\u001b[1;33m)\u001b[0m\u001b[1;33m\u001b[0m\u001b[1;33m\u001b[0m\u001b[0m\n\u001b[0;32m      3\u001b[0m \u001b[0mprint\u001b[0m\u001b[1;33m(\u001b[0m\u001b[0ms\u001b[0m\u001b[1;33m//\u001b[0m\u001b[1;36m10\u001b[0m\u001b[1;33m)\u001b[0m\u001b[1;33m\u001b[0m\u001b[1;33m\u001b[0m\u001b[0m\n\u001b[1;32m----> 4\u001b[1;33m \u001b[0mprint\u001b[0m\u001b[1;33m(\u001b[0m\u001b[0m______\u001b[0m\u001b[1;33m)\u001b[0m\u001b[1;33m\u001b[0m\u001b[1;33m\u001b[0m\u001b[0m\n\u001b[0m",
      "\u001b[1;31mNameError\u001b[0m: name '______' is not defined"
     ]
    }
   ],
   "source": [
    "s=3242452525\n",
    "print(s%100)\n",
    "print(s//10)\n",
    "print(______)"
   ]
  },
  {
   "cell_type": "code",
   "execution_count": 43,
   "metadata": {},
   "outputs": [
    {
     "name": "stdout",
     "output_type": "stream",
     "text": [
      "5\n",
      "    H    \n",
      "   HHH   \n",
      "  HHHHH  \n",
      " HHHHHHH \n",
      "HHHHHHHHH\n",
      "  HHHHH               HHHHH             \n",
      "  HHHHH               HHHHH             \n",
      "  HHHHH               HHHHH             \n",
      "  HHHHH               HHHHH             \n",
      "  HHHHH               HHHHH             \n",
      "  HHHHH               HHHHH             \n",
      "  HHHHHHHHHHHHHHHHHHHHHHHHH   \n",
      "  HHHHHHHHHHHHHHHHHHHHHHHHH   \n",
      "  HHHHHHHHHHHHHHHHHHHHHHHHH   \n",
      "  HHHHH               HHHHH             \n",
      "  HHHHH               HHHHH             \n",
      "  HHHHH               HHHHH             \n",
      "  HHHHH               HHHHH             \n",
      "  HHHHH               HHHHH             \n",
      "  HHHHH               HHHHH             \n",
      "                    HHHHHHHHH \n",
      "                     HHHHHHH  \n",
      "                      HHHHH   \n",
      "                       HHH    \n",
      "                        H     \n"
     ]
    }
   ],
   "source": [
    "thickness = int(input()) #This must be an odd number\n",
    "c = 'H'\n",
    "\n",
    "#Top Cone\n",
    "for i in range(thickness):\n",
    "    print((c*i).rjust(thickness-1)+c+(c*i).ljust(thickness-1))\n",
    "\n",
    "#Top Pillars\n",
    "for i in range(thickness+1):\n",
    "    print((c*thickness).center(thickness*2)+(c*thickness).center(thickness*6))\n",
    "\n",
    "#Middle Belt\n",
    "for i in range((thickness+1)//2):\n",
    "    print((c*thickness*5).center(thickness*6))    \n",
    "\n",
    "#Bottom Pillars\n",
    "for i in range(thickness+1):\n",
    "    print((c*thickness).center(thickness*2)+(c*thickness).center(thickness*6))    \n",
    "\n",
    "#Bottom Cone\n",
    "for i in range(thickness):\n",
    "    print(((c*(thickness-i-1)).rjust(thickness)+c+(c*(thickness-i-1)).ljust(thickness)).rjust(thickness*6))"
   ]
  },
  {
   "cell_type": "code",
   "execution_count": 73,
   "metadata": {},
   "outputs": [
    {
     "name": "stdout",
     "output_type": "stream",
     "text": [
      "[1, 2, 3, 6, 7, 8, 4, 5]\n"
     ]
    }
   ],
   "source": [
    "l=[1,2,3,4,5]\n",
    "l[3:0]=[6,7,8]\n",
    "print(l)\n",
    "    "
   ]
  },
  {
   "cell_type": "code",
   "execution_count": 77,
   "metadata": {},
   "outputs": [
    {
     "name": "stdout",
     "output_type": "stream",
     "text": [
      ">>3\n",
      "4\n",
      "[1, 2, 3, 4, 3, 5] 💕\n"
     ]
    }
   ],
   "source": [
    "l=[1,2,3,4,5]\n",
    "s=int(input(\">>\"))\n",
    "l2=[s]\n",
    "l3=[]\n",
    "c=0\n",
    "j=int(input())\n",
    "for i in l:\n",
    "    l3+=[i]\n",
    "    c+=1\n",
    "    if c==j:\n",
    "        l3+=l2\n",
    "print(l3,\"💕\")\n",
    "\n",
    "        \n",
    "        "
   ]
  },
  {
   "cell_type": "code",
   "execution_count": 95,
   "metadata": {},
   "outputs": [
    {
     "name": "stdout",
     "output_type": "stream",
     "text": [
      "python python\n",
      "<class 'str'>\n",
      "joelpython program python program\n"
     ]
    }
   ],
   "source": [
    "s=\"python program\"\n",
    "print(s.replace('program','python'))\n",
    "print(type(s))\n",
    "j=\"joel\" +s\n",
    "print(j,s)"
   ]
  },
  {
   "cell_type": "code",
   "execution_count": 27,
   "metadata": {},
   "outputs": [
    {
     "name": "stdout",
     "output_type": "stream",
     "text": [
      "1 2\n",
      "1 3\n",
      "1 4\n",
      "1 5\n",
      "[2, 3, 4, 5, 1]\n"
     ]
    }
   ],
   "source": [
    "l=[1,2,3,4,5]\n",
    "for i in range(len(l)-1):\n",
    "    print(l[i],l[i+1])\n",
    "    if l[i]<l[i+1]:\n",
    "        l[i],l[i+1]=l[i+1],l[i]\n",
    "print(l)"
   ]
  },
  {
   "cell_type": "code",
   "execution_count": 67,
   "metadata": {},
   "outputs": [
    {
     "name": "stdout",
     "output_type": "stream",
     "text": [
      "54321\n",
      "5432\n",
      "543\n",
      "54\n",
      "5\n"
     ]
    }
   ],
   "source": [
    "# n=5\n",
    "for i in range(0,5):\n",
    "    for j in range(5,i,-1):\n",
    "        print(j,end=\"\")\n",
    "    print()\n",
    "    "
   ]
  },
  {
   "cell_type": "code",
   "execution_count": 3,
   "metadata": {},
   "outputs": [
    {
     "name": "stdout",
     "output_type": "stream",
     "text": [
      "     *\n",
      "    **\n",
      "   ***\n",
      "  ****\n",
      " *****\n"
     ]
    }
   ],
   "source": [
    "n=5\n",
    "a=1\n",
    "for i in range(n):\n",
    "    for j in range(n,i,-1):\n",
    "        print(\" \",end=\"\")\n",
    "#     print()\n",
    "#         print(1)\n",
    "\n",
    "    for k in range(0,i+1):\n",
    "        print(\"*\",end=\"\")\n",
    "#         if i==j:\n",
    "#             print(a,end=\"\")\n",
    "#             a=1\n",
    "#         else:\n",
    "#             print(a,end=\"\")\n",
    "#             a+=1\n",
    "    print()\n",
    "#     a=1\n",
    "    "
   ]
  },
  {
   "cell_type": "code",
   "execution_count": 4,
   "metadata": {},
   "outputs": [
    {
     "name": "stdout",
     "output_type": "stream",
     "text": [
      "     \n",
      "    1\n",
      "   21\n",
      "  321\n",
      " 4321\n"
     ]
    }
   ],
   "source": [
    "n=5\n",
    "a=1\n",
    "for i in range(n):\n",
    "    l=i\n",
    "    for j in range(n,i,-1):\n",
    "        print(\" \",end=\"\")\n",
    "\n",
    "    for k in range(0,l):\n",
    "        print(l,end=\"\")\n",
    "        a+=1\n",
    "        l-=1\n",
    "    print()\n",
    "    a=1"
   ]
  },
  {
   "cell_type": "code",
   "execution_count": 12,
   "metadata": {},
   "outputs": [
    {
     "name": "stdout",
     "output_type": "stream",
     "text": [
      "     9\n",
      "    98\n",
      "   987\n",
      "  9876\n",
      " 98765\n"
     ]
    }
   ],
   "source": [
    "n=5\n",
    "a=9\n",
    "for i in range(n):\n",
    "    l=i\n",
    "    for j in range(n,i,-1):\n",
    "        print(\" \",end=\"\")\n",
    "        \n",
    "        \n",
    "    for k in range(0,l+1):\n",
    "        print(a,end=\"\")\n",
    "        a-=1\n",
    "    print()\n",
    "    a=9"
   ]
  },
  {
   "cell_type": "code",
   "execution_count": 5,
   "metadata": {},
   "outputs": [
    {
     "name": "stdout",
     "output_type": "stream",
     "text": [
      "['ravi', 'rajnish', 'sanjeev', 'yash', 'suraj']\n",
      "['rajnish', 'ravi', 'sanjeev', 'suraj', 'yash']\n",
      "{'rajnish': 9, 'ravi': 10, 'sanjeev': 15, 'suraj': 32, 'yash': 2}\n"
     ]
    }
   ],
   "source": [
    "\n",
    "myDict = {'ravi': 10, 'rajnish': 9,\n",
    "        'sanjeev': 15, 'yash': 2, 'suraj': 32}\n",
    " \n",
    "myKeys = list(myDict.keys())\n",
    "print(myKeys)\n",
    "myKeys.sort()\n",
    "print(myKeys)\n",
    "sorted_dict = {i: myDict[i] for i in myKeys}\n",
    "\n",
    "print(sorted_dict)"
   ]
  },
  {
   "cell_type": "code",
   "execution_count": 7,
   "metadata": {},
   "outputs": [
    {
     "name": "stdout",
     "output_type": "stream",
     "text": [
      "['ravi', 'rajnish', 'sanjeev', 'yash', 'suraj']\n",
      "['rajnish', 'ravi', 'sanjeev', 'suraj', 'yash']\n",
      "{'rajnish': 9}\n",
      "{'ravi': 10}\n",
      "{'sanjeev': 15}\n",
      "{'suraj': 32}\n",
      "{'yash': 2}\n"
     ]
    }
   ],
   "source": [
    "myDict = {'ravi': 10, 'rajnish': 9,\n",
    "        'sanjeev': 15, 'yash': 2, 'suraj': 32}\n",
    " \n",
    "myKeys = list(myDict.keys())\n",
    "print(myKeys)\n",
    "myKeys.sort()\n",
    "print(myKeys)\n",
    "for i in myKeys:\n",
    "    d={i:myDict[i]}\n",
    "    print(d)"
   ]
  },
  {
   "cell_type": "code",
   "execution_count": 15,
   "metadata": {},
   "outputs": [
    {
     "name": "stdout",
     "output_type": "stream",
     "text": [
      "9\n",
      "*********\n",
      "*\n",
      "*\n",
      "*\n",
      "*\n",
      "*\n",
      "*\n",
      "*\n",
      "*********\n"
     ]
    }
   ],
   "source": [
    "n=int(input())\n",
    "for i in range(n):\n",
    "    if i==0 or i==n-1:\n",
    "        for i in range(n):\n",
    "            print(\"*\",end=\"\")\n",
    "    else:\n",
    "        for i in range(1):\n",
    "            print(\"*\",end=\"\")\n",
    "    print()"
   ]
  },
  {
   "cell_type": "code",
   "execution_count": 22,
   "metadata": {},
   "outputs": [
    {
     "name": "stdout",
     "output_type": "stream",
     "text": [
      "0\n"
     ]
    }
   ],
   "source": [
    "a=0\n",
    "for i in range(100,200):\n",
    "    i=1000\n",
    "    while(i):\n",
    "        temp=i%10\n",
    "        i//=10\n",
    "        if temp==3:\n",
    "            a+=1\n",
    "print(a)"
   ]
  },
  {
   "cell_type": "code",
   "execution_count": null,
   "metadata": {},
   "outputs": [
    {
     "name": "stdout",
     "output_type": "stream",
     "text": [
      "enter input1\n",
      "[1, 2, 3, 4]\n",
      "enter2\n",
      "enter input2\n",
      "enter3\n",
      "[1, 3, 4]\n",
      "enter input1\n",
      "added 2\n",
      "[1, 4, 2]\n",
      "enter1\n",
      "enter input1\n",
      "added 1\n",
      "[4, 2, 1]\n"
     ]
    }
   ],
   "source": [
    "l=[1,2,3,4]\n",
    "l1=[]\n",
    "x=0\n",
    "def a(x,res=0):\n",
    "    \n",
    "    if x>1:\n",
    "        l.append(res)\n",
    "        print(\"added\",res)\n",
    "    print(l)\n",
    "    a=int(input(\"enter\"))\n",
    "    a2 = a\n",
    "    l.remove(a)\n",
    "    l1.append(a)\n",
    "    return a2\n",
    "def b():\n",
    "    \n",
    "    b=int(input(\"enter\"))\n",
    "    print(l)\n",
    "    l.remove(b)\n",
    "    l1.append(a)\n",
    "while(\"true\"):\n",
    "    inp=int(input(\"enter input\"))\n",
    "    if inp == 1:\n",
    "        if x<1:\n",
    "            x+=1\n",
    "            res = a(x)\n",
    "        else:\n",
    "            x+=1\n",
    "            res = a(x,res)\n",
    "        \n",
    "    elif inp==2:\n",
    "        b()\n",
    "    else:\n",
    "        print(\"bye\")\n",
    "        \n",
    "    "
   ]
  },
  {
   "cell_type": "code",
   "execution_count": 5,
   "metadata": {},
   "outputs": [
    {
     "name": "stdout",
     "output_type": "stream",
     "text": [
      "[1, 2, 3, 4, 5, 6]\n",
      "1\n",
      "2\n",
      "3\n",
      "4\n",
      "5\n",
      "6\n"
     ]
    }
   ],
   "source": [
    "arr = [1,2,3,4,5,6]\n",
    "print(arr)\n",
    "i=0\n",
    "while(i<len(arr)):\n",
    "    print(arr[i])\n",
    "    i+=1"
   ]
  },
  {
   "cell_type": "code",
   "execution_count": 17,
   "metadata": {},
   "outputs": [
    {
     "name": "stdout",
     "output_type": "stream",
     "text": [
      "[1, 2, 3]\n"
     ]
    }
   ],
   "source": [
    "arr = [1,2,3,4,5,6]\n",
    "print(arr[0:3])"
   ]
  },
  {
   "cell_type": "code",
   "execution_count": 1,
   "metadata": {},
   "outputs": [
    {
     "name": "stdout",
     "output_type": "stream",
     "text": [
      "s\n",
      "j\n"
     ]
    }
   ],
   "source": [
    "print(\"s\\nj\")"
   ]
  },
  {
   "cell_type": "code",
   "execution_count": 7,
   "metadata": {},
   "outputs": [],
   "source": [
    "import numpy as x"
   ]
  },
  {
   "cell_type": "code",
   "execution_count": 13,
   "metadata": {},
   "outputs": [
    {
     "name": "stdout",
     "output_type": "stream",
     "text": [
      "[5 7 9]\n"
     ]
    }
   ],
   "source": [
    "arr1 = x.array([1,2,3])\n",
    "arr2 = x.array([4,5,6])\n",
    "print(x.add(arr1,arr2))"
   ]
  },
  {
   "cell_type": "code",
   "execution_count": 1,
   "metadata": {},
   "outputs": [
    {
     "name": "stdout",
     "output_type": "stream",
     "text": [
      "GeeksforGeeks\n"
     ]
    }
   ],
   "source": [
    "# Python program to \n",
    "# demonstrate private members \n",
    "\n",
    "# Creating a Base class \n",
    "\n",
    "\n",
    "class Base: \n",
    "\tdef __init__(self): \n",
    "\t\tself.a = \"GeeksforGeeks\"\n",
    "\t\tself.__c = \"GeeksforGeeks\"\n",
    "\n",
    "# Creating a derived class \n",
    "class Derived(Base): \n",
    "\tdef __init__(self): \n",
    "\n",
    "\t\t# Calling constructor of \n",
    "\t\t# Base class \n",
    "\t\tBase.__init__(self) \n",
    "\t\tprint(\"Calling private member of base class: \") \n",
    "\t\tprint(self.__c) \n",
    "\n",
    "\n",
    "# Driver code \n",
    "obj1 = Base() \n",
    "print(obj1.a) \n",
    "\n",
    "# Uncommenting print(obj1.c) will \n",
    "# raise an AttributeError \n",
    "\n",
    "# Uncommenting obj2 = Derived() will \n",
    "# also raise an AttributeError as \n",
    "# private member of base class \n",
    "# is called inside derived class \n"
   ]
  },
  {
   "cell_type": "code",
   "execution_count": 3,
   "metadata": {},
   "outputs": [
    {
     "name": "stdout",
     "output_type": "stream",
     "text": [
      "55\n"
     ]
    }
   ],
   "source": [
    "n=10\n",
    "res = (n*(n+1))//2\n",
    "print(res)"
   ]
  },
  {
   "cell_type": "code",
   "execution_count": 4,
   "metadata": {},
   "outputs": [
    {
     "name": "stdout",
     "output_type": "stream",
     "text": [
      "4950\n"
     ]
    }
   ],
   "source": [
    "t=0\n",
    "for i in range(100):\n",
    "    t+=i\n",
    "print(t)"
   ]
  },
  {
   "cell_type": "code",
   "execution_count": null,
   "metadata": {},
   "outputs": [],
   "source": []
  }
 ],
 "metadata": {
  "kernelspec": {
   "display_name": "Python 3",
   "language": "python",
   "name": "python3"
  },
  "language_info": {
   "codemirror_mode": {
    "name": "ipython",
    "version": 3
   },
   "file_extension": ".py",
   "mimetype": "text/x-python",
   "name": "python",
   "nbconvert_exporter": "python",
   "pygments_lexer": "ipython3",
   "version": "3.8.5"
  }
 },
 "nbformat": 4,
 "nbformat_minor": 4
}
